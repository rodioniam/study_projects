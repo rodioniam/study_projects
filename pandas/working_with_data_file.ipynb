{
 "cells": [
  {
   "cell_type": "code",
   "execution_count": 57,
   "id": "2a730f47",
   "metadata": {},
   "outputs": [],
   "source": [
    "import pandas as pd"
   ]
  },
  {
   "cell_type": "code",
   "execution_count": 58,
   "id": "e583e081",
   "metadata": {},
   "outputs": [],
   "source": [
    "# using encoding because file has cyrillic characters\n",
    "df = pd.read_csv('data.txt', encoding='windows-1251')"
   ]
  },
  {
   "cell_type": "code",
   "execution_count": 59,
   "id": "bf3a3591",
   "metadata": {},
   "outputs": [
    {
     "data": {
      "application/vnd.microsoft.datawrangler.viewer.v0+json": {
       "columns": [
        {
         "name": "index",
         "rawType": "int64",
         "type": "integer"
        },
        {
         "name": "DR_Dat",
         "rawType": "object",
         "type": "string"
        },
        {
         "name": "DR_Tim",
         "rawType": "object",
         "type": "string"
        },
        {
         "name": "DR_NChk",
         "rawType": "int64",
         "type": "integer"
        },
        {
         "name": "DR_NDoc",
         "rawType": "int64",
         "type": "integer"
        },
        {
         "name": "DR_Apt",
         "rawType": "int64",
         "type": "integer"
        },
        {
         "name": "DR_Kkm",
         "rawType": "int64",
         "type": "integer"
        },
        {
         "name": "DR_TDoc",
         "rawType": "object",
         "type": "string"
        },
        {
         "name": "DR_TPay",
         "rawType": "int64",
         "type": "integer"
        },
        {
         "name": "DR_CDrugs",
         "rawType": "int64",
         "type": "integer"
        },
        {
         "name": "DR_NDrugs",
         "rawType": "object",
         "type": "string"
        },
        {
         "name": "DR_Suppl",
         "rawType": "object",
         "type": "string"
        },
        {
         "name": "DR_Prod",
         "rawType": "object",
         "type": "string"
        },
        {
         "name": "DR_Kol",
         "rawType": "float64",
         "type": "float"
        },
        {
         "name": "DR_CZak",
         "rawType": "float64",
         "type": "float"
        },
        {
         "name": "DR_CRoz",
         "rawType": "float64",
         "type": "float"
        },
        {
         "name": "DR_SDisc",
         "rawType": "float64",
         "type": "float"
        },
        {
         "name": "DR_CDisc",
         "rawType": "float64",
         "type": "float"
        },
        {
         "name": "DR_BCDisc",
         "rawType": "float64",
         "type": "float"
        },
        {
         "name": "DR_TabEmpl",
         "rawType": "int64",
         "type": "integer"
        },
        {
         "name": "DR_VZak",
         "rawType": "int64",
         "type": "integer"
        },
        {
         "name": "DR_Pos",
         "rawType": "float64",
         "type": "float"
        }
       ],
       "ref": "2827f8b7-8d77-46cd-a867-80533e518d2b",
       "rows": [
        [
         "0",
         "2022-08-11",
         "10:15:35",
         "2173",
         "2004598",
         "2",
         "22577",
         "Розничная реализация",
         "18",
         "45399",
         "ЦИПРОЛЕТ 3МГ/МЛ. 5МЛ. №1 ГЛ.КАПЛИ ФЛ./КАП. /Д-Р РЕДДИ/",
         "Катрен г.Химки",
         "Д-р Редди с Лабораторис Лтд / Dr.REDDY's",
         "1.0",
         "41.08",
         "51.0",
         "12.0",
         "925.0",
         "200000000492.0",
         "205",
         "1",
         "1.0"
        ],
        [
         "1",
         "2022-08-11",
         "10:27:46",
         "2174",
         "2004598",
         "2",
         "22577",
         "Розничная реализация",
         "15",
         "261519",
         "ПЕРЕКИСЬ ВОДОРОДА 3% 100МЛ. №40 Р-Р ФЛ.",
         "Катрен г.Химки",
         "ФЛОРА КАВКАЗА ОАО",
         "1.0",
         "18.61",
         "31.0",
         "3.0",
         "9.0",
         "200010010204.0",
         "205",
         "1",
         "1.0"
        ],
        [
         "2",
         "2022-08-11",
         "10:27:46",
         "2174",
         "2004598",
         "2",
         "22577",
         "Розничная реализация",
         "15",
         "460864",
         "СОФЬЯ ГЕЛЬ Д/НОГ ВЕНОТОНИЗ. ТРОКСЕРУТИН ФОРТЕ 125МЛ.",
         "Катрен г.Химки",
         "КОРОЛЕВФАРМ ООО",
         "1.0",
         "132.69",
         "209.0",
         "20.0",
         "9.0",
         "200010010204.0",
         "205",
         "1",
         "2.0"
        ],
        [
         "3",
         "2022-08-11",
         "10:27:46",
         "2174",
         "2004598",
         "2",
         "22577",
         "Розничная реализация",
         "15",
         "172823",
         "СОФЬЯ ГХК КРЕМ Д/ТЕЛА ХОНДРОИТИН+ГЛЮКОЗАМИН 125МЛ. ТУБА",
         "Катрен г.Химки",
         "КОРОЛЕВФАРМ ООО",
         "1.0",
         "133.65",
         "210.0",
         "21.0",
         "9.0",
         "200010010204.0",
         "205",
         "1",
         "3.0"
        ],
        [
         "4",
         "2022-08-11",
         "10:33:56",
         "2175",
         "2004598",
         "2",
         "22577",
         "Розничная реализация",
         "18",
         "79056",
         "ГАЛВУС 50МГ. №28 ТАБ. /НОВАРТИС/",
         "Катрен г.Химки",
         "Новартис Фарма АГ",
         "1.0",
         "709.95",
         "787.0",
         "49.0",
         "925.0",
         "200000000492.0",
         "205",
         "1",
         "1.0"
        ],
        [
         "5",
         "2022-08-11",
         "10:40:38",
         "2176",
         "2004598",
         "2",
         "22577",
         "Розничная реализация",
         "18",
         "187304",
         "БИСОПРОЛОЛ 5МГ. №60 ТАБ. П/П/О /ВЕРТЕКС/",
         "Пульс",
         "ВЕРТЕКС",
         "1.0",
         "152.9",
         "182.0",
         "9.0",
         "9.0",
         "200010001947.0",
         "205",
         "1",
         "1.0"
        ],
        [
         "6",
         "2022-08-11",
         "10:40:38",
         "2176",
         "2004598",
         "2",
         "22577",
         "Розничная реализация",
         "18",
         "1261",
         "ТРИХОПОЛ 250МГ. №20 ТАБ. /ПОЛЬФАРМА/",
         "ГРАНД КАПИТАЛ СМОЛЕНСК ООО ФК",
         "Польфарма Фармацевтический завод С.А.",
         "1.0",
         "67.94",
         "85.0",
         "4.0",
         "9.0",
         "200010001947.0",
         "205",
         "1",
         "2.0"
        ],
        [
         "7",
         "2022-08-11",
         "10:52:52",
         "2177",
         "2004598",
         "2",
         "22577",
         "Розничная реализация",
         "18",
         "2566",
         "НОРВАСК 5МГ. №30 ТАБ. /ПФАЙЗЕР/АПДЖОН/",
         "Катрен г.Химки",
         "PFIZER",
         "1.0",
         "157.76",
         "189.0",
         "9.0",
         "9.0",
         "200010013331.0",
         "205",
         "1",
         "3.0"
        ],
        [
         "8",
         "2022-08-11",
         "10:52:52",
         "2177",
         "2004598",
         "2",
         "22577",
         "Розничная реализация",
         "18",
         "2566",
         "НОРВАСК 5МГ. №30 ТАБ. /ПФАЙЗЕР/АПДЖОН/",
         "Катрен г.Химки",
         "PFIZER",
         "1.0",
         "159.4",
         "191.0",
         "9.0",
         "9.0",
         "200010013331.0",
         "205",
         "1",
         "4.0"
        ],
        [
         "9",
         "2022-08-11",
         "10:52:52",
         "2177",
         "2004598",
         "2",
         "22577",
         "Розничная реализация",
         "18",
         "5155",
         "СОТАГЕКСАЛ 80МГ. №20 ТАБ. /ГЕКСАЛ АГ/",
         "Катрен г.Химки",
         "SALUTAS PHARMA GMBH FOR ESPARM ( САЛЮТАС )",
         "1.0",
         "71.97",
         "90.0",
         "4.0",
         "9.0",
         "200010013331.0",
         "205",
         "1",
         "5.0"
        ]
       ],
       "shape": {
        "columns": 21,
        "rows": 10
       }
      },
      "text/html": [
       "<div>\n",
       "<style scoped>\n",
       "    .dataframe tbody tr th:only-of-type {\n",
       "        vertical-align: middle;\n",
       "    }\n",
       "\n",
       "    .dataframe tbody tr th {\n",
       "        vertical-align: top;\n",
       "    }\n",
       "\n",
       "    .dataframe thead th {\n",
       "        text-align: right;\n",
       "    }\n",
       "</style>\n",
       "<table border=\"1\" class=\"dataframe\">\n",
       "  <thead>\n",
       "    <tr style=\"text-align: right;\">\n",
       "      <th></th>\n",
       "      <th>DR_Dat</th>\n",
       "      <th>DR_Tim</th>\n",
       "      <th>...</th>\n",
       "      <th>DR_VZak</th>\n",
       "      <th>DR_Pos</th>\n",
       "    </tr>\n",
       "  </thead>\n",
       "  <tbody>\n",
       "    <tr>\n",
       "      <th>0</th>\n",
       "      <td>2022-08-11</td>\n",
       "      <td>10:15:35</td>\n",
       "      <td>...</td>\n",
       "      <td>1</td>\n",
       "      <td>1.00</td>\n",
       "    </tr>\n",
       "    <tr>\n",
       "      <th>1</th>\n",
       "      <td>2022-08-11</td>\n",
       "      <td>10:27:46</td>\n",
       "      <td>...</td>\n",
       "      <td>1</td>\n",
       "      <td>1.00</td>\n",
       "    </tr>\n",
       "    <tr>\n",
       "      <th>2</th>\n",
       "      <td>2022-08-11</td>\n",
       "      <td>10:27:46</td>\n",
       "      <td>...</td>\n",
       "      <td>1</td>\n",
       "      <td>2.00</td>\n",
       "    </tr>\n",
       "    <tr>\n",
       "      <th>3</th>\n",
       "      <td>2022-08-11</td>\n",
       "      <td>10:27:46</td>\n",
       "      <td>...</td>\n",
       "      <td>1</td>\n",
       "      <td>3.00</td>\n",
       "    </tr>\n",
       "    <tr>\n",
       "      <th>4</th>\n",
       "      <td>2022-08-11</td>\n",
       "      <td>10:33:56</td>\n",
       "      <td>...</td>\n",
       "      <td>1</td>\n",
       "      <td>1.00</td>\n",
       "    </tr>\n",
       "    <tr>\n",
       "      <th>5</th>\n",
       "      <td>2022-08-11</td>\n",
       "      <td>10:40:38</td>\n",
       "      <td>...</td>\n",
       "      <td>1</td>\n",
       "      <td>1.00</td>\n",
       "    </tr>\n",
       "    <tr>\n",
       "      <th>6</th>\n",
       "      <td>2022-08-11</td>\n",
       "      <td>10:40:38</td>\n",
       "      <td>...</td>\n",
       "      <td>1</td>\n",
       "      <td>2.00</td>\n",
       "    </tr>\n",
       "    <tr>\n",
       "      <th>7</th>\n",
       "      <td>2022-08-11</td>\n",
       "      <td>10:52:52</td>\n",
       "      <td>...</td>\n",
       "      <td>1</td>\n",
       "      <td>3.00</td>\n",
       "    </tr>\n",
       "    <tr>\n",
       "      <th>8</th>\n",
       "      <td>2022-08-11</td>\n",
       "      <td>10:52:52</td>\n",
       "      <td>...</td>\n",
       "      <td>1</td>\n",
       "      <td>4.00</td>\n",
       "    </tr>\n",
       "    <tr>\n",
       "      <th>9</th>\n",
       "      <td>2022-08-11</td>\n",
       "      <td>10:52:52</td>\n",
       "      <td>...</td>\n",
       "      <td>1</td>\n",
       "      <td>5.00</td>\n",
       "    </tr>\n",
       "  </tbody>\n",
       "</table>\n",
       "<p>10 rows × 21 columns</p>\n",
       "</div>"
      ],
      "text/plain": [
       "       DR_Dat    DR_Tim  ...  DR_VZak  DR_Pos\n",
       "0  2022-08-11  10:15:35  ...        1    1.00\n",
       "1  2022-08-11  10:27:46  ...        1    1.00\n",
       "2  2022-08-11  10:27:46  ...        1    2.00\n",
       "3  2022-08-11  10:27:46  ...        1    3.00\n",
       "4  2022-08-11  10:33:56  ...        1    1.00\n",
       "5  2022-08-11  10:40:38  ...        1    1.00\n",
       "6  2022-08-11  10:40:38  ...        1    2.00\n",
       "7  2022-08-11  10:52:52  ...        1    3.00\n",
       "8  2022-08-11  10:52:52  ...        1    4.00\n",
       "9  2022-08-11  10:52:52  ...        1    5.00\n",
       "\n",
       "[10 rows x 21 columns]"
      ]
     },
     "execution_count": 59,
     "metadata": {},
     "output_type": "execute_result"
    }
   ],
   "source": [
    "# display n-amount of first rows of dataframe (default 5)\n",
    "df.head(10)"
   ]
  },
  {
   "cell_type": "code",
   "execution_count": 60,
   "id": "639caa97",
   "metadata": {},
   "outputs": [
    {
     "data": {
      "application/vnd.microsoft.datawrangler.viewer.v0+json": {
       "columns": [
        {
         "name": "index",
         "rawType": "int64",
         "type": "integer"
        },
        {
         "name": "DR_Dat",
         "rawType": "object",
         "type": "string"
        },
        {
         "name": "DR_Tim",
         "rawType": "object",
         "type": "string"
        },
        {
         "name": "DR_NChk",
         "rawType": "int64",
         "type": "integer"
        },
        {
         "name": "DR_NDoc",
         "rawType": "int64",
         "type": "integer"
        },
        {
         "name": "DR_Apt",
         "rawType": "int64",
         "type": "integer"
        },
        {
         "name": "DR_Kkm",
         "rawType": "int64",
         "type": "integer"
        },
        {
         "name": "DR_TDoc",
         "rawType": "object",
         "type": "string"
        },
        {
         "name": "DR_TPay",
         "rawType": "int64",
         "type": "integer"
        },
        {
         "name": "DR_CDrugs",
         "rawType": "int64",
         "type": "integer"
        },
        {
         "name": "DR_NDrugs",
         "rawType": "object",
         "type": "string"
        },
        {
         "name": "DR_Suppl",
         "rawType": "object",
         "type": "string"
        },
        {
         "name": "DR_Prod",
         "rawType": "object",
         "type": "string"
        },
        {
         "name": "DR_Kol",
         "rawType": "float64",
         "type": "float"
        },
        {
         "name": "DR_CZak",
         "rawType": "float64",
         "type": "float"
        },
        {
         "name": "DR_CRoz",
         "rawType": "float64",
         "type": "float"
        },
        {
         "name": "DR_SDisc",
         "rawType": "float64",
         "type": "float"
        },
        {
         "name": "DR_CDisc",
         "rawType": "float64",
         "type": "float"
        },
        {
         "name": "DR_BCDisc",
         "rawType": "float64",
         "type": "float"
        },
        {
         "name": "DR_TabEmpl",
         "rawType": "int64",
         "type": "integer"
        },
        {
         "name": "DR_VZak",
         "rawType": "int64",
         "type": "integer"
        },
        {
         "name": "DR_Pos",
         "rawType": "float64",
         "type": "float"
        }
       ],
       "ref": "7cfc8e18-5370-49f0-9615-787ed80752f0",
       "rows": [
        [
         "4457",
         "2022-08-12",
         "21:40:17",
         "5690",
         "18002542",
         "18",
         "9907",
         "Розничная реализация",
         "18",
         "463100",
         "КЕТОРОЛ ЭКСПРЕСС 10МГ. №20 ТАБ. ДИСПЕРГ. /Д-Р РЕДДИС/",
         "ГРАНД КАПИТАЛ СМОЛЕНСК ООО ФК",
         "Д-р Редди с Лабораторис Лтд / Dr.REDDY's",
         "1.0",
         "47.88",
         "75.0",
         "0.0",
         null,
         null,
         "48",
         "1",
         "1.0"
        ],
        [
         "4458",
         "2022-08-12",
         "21:40:59",
         "5691",
         "18002542",
         "18",
         "9907",
         "Розничная реализация",
         "18",
         "112158",
         "АНТИПОЛИЦАЙ ВАЙТ №6 ТАБ.",
         "Протек",
         "ИНАТ-ФАРМА",
         "1.0",
         "59.51",
         "93.0",
         "0.0",
         null,
         null,
         "48",
         "1",
         "1.0"
        ],
        [
         "4459",
         "2022-08-12",
         "21:43:48",
         "5692",
         "18002542",
         "18",
         "9907",
         "Розничная реализация",
         "18",
         "260990",
         "СИЛДЕНАФИЛ-СЗ 50МГ. №10 ТАБ. П/П/О /СЕВЕРНАЯ ЗВЕЗДА/",
         "Авеста",
         "Северная Звезда",
         "1.0",
         "297.74",
         "396.0",
         "0.0",
         null,
         null,
         "48",
         "1",
         "1.0"
        ],
        [
         "4460",
         "2022-08-12",
         "21:44:46",
         "5693",
         "18002542",
         "18",
         "9907",
         "Розничная реализация",
         "18",
         "41512",
         "ТОБРАЗОН 5МЛ. ГЛ.КАПЛИ ФЛ.",
         "Катрен г.Химки",
         "Кадила Фармасьютикалз Лтд  ( CADILA )",
         "1.0",
         "322.06",
         "419.0",
         "0.0",
         null,
         null,
         "48",
         "1",
         "1.0"
        ],
        [
         "4461",
         "2022-08-12",
         "21:46:08",
         "5694",
         "18002542",
         "18",
         "9907",
         "Розничная реализация",
         "15",
         "25673",
         "БЕЛЬВЕДЕР ЛАК П/ОБГРЫЗАНИЯ НОГТЕЙ 8МЛ. [BELWEDER]",
         "Катрен г.Химки",
         "BELWEDER NORD SIA",
         "1.0",
         "238.62",
         "346.0",
         "34.0",
         "9.0",
         "200010027618.0",
         "48",
         "1",
         "1.0"
        ]
       ],
       "shape": {
        "columns": 21,
        "rows": 5
       }
      },
      "text/html": [
       "<div>\n",
       "<style scoped>\n",
       "    .dataframe tbody tr th:only-of-type {\n",
       "        vertical-align: middle;\n",
       "    }\n",
       "\n",
       "    .dataframe tbody tr th {\n",
       "        vertical-align: top;\n",
       "    }\n",
       "\n",
       "    .dataframe thead th {\n",
       "        text-align: right;\n",
       "    }\n",
       "</style>\n",
       "<table border=\"1\" class=\"dataframe\">\n",
       "  <thead>\n",
       "    <tr style=\"text-align: right;\">\n",
       "      <th></th>\n",
       "      <th>DR_Dat</th>\n",
       "      <th>DR_Tim</th>\n",
       "      <th>...</th>\n",
       "      <th>DR_VZak</th>\n",
       "      <th>DR_Pos</th>\n",
       "    </tr>\n",
       "  </thead>\n",
       "  <tbody>\n",
       "    <tr>\n",
       "      <th>4457</th>\n",
       "      <td>2022-08-12</td>\n",
       "      <td>21:40:17</td>\n",
       "      <td>...</td>\n",
       "      <td>1</td>\n",
       "      <td>1.00</td>\n",
       "    </tr>\n",
       "    <tr>\n",
       "      <th>4458</th>\n",
       "      <td>2022-08-12</td>\n",
       "      <td>21:40:59</td>\n",
       "      <td>...</td>\n",
       "      <td>1</td>\n",
       "      <td>1.00</td>\n",
       "    </tr>\n",
       "    <tr>\n",
       "      <th>4459</th>\n",
       "      <td>2022-08-12</td>\n",
       "      <td>21:43:48</td>\n",
       "      <td>...</td>\n",
       "      <td>1</td>\n",
       "      <td>1.00</td>\n",
       "    </tr>\n",
       "    <tr>\n",
       "      <th>4460</th>\n",
       "      <td>2022-08-12</td>\n",
       "      <td>21:44:46</td>\n",
       "      <td>...</td>\n",
       "      <td>1</td>\n",
       "      <td>1.00</td>\n",
       "    </tr>\n",
       "    <tr>\n",
       "      <th>4461</th>\n",
       "      <td>2022-08-12</td>\n",
       "      <td>21:46:08</td>\n",
       "      <td>...</td>\n",
       "      <td>1</td>\n",
       "      <td>1.00</td>\n",
       "    </tr>\n",
       "  </tbody>\n",
       "</table>\n",
       "<p>5 rows × 21 columns</p>\n",
       "</div>"
      ],
      "text/plain": [
       "          DR_Dat    DR_Tim  ...  DR_VZak  DR_Pos\n",
       "4457  2022-08-12  21:40:17  ...        1    1.00\n",
       "4458  2022-08-12  21:40:59  ...        1    1.00\n",
       "4459  2022-08-12  21:43:48  ...        1    1.00\n",
       "4460  2022-08-12  21:44:46  ...        1    1.00\n",
       "4461  2022-08-12  21:46:08  ...        1    1.00\n",
       "\n",
       "[5 rows x 21 columns]"
      ]
     },
     "execution_count": 60,
     "metadata": {},
     "output_type": "execute_result"
    }
   ],
   "source": [
    "# display n-amount of last rows (default 5)\n",
    "df.tail()"
   ]
  },
  {
   "cell_type": "code",
   "execution_count": null,
   "id": "22196a8a",
   "metadata": {},
   "outputs": [],
   "source": [
    "pd.set_option('display.max_columns', 5)\n",
    "pd.describe_option() # describes all available options\n",
    "pd.set_option('display.float_format', '{:.2f}'.format) # i can change format of the data"
   ]
  },
  {
   "cell_type": "code",
   "execution_count": 62,
   "id": "5ca027a8",
   "metadata": {},
   "outputs": [
    {
     "data": {
      "application/vnd.microsoft.datawrangler.viewer.v0+json": {
       "columns": [
        {
         "name": "index",
         "rawType": "object",
         "type": "string"
        },
        {
         "name": "0",
         "rawType": "object",
         "type": "unknown"
        }
       ],
       "ref": "bf6e8bf5-6a33-4a52-a526-714b68080412",
       "rows": [
        [
         "DR_Dat",
         "object"
        ],
        [
         "DR_Tim",
         "object"
        ],
        [
         "DR_NChk",
         "int64"
        ],
        [
         "DR_NDoc",
         "int64"
        ],
        [
         "DR_Apt",
         "int64"
        ],
        [
         "DR_Kkm",
         "int64"
        ],
        [
         "DR_TDoc",
         "object"
        ],
        [
         "DR_TPay",
         "int64"
        ],
        [
         "DR_CDrugs",
         "int64"
        ],
        [
         "DR_NDrugs",
         "object"
        ],
        [
         "DR_Suppl",
         "object"
        ],
        [
         "DR_Prod",
         "object"
        ],
        [
         "DR_Kol",
         "float64"
        ],
        [
         "DR_CZak",
         "float64"
        ],
        [
         "DR_CRoz",
         "float64"
        ],
        [
         "DR_SDisc",
         "float64"
        ],
        [
         "DR_CDisc",
         "float64"
        ],
        [
         "DR_BCDisc",
         "float64"
        ],
        [
         "DR_TabEmpl",
         "int64"
        ],
        [
         "DR_VZak",
         "int64"
        ],
        [
         "DR_Pos",
         "float64"
        ]
       ],
       "shape": {
        "columns": 1,
        "rows": 21
       }
      },
      "text/plain": [
       "DR_Dat         object\n",
       "DR_Tim         object\n",
       "DR_NChk         int64\n",
       "DR_NDoc         int64\n",
       "DR_Apt          int64\n",
       "DR_Kkm          int64\n",
       "DR_TDoc        object\n",
       "DR_TPay         int64\n",
       "DR_CDrugs       int64\n",
       "DR_NDrugs      object\n",
       "DR_Suppl       object\n",
       "DR_Prod        object\n",
       "DR_Kol        float64\n",
       "DR_CZak       float64\n",
       "DR_CRoz       float64\n",
       "DR_SDisc      float64\n",
       "DR_CDisc      float64\n",
       "DR_BCDisc     float64\n",
       "DR_TabEmpl      int64\n",
       "DR_VZak         int64\n",
       "DR_Pos        float64\n",
       "dtype: object"
      ]
     },
     "execution_count": 62,
     "metadata": {},
     "output_type": "execute_result"
    }
   ],
   "source": [
    "df.dtypes # shows type of data in columns"
   ]
  },
  {
   "cell_type": "code",
   "execution_count": 63,
   "id": "a41199eb",
   "metadata": {},
   "outputs": [
    {
     "data": {
      "text/plain": [
       "(4462, 21)"
      ]
     },
     "execution_count": 63,
     "metadata": {},
     "output_type": "execute_result"
    }
   ],
   "source": [
    "# shows amount of columns and rows\n",
    "df.shape"
   ]
  },
  {
   "cell_type": "code",
   "execution_count": 64,
   "id": "71cbb4ad",
   "metadata": {},
   "outputs": [
    {
     "data": {
      "text/plain": [
       "93702"
      ]
     },
     "execution_count": 64,
     "metadata": {},
     "output_type": "execute_result"
    }
   ],
   "source": [
    "# shows amount of elements\n",
    "df.size"
   ]
  },
  {
   "cell_type": "code",
   "execution_count": 65,
   "id": "fc130685",
   "metadata": {},
   "outputs": [
    {
     "data": {
      "text/plain": [
       "Index(['DR_Dat', 'DR_Tim', 'DR_NChk', 'DR_NDoc', 'DR_Apt', 'DR_Kkm', 'DR_TDoc',\n",
       "       'DR_TPay', 'DR_CDrugs', 'DR_NDrugs', 'DR_Suppl', 'DR_Prod', 'DR_Kol',\n",
       "       'DR_CZak', 'DR_CRoz', 'DR_SDisc', 'DR_CDisc', 'DR_BCDisc', 'DR_TabEmpl',\n",
       "       'DR_VZak', 'DR_Pos'],\n",
       "      dtype='object')"
      ]
     },
     "execution_count": 65,
     "metadata": {},
     "output_type": "execute_result"
    }
   ],
   "source": [
    "df.columns"
   ]
  },
  {
   "cell_type": "code",
   "execution_count": 66,
   "id": "6fd8d0dd",
   "metadata": {},
   "outputs": [],
   "source": [
    "# here is a list with columns that ill need, i also changed their order\n",
    "user_columns = ['DR_Dat', 'DR_Tim', 'DR_NChk', 'DR_NDoc', \n",
    "                'DR_Apt', 'DR_NDrugs', 'DR_Kol', 'DR_CZak', 'DR_CRoz', \n",
    "                'DR_SDisc', 'DR_TPay', 'DR_CDrugs',  \n",
    "                'DR_Suppl','DR_CDisc', 'DR_BCDisc', 'DR_TabEmpl',\n",
    "                'DR_VZak', 'DR_Pos']"
   ]
  },
  {
   "cell_type": "code",
   "execution_count": 67,
   "id": "e7bff745",
   "metadata": {},
   "outputs": [
    {
     "data": {
      "application/vnd.microsoft.datawrangler.viewer.v0+json": {
       "columns": [
        {
         "name": "index",
         "rawType": "int64",
         "type": "integer"
        },
        {
         "name": "DR_Dat",
         "rawType": "object",
         "type": "string"
        },
        {
         "name": "DR_Tim",
         "rawType": "object",
         "type": "string"
        },
        {
         "name": "DR_NChk",
         "rawType": "int64",
         "type": "integer"
        },
        {
         "name": "DR_NDoc",
         "rawType": "int64",
         "type": "integer"
        },
        {
         "name": "DR_Apt",
         "rawType": "int64",
         "type": "integer"
        },
        {
         "name": "DR_NDrugs",
         "rawType": "object",
         "type": "string"
        },
        {
         "name": "DR_Kol",
         "rawType": "float64",
         "type": "float"
        },
        {
         "name": "DR_CZak",
         "rawType": "float64",
         "type": "float"
        },
        {
         "name": "DR_CRoz",
         "rawType": "float64",
         "type": "float"
        },
        {
         "name": "DR_SDisc",
         "rawType": "float64",
         "type": "float"
        },
        {
         "name": "DR_TPay",
         "rawType": "int64",
         "type": "integer"
        },
        {
         "name": "DR_CDrugs",
         "rawType": "int64",
         "type": "integer"
        },
        {
         "name": "DR_Suppl",
         "rawType": "object",
         "type": "string"
        },
        {
         "name": "DR_CDisc",
         "rawType": "float64",
         "type": "float"
        },
        {
         "name": "DR_BCDisc",
         "rawType": "float64",
         "type": "float"
        },
        {
         "name": "DR_TabEmpl",
         "rawType": "int64",
         "type": "integer"
        },
        {
         "name": "DR_VZak",
         "rawType": "int64",
         "type": "integer"
        },
        {
         "name": "DR_Pos",
         "rawType": "float64",
         "type": "float"
        }
       ],
       "ref": "4b21a99b-84cf-4aac-85a1-2bc56dbfc355",
       "rows": [
        [
         "0",
         "2022-08-11",
         "10:15:35",
         "2173",
         "2004598",
         "2",
         "ЦИПРОЛЕТ 3МГ/МЛ. 5МЛ. №1 ГЛ.КАПЛИ ФЛ./КАП. /Д-Р РЕДДИ/",
         "1.0",
         "41.08",
         "51.0",
         "12.0",
         "18",
         "45399",
         "Катрен г.Химки",
         "925.0",
         "200000000492.0",
         "205",
         "1",
         "1.0"
        ],
        [
         "1",
         "2022-08-11",
         "10:27:46",
         "2174",
         "2004598",
         "2",
         "ПЕРЕКИСЬ ВОДОРОДА 3% 100МЛ. №40 Р-Р ФЛ.",
         "1.0",
         "18.61",
         "31.0",
         "3.0",
         "15",
         "261519",
         "Катрен г.Химки",
         "9.0",
         "200010010204.0",
         "205",
         "1",
         "1.0"
        ],
        [
         "2",
         "2022-08-11",
         "10:27:46",
         "2174",
         "2004598",
         "2",
         "СОФЬЯ ГЕЛЬ Д/НОГ ВЕНОТОНИЗ. ТРОКСЕРУТИН ФОРТЕ 125МЛ.",
         "1.0",
         "132.69",
         "209.0",
         "20.0",
         "15",
         "460864",
         "Катрен г.Химки",
         "9.0",
         "200010010204.0",
         "205",
         "1",
         "2.0"
        ],
        [
         "3",
         "2022-08-11",
         "10:27:46",
         "2174",
         "2004598",
         "2",
         "СОФЬЯ ГХК КРЕМ Д/ТЕЛА ХОНДРОИТИН+ГЛЮКОЗАМИН 125МЛ. ТУБА",
         "1.0",
         "133.65",
         "210.0",
         "21.0",
         "15",
         "172823",
         "Катрен г.Химки",
         "9.0",
         "200010010204.0",
         "205",
         "1",
         "3.0"
        ],
        [
         "4",
         "2022-08-11",
         "10:33:56",
         "2175",
         "2004598",
         "2",
         "ГАЛВУС 50МГ. №28 ТАБ. /НОВАРТИС/",
         "1.0",
         "709.95",
         "787.0",
         "49.0",
         "18",
         "79056",
         "Катрен г.Химки",
         "925.0",
         "200000000492.0",
         "205",
         "1",
         "1.0"
        ]
       ],
       "shape": {
        "columns": 18,
        "rows": 5
       }
      },
      "text/html": [
       "<div>\n",
       "<style scoped>\n",
       "    .dataframe tbody tr th:only-of-type {\n",
       "        vertical-align: middle;\n",
       "    }\n",
       "\n",
       "    .dataframe tbody tr th {\n",
       "        vertical-align: top;\n",
       "    }\n",
       "\n",
       "    .dataframe thead th {\n",
       "        text-align: right;\n",
       "    }\n",
       "</style>\n",
       "<table border=\"1\" class=\"dataframe\">\n",
       "  <thead>\n",
       "    <tr style=\"text-align: right;\">\n",
       "      <th></th>\n",
       "      <th>DR_Dat</th>\n",
       "      <th>DR_Tim</th>\n",
       "      <th>...</th>\n",
       "      <th>DR_VZak</th>\n",
       "      <th>DR_Pos</th>\n",
       "    </tr>\n",
       "  </thead>\n",
       "  <tbody>\n",
       "    <tr>\n",
       "      <th>0</th>\n",
       "      <td>2022-08-11</td>\n",
       "      <td>10:15:35</td>\n",
       "      <td>...</td>\n",
       "      <td>1</td>\n",
       "      <td>1.00</td>\n",
       "    </tr>\n",
       "    <tr>\n",
       "      <th>1</th>\n",
       "      <td>2022-08-11</td>\n",
       "      <td>10:27:46</td>\n",
       "      <td>...</td>\n",
       "      <td>1</td>\n",
       "      <td>1.00</td>\n",
       "    </tr>\n",
       "    <tr>\n",
       "      <th>2</th>\n",
       "      <td>2022-08-11</td>\n",
       "      <td>10:27:46</td>\n",
       "      <td>...</td>\n",
       "      <td>1</td>\n",
       "      <td>2.00</td>\n",
       "    </tr>\n",
       "    <tr>\n",
       "      <th>3</th>\n",
       "      <td>2022-08-11</td>\n",
       "      <td>10:27:46</td>\n",
       "      <td>...</td>\n",
       "      <td>1</td>\n",
       "      <td>3.00</td>\n",
       "    </tr>\n",
       "    <tr>\n",
       "      <th>4</th>\n",
       "      <td>2022-08-11</td>\n",
       "      <td>10:33:56</td>\n",
       "      <td>...</td>\n",
       "      <td>1</td>\n",
       "      <td>1.00</td>\n",
       "    </tr>\n",
       "  </tbody>\n",
       "</table>\n",
       "<p>5 rows × 18 columns</p>\n",
       "</div>"
      ],
      "text/plain": [
       "       DR_Dat    DR_Tim  ...  DR_VZak  DR_Pos\n",
       "0  2022-08-11  10:15:35  ...        1    1.00\n",
       "1  2022-08-11  10:27:46  ...        1    1.00\n",
       "2  2022-08-11  10:27:46  ...        1    2.00\n",
       "3  2022-08-11  10:27:46  ...        1    3.00\n",
       "4  2022-08-11  10:33:56  ...        1    1.00\n",
       "\n",
       "[5 rows x 18 columns]"
      ]
     },
     "execution_count": 67,
     "metadata": {},
     "output_type": "execute_result"
    }
   ],
   "source": [
    "# than i can just add here this list\n",
    "df[['DR_Dat', 'DR_Tim']] # i can also write them individualy like this\n",
    "edited_df = df[user_columns]\n",
    "edited_df.head()"
   ]
  },
  {
   "cell_type": "code",
   "execution_count": 68,
   "id": "5eaba815",
   "metadata": {},
   "outputs": [],
   "source": [
    "# to change names of the columns i need to rename them with method columns\n",
    "edited_df.columns = ['date', 'time', 'n_chk', 'n_doc', 'apt', 'name_drugs',\n",
    "       'amnt', 'purch_price', 'retail_price', 'disc', 'pay_type', 'drug_id',\n",
    "       'supplier', 'disc_id', 'disc_barcode', 'employee', 'vzak', 'pos']"
   ]
  },
  {
   "cell_type": "code",
   "execution_count": 69,
   "id": "bd9bae27",
   "metadata": {},
   "outputs": [
    {
     "data": {
      "application/vnd.microsoft.datawrangler.viewer.v0+json": {
       "columns": [
        {
         "name": "index",
         "rawType": "int64",
         "type": "integer"
        },
        {
         "name": "date",
         "rawType": "object",
         "type": "string"
        },
        {
         "name": "time",
         "rawType": "object",
         "type": "string"
        },
        {
         "name": "n_chk",
         "rawType": "int64",
         "type": "integer"
        },
        {
         "name": "n_doc",
         "rawType": "int64",
         "type": "integer"
        },
        {
         "name": "apt",
         "rawType": "int64",
         "type": "integer"
        },
        {
         "name": "name_drugs",
         "rawType": "object",
         "type": "string"
        },
        {
         "name": "amnt",
         "rawType": "float64",
         "type": "float"
        },
        {
         "name": "purch_price",
         "rawType": "float64",
         "type": "float"
        },
        {
         "name": "retail_price",
         "rawType": "float64",
         "type": "float"
        },
        {
         "name": "disc",
         "rawType": "float64",
         "type": "float"
        },
        {
         "name": "pay_type",
         "rawType": "int64",
         "type": "integer"
        },
        {
         "name": "drug_id",
         "rawType": "int64",
         "type": "integer"
        },
        {
         "name": "supplier",
         "rawType": "object",
         "type": "string"
        },
        {
         "name": "disc_id",
         "rawType": "float64",
         "type": "float"
        },
        {
         "name": "disc_barcode",
         "rawType": "float64",
         "type": "float"
        },
        {
         "name": "employee",
         "rawType": "int64",
         "type": "integer"
        },
        {
         "name": "vzak",
         "rawType": "int64",
         "type": "integer"
        },
        {
         "name": "pos",
         "rawType": "float64",
         "type": "float"
        }
       ],
       "ref": "638825b8-4345-47e2-ad47-b7d9c6449703",
       "rows": [
        [
         "0",
         "2022-08-11",
         "10:15:35",
         "2173",
         "2004598",
         "2",
         "ЦИПРОЛЕТ 3МГ/МЛ. 5МЛ. №1 ГЛ.КАПЛИ ФЛ./КАП. /Д-Р РЕДДИ/",
         "1.0",
         "41.08",
         "51.0",
         "12.0",
         "18",
         "45399",
         "Катрен г.Химки",
         "925.0",
         "200000000492.0",
         "205",
         "1",
         "1.0"
        ],
        [
         "1",
         "2022-08-11",
         "10:27:46",
         "2174",
         "2004598",
         "2",
         "ПЕРЕКИСЬ ВОДОРОДА 3% 100МЛ. №40 Р-Р ФЛ.",
         "1.0",
         "18.61",
         "31.0",
         "3.0",
         "15",
         "261519",
         "Катрен г.Химки",
         "9.0",
         "200010010204.0",
         "205",
         "1",
         "1.0"
        ],
        [
         "2",
         "2022-08-11",
         "10:27:46",
         "2174",
         "2004598",
         "2",
         "СОФЬЯ ГЕЛЬ Д/НОГ ВЕНОТОНИЗ. ТРОКСЕРУТИН ФОРТЕ 125МЛ.",
         "1.0",
         "132.69",
         "209.0",
         "20.0",
         "15",
         "460864",
         "Катрен г.Химки",
         "9.0",
         "200010010204.0",
         "205",
         "1",
         "2.0"
        ],
        [
         "3",
         "2022-08-11",
         "10:27:46",
         "2174",
         "2004598",
         "2",
         "СОФЬЯ ГХК КРЕМ Д/ТЕЛА ХОНДРОИТИН+ГЛЮКОЗАМИН 125МЛ. ТУБА",
         "1.0",
         "133.65",
         "210.0",
         "21.0",
         "15",
         "172823",
         "Катрен г.Химки",
         "9.0",
         "200010010204.0",
         "205",
         "1",
         "3.0"
        ],
        [
         "4",
         "2022-08-11",
         "10:33:56",
         "2175",
         "2004598",
         "2",
         "ГАЛВУС 50МГ. №28 ТАБ. /НОВАРТИС/",
         "1.0",
         "709.95",
         "787.0",
         "49.0",
         "18",
         "79056",
         "Катрен г.Химки",
         "925.0",
         "200000000492.0",
         "205",
         "1",
         "1.0"
        ]
       ],
       "shape": {
        "columns": 18,
        "rows": 5
       }
      },
      "text/html": [
       "<div>\n",
       "<style scoped>\n",
       "    .dataframe tbody tr th:only-of-type {\n",
       "        vertical-align: middle;\n",
       "    }\n",
       "\n",
       "    .dataframe tbody tr th {\n",
       "        vertical-align: top;\n",
       "    }\n",
       "\n",
       "    .dataframe thead th {\n",
       "        text-align: right;\n",
       "    }\n",
       "</style>\n",
       "<table border=\"1\" class=\"dataframe\">\n",
       "  <thead>\n",
       "    <tr style=\"text-align: right;\">\n",
       "      <th></th>\n",
       "      <th>date</th>\n",
       "      <th>time</th>\n",
       "      <th>...</th>\n",
       "      <th>vzak</th>\n",
       "      <th>pos</th>\n",
       "    </tr>\n",
       "  </thead>\n",
       "  <tbody>\n",
       "    <tr>\n",
       "      <th>0</th>\n",
       "      <td>2022-08-11</td>\n",
       "      <td>10:15:35</td>\n",
       "      <td>...</td>\n",
       "      <td>1</td>\n",
       "      <td>1.00</td>\n",
       "    </tr>\n",
       "    <tr>\n",
       "      <th>1</th>\n",
       "      <td>2022-08-11</td>\n",
       "      <td>10:27:46</td>\n",
       "      <td>...</td>\n",
       "      <td>1</td>\n",
       "      <td>1.00</td>\n",
       "    </tr>\n",
       "    <tr>\n",
       "      <th>2</th>\n",
       "      <td>2022-08-11</td>\n",
       "      <td>10:27:46</td>\n",
       "      <td>...</td>\n",
       "      <td>1</td>\n",
       "      <td>2.00</td>\n",
       "    </tr>\n",
       "    <tr>\n",
       "      <th>3</th>\n",
       "      <td>2022-08-11</td>\n",
       "      <td>10:27:46</td>\n",
       "      <td>...</td>\n",
       "      <td>1</td>\n",
       "      <td>3.00</td>\n",
       "    </tr>\n",
       "    <tr>\n",
       "      <th>4</th>\n",
       "      <td>2022-08-11</td>\n",
       "      <td>10:33:56</td>\n",
       "      <td>...</td>\n",
       "      <td>1</td>\n",
       "      <td>1.00</td>\n",
       "    </tr>\n",
       "  </tbody>\n",
       "</table>\n",
       "<p>5 rows × 18 columns</p>\n",
       "</div>"
      ],
      "text/plain": [
       "         date      time  ...  vzak  pos\n",
       "0  2022-08-11  10:15:35  ...     1 1.00\n",
       "1  2022-08-11  10:27:46  ...     1 1.00\n",
       "2  2022-08-11  10:27:46  ...     1 2.00\n",
       "3  2022-08-11  10:27:46  ...     1 3.00\n",
       "4  2022-08-11  10:33:56  ...     1 1.00\n",
       "\n",
       "[5 rows x 18 columns]"
      ]
     },
     "execution_count": 69,
     "metadata": {},
     "output_type": "execute_result"
    }
   ],
   "source": [
    "edited_df.head()"
   ]
  },
  {
   "cell_type": "code",
   "execution_count": 70,
   "id": "2c011d92",
   "metadata": {},
   "outputs": [
    {
     "data": {
      "application/vnd.microsoft.datawrangler.viewer.v0+json": {
       "columns": [
        {
         "name": "index",
         "rawType": "object",
         "type": "string"
        },
        {
         "name": "0",
         "rawType": "object",
         "type": "unknown"
        }
       ],
       "ref": "b6ec7225-0ea5-4ca7-b336-706edd1671ea",
       "rows": [
        [
         "date",
         "object"
        ],
        [
         "time",
         "object"
        ],
        [
         "n_chk",
         "int64"
        ],
        [
         "n_doc",
         "int64"
        ],
        [
         "apt",
         "int64"
        ],
        [
         "name_drugs",
         "object"
        ],
        [
         "amnt",
         "float64"
        ],
        [
         "purch_price",
         "float64"
        ],
        [
         "retail_price",
         "float64"
        ],
        [
         "disc",
         "float64"
        ],
        [
         "pay_type",
         "int64"
        ],
        [
         "drug_id",
         "int64"
        ],
        [
         "supplier",
         "object"
        ],
        [
         "disc_id",
         "float64"
        ],
        [
         "disc_barcode",
         "float64"
        ],
        [
         "employee",
         "int64"
        ],
        [
         "vzak",
         "int64"
        ],
        [
         "pos",
         "float64"
        ]
       ],
       "shape": {
        "columns": 1,
        "rows": 18
       }
      },
      "text/plain": [
       "date             object\n",
       "time             object\n",
       "n_chk             int64\n",
       "n_doc             int64\n",
       "apt               int64\n",
       "name_drugs       object\n",
       "amnt            float64\n",
       "purch_price     float64\n",
       "retail_price    float64\n",
       "disc            float64\n",
       "pay_type          int64\n",
       "drug_id           int64\n",
       "supplier         object\n",
       "disc_id         float64\n",
       "disc_barcode    float64\n",
       "employee          int64\n",
       "vzak              int64\n",
       "pos             float64\n",
       "dtype: object"
      ]
     },
     "execution_count": 70,
     "metadata": {},
     "output_type": "execute_result"
    }
   ],
   "source": [
    "edited_df.dtypes"
   ]
  },
  {
   "cell_type": "code",
   "execution_count": 71,
   "id": "325113be",
   "metadata": {},
   "outputs": [
    {
     "data": {
      "application/vnd.microsoft.datawrangler.viewer.v0+json": {
       "columns": [
        {
         "name": "index",
         "rawType": "int64",
         "type": "integer"
        },
        {
         "name": "disc_barcode",
         "rawType": "object",
         "type": "string"
        }
       ],
       "ref": "31d448c3-958a-4536-bb69-4f8808bf0bad",
       "rows": [
        [
         "0",
         "200000000492"
        ],
        [
         "1",
         "200010010204"
        ],
        [
         "2",
         "200010010204"
        ],
        [
         "3",
         "200010010204"
        ],
        [
         "4",
         "200000000492"
        ],
        [
         "5",
         "200010001947"
        ],
        [
         "6",
         "200010001947"
        ],
        [
         "7",
         "200010013331"
        ],
        [
         "8",
         "200010013331"
        ],
        [
         "9",
         "200010013331"
        ],
        [
         "10",
         "200010013331"
        ],
        [
         "11",
         "200010013331"
        ],
        [
         "12",
         "200010013331"
        ],
        [
         "13",
         "200010013331"
        ],
        [
         "14",
         "200010013331"
        ],
        [
         "15",
         "nan"
        ],
        [
         "16",
         "nan"
        ],
        [
         "17",
         "200010013331"
        ],
        [
         "18",
         "200010020147"
        ],
        [
         "19",
         "200010020147"
        ],
        [
         "20",
         "nan"
        ],
        [
         "21",
         "nan"
        ],
        [
         "22",
         "nan"
        ],
        [
         "23",
         "200010024015"
        ],
        [
         "24",
         "nan"
        ],
        [
         "25",
         "200010014079"
        ],
        [
         "26",
         "200010012006"
        ],
        [
         "27",
         "200010014079"
        ],
        [
         "28",
         "200010014079"
        ],
        [
         "29",
         "200010014079"
        ],
        [
         "30",
         "200010014079"
        ],
        [
         "31",
         "nan"
        ],
        [
         "32",
         "200010016095"
        ],
        [
         "33",
         "nan"
        ],
        [
         "34",
         "200010016574"
        ],
        [
         "35",
         "nan"
        ],
        [
         "36",
         "200010010055"
        ],
        [
         "37",
         "200010024514"
        ],
        [
         "38",
         "200010024695"
        ],
        [
         "39",
         "nan"
        ],
        [
         "40",
         "nan"
        ],
        [
         "41",
         "nan"
        ],
        [
         "42",
         "nan"
        ],
        [
         "43",
         "nan"
        ],
        [
         "44",
         "200010024495"
        ],
        [
         "45",
         "nan"
        ],
        [
         "46",
         "nan"
        ],
        [
         "47",
         "nan"
        ],
        [
         "48",
         "nan"
        ],
        [
         "49",
         "200010011957"
        ]
       ],
       "shape": {
        "columns": 1,
        "rows": 4462
       }
      },
      "text/plain": [
       "0       200000000492\n",
       "1       200010010204\n",
       "2       200010010204\n",
       "3       200010010204\n",
       "4       200000000492\n",
       "            ...     \n",
       "4457             nan\n",
       "4458             nan\n",
       "4459             nan\n",
       "4460             nan\n",
       "4461    200010027618\n",
       "Name: disc_barcode, Length: 4462, dtype: object"
      ]
     },
     "execution_count": 71,
     "metadata": {},
     "output_type": "execute_result"
    }
   ],
   "source": [
    "# if i need to change type of the column i car write like this\n",
    "edited_df['disc_barcode'].astype('str').replace(r'\\.0', '', regex = True) # last part with replace is example of using regex without re"
   ]
  },
  {
   "cell_type": "code",
   "execution_count": 72,
   "id": "9b53d281",
   "metadata": {},
   "outputs": [
    {
     "name": "stderr",
     "output_type": "stream",
     "text": [
      "/var/folders/m2/02db1vqj4dn9n70qsljztby00000gn/T/ipykernel_9653/2565856823.py:2: SettingWithCopyWarning: \n",
      "A value is trying to be set on a copy of a slice from a DataFrame.\n",
      "Try using .loc[row_indexer,col_indexer] = value instead\n",
      "\n",
      "See the caveats in the documentation: https://pandas.pydata.org/pandas-docs/stable/user_guide/indexing.html#returning-a-view-versus-a-copy\n",
      "  edited_df['disc_barcode'] = edited_df['disc_barcode'].astype('str').replace(r'\\.0', '', regex = True)\n"
     ]
    }
   ],
   "source": [
    "# after changing type i need to rewrite initial dataframe \n",
    "edited_df['disc_barcode'] = edited_df['disc_barcode'].astype('str').replace(r'\\.0', '', regex = True)"
   ]
  },
  {
   "cell_type": "code",
   "execution_count": 73,
   "id": "f64974c5",
   "metadata": {},
   "outputs": [
    {
     "name": "stderr",
     "output_type": "stream",
     "text": [
      "/var/folders/m2/02db1vqj4dn9n70qsljztby00000gn/T/ipykernel_9653/2960017494.py:6: SettingWithCopyWarning: \n",
      "A value is trying to be set on a copy of a slice from a DataFrame.\n",
      "Try using .loc[row_indexer,col_indexer] = value instead\n",
      "\n",
      "See the caveats in the documentation: https://pandas.pydata.org/pandas-docs/stable/user_guide/indexing.html#returning-a-view-versus-a-copy\n",
      "  edited_df['date']= pd.to_datetime(edited_df['date']).dt.strftime('%d.%m.%Y')\n"
     ]
    }
   ],
   "source": [
    "# if i want to change format of the date in date column i can use this\n",
    "pd.to_datetime(edited_df['date']).dt\n",
    "# by using dt i get access to many methods and functions similar to datetime library, one of them is strftime()\n",
    "pd.to_datetime(edited_df['date']).dt.strftime('%d.%m.%Y')\n",
    "# to change it in initial dataframe i need to rewrite it\n",
    "edited_df['date']= pd.to_datetime(edited_df['date']).dt.strftime('%d.%m.%Y')"
   ]
  },
  {
   "cell_type": "code",
   "execution_count": 74,
   "id": "406c16f8",
   "metadata": {},
   "outputs": [
    {
     "data": {
      "application/vnd.microsoft.datawrangler.viewer.v0+json": {
       "columns": [
        {
         "name": "index",
         "rawType": "int64",
         "type": "integer"
        },
        {
         "name": "date",
         "rawType": "object",
         "type": "string"
        },
        {
         "name": "time",
         "rawType": "object",
         "type": "string"
        },
        {
         "name": "n_chk",
         "rawType": "int64",
         "type": "integer"
        },
        {
         "name": "n_doc",
         "rawType": "int64",
         "type": "integer"
        },
        {
         "name": "apt",
         "rawType": "int64",
         "type": "integer"
        },
        {
         "name": "name_drugs",
         "rawType": "object",
         "type": "string"
        },
        {
         "name": "amnt",
         "rawType": "float64",
         "type": "float"
        },
        {
         "name": "purch_price",
         "rawType": "float64",
         "type": "float"
        },
        {
         "name": "retail_price",
         "rawType": "float64",
         "type": "float"
        },
        {
         "name": "disc",
         "rawType": "float64",
         "type": "float"
        },
        {
         "name": "pay_type",
         "rawType": "int64",
         "type": "integer"
        },
        {
         "name": "drug_id",
         "rawType": "int64",
         "type": "integer"
        },
        {
         "name": "supplier",
         "rawType": "object",
         "type": "string"
        },
        {
         "name": "disc_id",
         "rawType": "float64",
         "type": "float"
        },
        {
         "name": "disc_barcode",
         "rawType": "object",
         "type": "string"
        },
        {
         "name": "employee",
         "rawType": "int64",
         "type": "integer"
        },
        {
         "name": "vzak",
         "rawType": "int64",
         "type": "integer"
        },
        {
         "name": "pos",
         "rawType": "float64",
         "type": "float"
        }
       ],
       "ref": "8f5f28c6-4d40-4942-8daa-becb04260b62",
       "rows": [
        [
         "0",
         "11.08.2022",
         "10:15:35",
         "2173",
         "2004598",
         "2",
         "ЦИПРОЛЕТ 3МГ/МЛ. 5МЛ. №1 ГЛ.КАПЛИ ФЛ./КАП. /Д-Р РЕДДИ/",
         "1.0",
         "41.08",
         "51.0",
         "12.0",
         "18",
         "45399",
         "Катрен г.Химки",
         "925.0",
         "200000000492",
         "205",
         "1",
         "1.0"
        ],
        [
         "1",
         "11.08.2022",
         "10:27:46",
         "2174",
         "2004598",
         "2",
         "ПЕРЕКИСЬ ВОДОРОДА 3% 100МЛ. №40 Р-Р ФЛ.",
         "1.0",
         "18.61",
         "31.0",
         "3.0",
         "15",
         "261519",
         "Катрен г.Химки",
         "9.0",
         "200010010204",
         "205",
         "1",
         "1.0"
        ],
        [
         "2",
         "11.08.2022",
         "10:27:46",
         "2174",
         "2004598",
         "2",
         "СОФЬЯ ГЕЛЬ Д/НОГ ВЕНОТОНИЗ. ТРОКСЕРУТИН ФОРТЕ 125МЛ.",
         "1.0",
         "132.69",
         "209.0",
         "20.0",
         "15",
         "460864",
         "Катрен г.Химки",
         "9.0",
         "200010010204",
         "205",
         "1",
         "2.0"
        ],
        [
         "3",
         "11.08.2022",
         "10:27:46",
         "2174",
         "2004598",
         "2",
         "СОФЬЯ ГХК КРЕМ Д/ТЕЛА ХОНДРОИТИН+ГЛЮКОЗАМИН 125МЛ. ТУБА",
         "1.0",
         "133.65",
         "210.0",
         "21.0",
         "15",
         "172823",
         "Катрен г.Химки",
         "9.0",
         "200010010204",
         "205",
         "1",
         "3.0"
        ],
        [
         "4",
         "11.08.2022",
         "10:33:56",
         "2175",
         "2004598",
         "2",
         "ГАЛВУС 50МГ. №28 ТАБ. /НОВАРТИС/",
         "1.0",
         "709.95",
         "787.0",
         "49.0",
         "18",
         "79056",
         "Катрен г.Химки",
         "925.0",
         "200000000492",
         "205",
         "1",
         "1.0"
        ]
       ],
       "shape": {
        "columns": 18,
        "rows": 5
       }
      },
      "text/html": [
       "<div>\n",
       "<style scoped>\n",
       "    .dataframe tbody tr th:only-of-type {\n",
       "        vertical-align: middle;\n",
       "    }\n",
       "\n",
       "    .dataframe tbody tr th {\n",
       "        vertical-align: top;\n",
       "    }\n",
       "\n",
       "    .dataframe thead th {\n",
       "        text-align: right;\n",
       "    }\n",
       "</style>\n",
       "<table border=\"1\" class=\"dataframe\">\n",
       "  <thead>\n",
       "    <tr style=\"text-align: right;\">\n",
       "      <th></th>\n",
       "      <th>date</th>\n",
       "      <th>time</th>\n",
       "      <th>...</th>\n",
       "      <th>vzak</th>\n",
       "      <th>pos</th>\n",
       "    </tr>\n",
       "  </thead>\n",
       "  <tbody>\n",
       "    <tr>\n",
       "      <th>0</th>\n",
       "      <td>11.08.2022</td>\n",
       "      <td>10:15:35</td>\n",
       "      <td>...</td>\n",
       "      <td>1</td>\n",
       "      <td>1.00</td>\n",
       "    </tr>\n",
       "    <tr>\n",
       "      <th>1</th>\n",
       "      <td>11.08.2022</td>\n",
       "      <td>10:27:46</td>\n",
       "      <td>...</td>\n",
       "      <td>1</td>\n",
       "      <td>1.00</td>\n",
       "    </tr>\n",
       "    <tr>\n",
       "      <th>2</th>\n",
       "      <td>11.08.2022</td>\n",
       "      <td>10:27:46</td>\n",
       "      <td>...</td>\n",
       "      <td>1</td>\n",
       "      <td>2.00</td>\n",
       "    </tr>\n",
       "    <tr>\n",
       "      <th>3</th>\n",
       "      <td>11.08.2022</td>\n",
       "      <td>10:27:46</td>\n",
       "      <td>...</td>\n",
       "      <td>1</td>\n",
       "      <td>3.00</td>\n",
       "    </tr>\n",
       "    <tr>\n",
       "      <th>4</th>\n",
       "      <td>11.08.2022</td>\n",
       "      <td>10:33:56</td>\n",
       "      <td>...</td>\n",
       "      <td>1</td>\n",
       "      <td>1.00</td>\n",
       "    </tr>\n",
       "  </tbody>\n",
       "</table>\n",
       "<p>5 rows × 18 columns</p>\n",
       "</div>"
      ],
      "text/plain": [
       "         date      time  ...  vzak  pos\n",
       "0  11.08.2022  10:15:35  ...     1 1.00\n",
       "1  11.08.2022  10:27:46  ...     1 1.00\n",
       "2  11.08.2022  10:27:46  ...     1 2.00\n",
       "3  11.08.2022  10:27:46  ...     1 3.00\n",
       "4  11.08.2022  10:33:56  ...     1 1.00\n",
       "\n",
       "[5 rows x 18 columns]"
      ]
     },
     "execution_count": 74,
     "metadata": {},
     "output_type": "execute_result"
    }
   ],
   "source": [
    "edited_df.head()"
   ]
  },
  {
   "cell_type": "code",
   "execution_count": 75,
   "id": "84935a8c",
   "metadata": {},
   "outputs": [
    {
     "data": {
      "text/plain": [
       "array([1, 2])"
      ]
     },
     "execution_count": 75,
     "metadata": {},
     "output_type": "execute_result"
    }
   ],
   "source": [
    "# this way i can get unique values from column\n",
    "edited_df['vzak'].unique()"
   ]
  },
  {
   "cell_type": "code",
   "execution_count": 76,
   "id": "24369915",
   "metadata": {},
   "outputs": [
    {
     "name": "stderr",
     "output_type": "stream",
     "text": [
      "/var/folders/m2/02db1vqj4dn9n70qsljztby00000gn/T/ipykernel_9653/1674187262.py:2: SettingWithCopyWarning: \n",
      "A value is trying to be set on a copy of a slice from a DataFrame.\n",
      "Try using .loc[row_indexer,col_indexer] = value instead\n",
      "\n",
      "See the caveats in the documentation: https://pandas.pydata.org/pandas-docs/stable/user_guide/indexing.html#returning-a-view-versus-a-copy\n",
      "  edited_df['vzak'] = edited_df['vzak'].astype('str').replace('1', 'offline').replace('2', 'online')\n"
     ]
    }
   ],
   "source": [
    "# if i want to replace values in column i need to do this\n",
    "edited_df['vzak'] = edited_df['vzak'].astype('str').replace('1', 'offline').replace('2', 'online')\n",
    "# firstly i changed type to str, then replaced values with regular replace function"
   ]
  },
  {
   "cell_type": "code",
   "execution_count": 77,
   "id": "51f35d8a",
   "metadata": {},
   "outputs": [
    {
     "data": {
      "application/vnd.microsoft.datawrangler.viewer.v0+json": {
       "columns": [
        {
         "name": "index",
         "rawType": "int64",
         "type": "integer"
        },
        {
         "name": "date",
         "rawType": "object",
         "type": "string"
        },
        {
         "name": "time",
         "rawType": "object",
         "type": "string"
        },
        {
         "name": "n_chk",
         "rawType": "int64",
         "type": "integer"
        },
        {
         "name": "n_doc",
         "rawType": "int64",
         "type": "integer"
        },
        {
         "name": "apt",
         "rawType": "int64",
         "type": "integer"
        },
        {
         "name": "name_drugs",
         "rawType": "object",
         "type": "string"
        },
        {
         "name": "amnt",
         "rawType": "float64",
         "type": "float"
        },
        {
         "name": "purch_price",
         "rawType": "float64",
         "type": "float"
        },
        {
         "name": "retail_price",
         "rawType": "float64",
         "type": "float"
        },
        {
         "name": "disc",
         "rawType": "float64",
         "type": "float"
        },
        {
         "name": "pay_type",
         "rawType": "int64",
         "type": "integer"
        },
        {
         "name": "drug_id",
         "rawType": "int64",
         "type": "integer"
        },
        {
         "name": "supplier",
         "rawType": "object",
         "type": "string"
        },
        {
         "name": "disc_id",
         "rawType": "float64",
         "type": "float"
        },
        {
         "name": "disc_barcode",
         "rawType": "object",
         "type": "string"
        },
        {
         "name": "employee",
         "rawType": "int64",
         "type": "integer"
        },
        {
         "name": "vzak",
         "rawType": "object",
         "type": "string"
        },
        {
         "name": "pos",
         "rawType": "float64",
         "type": "float"
        }
       ],
       "ref": "c5902148-d01a-4b05-982f-b80927531c47",
       "rows": [
        [
         "0",
         "11.08.2022",
         "10:15:35",
         "2173",
         "2004598",
         "2",
         "ЦИПРОЛЕТ 3МГ/МЛ. 5МЛ. №1 ГЛ.КАПЛИ ФЛ./КАП. /Д-Р РЕДДИ/",
         "1.0",
         "41.08",
         "51.0",
         "12.0",
         "18",
         "45399",
         "Катрен г.Химки",
         "925.0",
         "200000000492",
         "205",
         "offline",
         "1.0"
        ],
        [
         "1",
         "11.08.2022",
         "10:27:46",
         "2174",
         "2004598",
         "2",
         "ПЕРЕКИСЬ ВОДОРОДА 3% 100МЛ. №40 Р-Р ФЛ.",
         "1.0",
         "18.61",
         "31.0",
         "3.0",
         "15",
         "261519",
         "Катрен г.Химки",
         "9.0",
         "200010010204",
         "205",
         "offline",
         "1.0"
        ],
        [
         "2",
         "11.08.2022",
         "10:27:46",
         "2174",
         "2004598",
         "2",
         "СОФЬЯ ГЕЛЬ Д/НОГ ВЕНОТОНИЗ. ТРОКСЕРУТИН ФОРТЕ 125МЛ.",
         "1.0",
         "132.69",
         "209.0",
         "20.0",
         "15",
         "460864",
         "Катрен г.Химки",
         "9.0",
         "200010010204",
         "205",
         "offline",
         "2.0"
        ],
        [
         "3",
         "11.08.2022",
         "10:27:46",
         "2174",
         "2004598",
         "2",
         "СОФЬЯ ГХК КРЕМ Д/ТЕЛА ХОНДРОИТИН+ГЛЮКОЗАМИН 125МЛ. ТУБА",
         "1.0",
         "133.65",
         "210.0",
         "21.0",
         "15",
         "172823",
         "Катрен г.Химки",
         "9.0",
         "200010010204",
         "205",
         "offline",
         "3.0"
        ],
        [
         "4",
         "11.08.2022",
         "10:33:56",
         "2175",
         "2004598",
         "2",
         "ГАЛВУС 50МГ. №28 ТАБ. /НОВАРТИС/",
         "1.0",
         "709.95",
         "787.0",
         "49.0",
         "18",
         "79056",
         "Катрен г.Химки",
         "925.0",
         "200000000492",
         "205",
         "offline",
         "1.0"
        ]
       ],
       "shape": {
        "columns": 18,
        "rows": 5
       }
      },
      "text/html": [
       "<div>\n",
       "<style scoped>\n",
       "    .dataframe tbody tr th:only-of-type {\n",
       "        vertical-align: middle;\n",
       "    }\n",
       "\n",
       "    .dataframe tbody tr th {\n",
       "        vertical-align: top;\n",
       "    }\n",
       "\n",
       "    .dataframe thead th {\n",
       "        text-align: right;\n",
       "    }\n",
       "</style>\n",
       "<table border=\"1\" class=\"dataframe\">\n",
       "  <thead>\n",
       "    <tr style=\"text-align: right;\">\n",
       "      <th></th>\n",
       "      <th>date</th>\n",
       "      <th>time</th>\n",
       "      <th>...</th>\n",
       "      <th>vzak</th>\n",
       "      <th>pos</th>\n",
       "    </tr>\n",
       "  </thead>\n",
       "  <tbody>\n",
       "    <tr>\n",
       "      <th>0</th>\n",
       "      <td>11.08.2022</td>\n",
       "      <td>10:15:35</td>\n",
       "      <td>...</td>\n",
       "      <td>offline</td>\n",
       "      <td>1.00</td>\n",
       "    </tr>\n",
       "    <tr>\n",
       "      <th>1</th>\n",
       "      <td>11.08.2022</td>\n",
       "      <td>10:27:46</td>\n",
       "      <td>...</td>\n",
       "      <td>offline</td>\n",
       "      <td>1.00</td>\n",
       "    </tr>\n",
       "    <tr>\n",
       "      <th>2</th>\n",
       "      <td>11.08.2022</td>\n",
       "      <td>10:27:46</td>\n",
       "      <td>...</td>\n",
       "      <td>offline</td>\n",
       "      <td>2.00</td>\n",
       "    </tr>\n",
       "    <tr>\n",
       "      <th>3</th>\n",
       "      <td>11.08.2022</td>\n",
       "      <td>10:27:46</td>\n",
       "      <td>...</td>\n",
       "      <td>offline</td>\n",
       "      <td>3.00</td>\n",
       "    </tr>\n",
       "    <tr>\n",
       "      <th>4</th>\n",
       "      <td>11.08.2022</td>\n",
       "      <td>10:33:56</td>\n",
       "      <td>...</td>\n",
       "      <td>offline</td>\n",
       "      <td>1.00</td>\n",
       "    </tr>\n",
       "  </tbody>\n",
       "</table>\n",
       "<p>5 rows × 18 columns</p>\n",
       "</div>"
      ],
      "text/plain": [
       "         date      time  ...     vzak  pos\n",
       "0  11.08.2022  10:15:35  ...  offline 1.00\n",
       "1  11.08.2022  10:27:46  ...  offline 1.00\n",
       "2  11.08.2022  10:27:46  ...  offline 2.00\n",
       "3  11.08.2022  10:27:46  ...  offline 3.00\n",
       "4  11.08.2022  10:33:56  ...  offline 1.00\n",
       "\n",
       "[5 rows x 18 columns]"
      ]
     },
     "execution_count": 77,
     "metadata": {},
     "output_type": "execute_result"
    }
   ],
   "source": [
    "edited_df.head()"
   ]
  },
  {
   "cell_type": "code",
   "execution_count": 78,
   "id": "2f294cfb",
   "metadata": {},
   "outputs": [
    {
     "data": {
      "application/vnd.microsoft.datawrangler.viewer.v0+json": {
       "columns": [
        {
         "name": "index",
         "rawType": "object",
         "type": "string"
        },
        {
         "name": "0",
         "rawType": "bool",
         "type": "boolean"
        }
       ],
       "ref": "a4cd8ba4-5a2e-43d5-b0e5-64c79a707719",
       "rows": [
        [
         "date",
         "False"
        ],
        [
         "time",
         "False"
        ],
        [
         "n_chk",
         "False"
        ],
        [
         "n_doc",
         "False"
        ],
        [
         "apt",
         "False"
        ],
        [
         "name_drugs",
         "False"
        ],
        [
         "amnt",
         "False"
        ],
        [
         "purch_price",
         "False"
        ],
        [
         "retail_price",
         "False"
        ],
        [
         "disc",
         "False"
        ],
        [
         "pay_type",
         "False"
        ],
        [
         "drug_id",
         "False"
        ],
        [
         "supplier",
         "False"
        ],
        [
         "disc_id",
         "True"
        ],
        [
         "disc_barcode",
         "False"
        ],
        [
         "employee",
         "False"
        ],
        [
         "vzak",
         "False"
        ],
        [
         "pos",
         "False"
        ]
       ],
       "shape": {
        "columns": 1,
        "rows": 18
       }
      },
      "text/plain": [
       "date            False\n",
       "time            False\n",
       "n_chk           False\n",
       "n_doc           False\n",
       "apt             False\n",
       "name_drugs      False\n",
       "amnt            False\n",
       "purch_price     False\n",
       "retail_price    False\n",
       "disc            False\n",
       "pay_type        False\n",
       "drug_id         False\n",
       "supplier        False\n",
       "disc_id          True\n",
       "disc_barcode    False\n",
       "employee        False\n",
       "vzak            False\n",
       "pos             False\n",
       "dtype: bool"
      ]
     },
     "execution_count": 78,
     "metadata": {},
     "output_type": "execute_result"
    }
   ],
   "source": [
    "# if i want to see if dataframe has empty spaces (na) i need to use function isna()\n",
    "edited_df.isna() # it will show all dataframe with all elements listed as True or False\n",
    "edited_df.isna().any() # this will show if any column has NA"
   ]
  },
  {
   "cell_type": "code",
   "execution_count": 79,
   "id": "1489351b",
   "metadata": {},
   "outputs": [
    {
     "data": {
      "application/vnd.microsoft.datawrangler.viewer.v0+json": {
       "columns": [
        {
         "name": "index",
         "rawType": "int64",
         "type": "integer"
        },
        {
         "name": "date",
         "rawType": "object",
         "type": "string"
        },
        {
         "name": "time",
         "rawType": "object",
         "type": "string"
        },
        {
         "name": "n_chk",
         "rawType": "int64",
         "type": "integer"
        },
        {
         "name": "n_doc",
         "rawType": "int64",
         "type": "integer"
        },
        {
         "name": "apt",
         "rawType": "int64",
         "type": "integer"
        },
        {
         "name": "name_drugs",
         "rawType": "object",
         "type": "string"
        },
        {
         "name": "amnt",
         "rawType": "float64",
         "type": "float"
        },
        {
         "name": "purch_price",
         "rawType": "float64",
         "type": "float"
        },
        {
         "name": "retail_price",
         "rawType": "float64",
         "type": "float"
        },
        {
         "name": "disc",
         "rawType": "float64",
         "type": "float"
        },
        {
         "name": "pay_type",
         "rawType": "int64",
         "type": "integer"
        },
        {
         "name": "drug_id",
         "rawType": "int64",
         "type": "integer"
        },
        {
         "name": "supplier",
         "rawType": "object",
         "type": "string"
        },
        {
         "name": "disc_id",
         "rawType": "float64",
         "type": "float"
        },
        {
         "name": "disc_barcode",
         "rawType": "object",
         "type": "string"
        },
        {
         "name": "employee",
         "rawType": "int64",
         "type": "integer"
        },
        {
         "name": "vzak",
         "rawType": "object",
         "type": "string"
        },
        {
         "name": "pos",
         "rawType": "float64",
         "type": "float"
        }
       ],
       "ref": "4c5ec376-63e9-4162-8dfd-7f13872ed176",
       "rows": [
        [
         "15",
         "11.08.2022",
         "11:00:23",
         "2178",
         "2004598",
         "2",
         "НАФТИЗИН 0,1% 15МЛ. НАЗАЛ.КАПЛИ ФЛ./КАП. /ЛЕККО/",
         "1.0",
         "12.94",
         "18.0",
         "0.0",
         "18",
         "496504",
         "Катрен г.Химки",
         null,
         "nan",
         "205",
         "offline",
         "1.0"
        ],
        [
         "16",
         "11.08.2022",
         "11:00:23",
         "2178",
         "2004598",
         "2",
         "НАФТИЗИН 0,1% 15МЛ. НАЗАЛ.КАПЛИ ФЛ./КАП. /ЛЕККО/",
         "1.0",
         "12.94",
         "18.0",
         "0.0",
         "18",
         "496504",
         "Катрен г.Химки",
         null,
         "nan",
         "205",
         "offline",
         "2.0"
        ],
        [
         "20",
         "11.08.2022",
         "11:31:34",
         "2181",
         "2004598",
         "2",
         "ЛАКТОФИЛЬТРУМ 500МГ. №60 ТАБ.",
         "1.0",
         "408.63",
         "560.0",
         "0.0",
         "18",
         "14120",
         "Пульс",
         null,
         "nan",
         "205",
         "offline",
         "1.0"
        ],
        [
         "21",
         "11.08.2022",
         "11:31:34",
         "2181",
         "2004598",
         "2",
         "ФЕСТАЛ №40 ДРАЖЕ",
         "1.0",
         "333.74",
         "458.0",
         "0.0",
         "18",
         "78641",
         "ВИТТА КОМПАНИ ООО",
         null,
         "nan",
         "205",
         "offline",
         "2.0"
        ],
        [
         "22",
         "11.08.2022",
         "11:36:05",
         "2182",
         "2004598",
         "2",
         "ДОКТОР МОМ №20 ПАСТИЛКИ МАЛИНА",
         "1.0",
         "141.55",
         "200.0",
         "0.0",
         "15",
         "18849",
         "Пульс",
         null,
         "nan",
         "205",
         "offline",
         "1.0"
        ],
        [
         "24",
         "11.08.2022",
         "17:15:15",
         "2220",
         "2004598",
         "2",
         "ИНГАВИРИН 90МГ. №10 КАПС. /ВАЛЕНТА/",
         "1.0",
         "685.41",
         "760.0",
         "0.0",
         "15",
         "468466",
         "Магнит Фарма ООО",
         null,
         "nan",
         "205",
         "offline",
         "1.0"
        ],
        [
         "31",
         "11.08.2022",
         "12:40:25",
         "2190",
         "2004598",
         "2",
         "АСЕПТИКА САЛФЕТКА СПИРТОВАЯ 60Х100 №30",
         "1.0",
         "43.28",
         "71.0",
         "0.0",
         "18",
         "387509",
         "Катрен г.Химки",
         null,
         "nan",
         "205",
         "offline",
         "1.0"
        ],
        [
         "33",
         "11.08.2022",
         "17:41:59",
         "2225",
         "2004598",
         "2",
         "АСЕПТИКА САЛФЕТКА СПИРТОВАЯ 60Х100 №30",
         "1.0",
         "43.28",
         "71.0",
         "0.0",
         "15",
         "387509",
         "Катрен г.Химки",
         null,
         "nan",
         "205",
         "offline",
         "2.0"
        ],
        [
         "35",
         "11.08.2022",
         "12:06:41",
         "2186",
         "2004598",
         "2",
         "ТЕЛЗАП АМ 5МГ.+80МГ. №28 ТАБ.",
         "1.0",
         "494.79",
         "678.0",
         "0.0",
         "18",
         "491798",
         "ГРАНД КАПИТАЛ СМОЛЕНСК ООО ФК",
         null,
         "nan",
         "205",
         "offline",
         "1.0"
        ],
        [
         "39",
         "11.08.2022",
         "12:40:25",
         "2190",
         "2004598",
         "2",
         "ПАКЕТ",
         "1.0",
         "1.15",
         "2.0",
         "0.0",
         "18",
         "1504015",
         "Индивидуальный предприниматель Кочанов Андрей Миха",
         null,
         "nan",
         "205",
         "offline",
         "3.0"
        ],
        [
         "40",
         "11.08.2022",
         "17:41:59",
         "2225",
         "2004598",
         "2",
         "ПАКЕТ",
         "1.0",
         "1.15",
         "2.0",
         "0.0",
         "15",
         "1504015",
         "Индивидуальный предприниматель Кочанов Андрей Миха",
         null,
         "nan",
         "205",
         "offline",
         "5.0"
        ],
        [
         "41",
         "11.08.2022",
         "12:40:25",
         "2190",
         "2004598",
         "2",
         "СФМ ШПРИЦ 5МЛ. 3-Х КОМП. 0,7Х40ММ 22G №10 [SFM]",
         "1.0",
         "113.75",
         "179.0",
         "0.0",
         "18",
         "318348",
         "Пульс",
         null,
         "nan",
         "205",
         "offline",
         "4.0"
        ],
        [
         "42",
         "11.08.2022",
         "17:41:59",
         "2225",
         "2004598",
         "2",
         "СФМ ШПРИЦ 5МЛ. 3-Х КОМП. 0,7Х40ММ 22G №10 [SFM]",
         "1.0",
         "113.75",
         "179.0",
         "0.0",
         "15",
         "318348",
         "Пульс",
         null,
         "nan",
         "205",
         "offline",
         "6.0"
        ],
        [
         "43",
         "11.08.2022",
         "12:40:25",
         "2190",
         "2004598",
         "2",
         "ДИКЛОФЕНАК 25МГ/МЛ. 3МЛ. №5 Р-Р Д/В/М ВВЕД. АМП. /ХЕМОФАРМ/",
         "1.0",
         "40.76",
         "50.0",
         "0.0",
         "18",
         "431",
         "Катрен г.Химки",
         null,
         "nan",
         "205",
         "offline",
         "2.0"
        ],
        [
         "45",
         "11.08.2022",
         "13:10:54",
         "2192",
         "2004598",
         "2",
         "ЦЕФАЛИ АППАРАТ Д/ТЕРАПИИ МИГРЕНИ С ПРИНАДЛ.",
         "1.0",
         "11851.13",
         "12345.0",
         "0.0",
         "18",
         "455413",
         "Протек",
         null,
         "nan",
         "205",
         "online",
         "1.0"
        ],
        [
         "46",
         "11.08.2022",
         "13:11:57",
         "2193",
         "2004598",
         "2",
         "НОРМАКС 0,3% 5МЛ. №1 ГЛ./УШНЫЕ КАПЛИ ФЛ./КАП.",
         "1.0",
         "188.72",
         "267.0",
         "0.0",
         "18",
         "8400",
         "Пульс",
         null,
         "nan",
         "205",
         "offline",
         "1.0"
        ],
        [
         "47",
         "11.08.2022",
         "13:25:44",
         "2194",
         "2004598",
         "2",
         "КУДЕСАН Q10 КАРДИО КАЛИЙ+МАГНИЙ №40 ТАБ.",
         "1.0",
         "391.74",
         "596.0",
         "0.0",
         "18",
         "149412",
         "ГРАНД КАПИТАЛ СМОЛЕНСК ООО ФК",
         null,
         "nan",
         "205",
         "offline",
         "2.0"
        ],
        [
         "48",
         "11.08.2022",
         "13:25:44",
         "2194",
         "2004598",
         "2",
         "ГЛИЦИН ФОРТЕ 300/600МГ. №60 ТАБ. Д/РАСС. /ЭВАЛАР/",
         "1.0",
         "180.46",
         "239.0",
         "0.0",
         "18",
         "256548",
         "Пульс",
         null,
         "nan",
         "205",
         "offline",
         "1.0"
        ],
        [
         "51",
         "11.08.2022",
         "13:51:22",
         "2196",
         "2004598",
         "2",
         "ДИМЕКСИД 99% 100МЛ. КОНЦ. Д/Р-РА Д/НАРУЖ.ПРИМ. ФЛ. /ЙОДНЫЕ ТЕХНОЛОГИИ И МАРКЕТИНГ/",
         "1.0",
         "313.39",
         "430.0",
         "0.0",
         "18",
         "494512",
         "ПрофитМед",
         null,
         "nan",
         "205",
         "offline",
         "1.0"
        ],
        [
         "56",
         "11.08.2022",
         "16:34:31",
         "2214",
         "2004598",
         "2",
         "ВАЛИДОЛ 60МГ. №10 ТАБ. ПОДЪЯЗЫЧ. /ФАРМСТАНДАРТ/",
         "1.0",
         "29.94",
         "35.0",
         "0.0",
         "18",
         "418134",
         "Катрен г.Химки",
         null,
         "nan",
         "205",
         "offline",
         "4.0"
        ],
        [
         "57",
         "11.08.2022",
         "16:34:31",
         "2214",
         "2004598",
         "2",
         "ВАЛИДОЛ 60МГ. №10 ТАБ. ПОДЪЯЗЫЧ. /ФАРМСТАНДАРТ/",
         "1.0",
         "29.94",
         "35.0",
         "0.0",
         "18",
         "418134",
         "Катрен г.Химки",
         null,
         "nan",
         "205",
         "offline",
         "5.0"
        ],
        [
         "59",
         "11.08.2022",
         "14:45:55",
         "2200",
         "2004598",
         "2",
         "СУПРАВИТ ВИТАМИН С 550МГ. №20 ШИП.ТАБ.",
         "1.0",
         "154.98",
         "244.0",
         "0.0",
         "18",
         "10660",
         "Протек",
         null,
         "nan",
         "205",
         "offline",
         "3.0"
        ],
        [
         "60",
         "11.08.2022",
         "14:45:55",
         "2200",
         "2004598",
         "2",
         "ЛАЙФЕВИТ 200МГ. №30 КАПС. ФЛ.",
         "1.0",
         "371.71",
         "510.0",
         "0.0",
         "18",
         "418028",
         "Протек",
         null,
         "nan",
         "205",
         "offline",
         "2.0"
        ],
        [
         "61",
         "11.08.2022",
         "14:45:55",
         "2200",
         "2004598",
         "2",
         "ВЕРОШПИРОН 25МГ. №20 ТАБ. /ГЕДЕОН РИХТЕР/",
         "1.0",
         "77.96",
         "96.0",
         "0.0",
         "18",
         "279",
         "Катрен г.Химки",
         null,
         "nan",
         "205",
         "offline",
         "1.0"
        ],
        [
         "63",
         "11.08.2022",
         "14:48:16",
         "2202",
         "2004598",
         "2",
         "ТЕРАФЛЮ ЛИМОН ОТ ГРИППА И ПРОСТУДЫ 22,1Г. №4 ПОР. Д/Р-РА Д/ПРИЕМА ВНУТРЬ ПАК.",
         "1.0",
         "244.31",
         "343.0",
         "0.0",
         "18",
         "148623",
         "Магнит Фарма ООО",
         null,
         "nan",
         "205",
         "offline",
         "2.0"
        ],
        [
         "64",
         "11.08.2022",
         "14:48:16",
         "2202",
         "2004598",
         "2",
         "МИГ 400МГ. №20 ТАБ. П/П/О /БЕРЛИН-ХЕМИ/",
         "1.0",
         "120.0",
         "144.0",
         "0.0",
         "18",
         "110605",
         "Пульс",
         null,
         "nan",
         "205",
         "offline",
         "1.0"
        ],
        [
         "80",
         "11.08.2022",
         "15:24:20",
         "2207",
         "2004598",
         "2",
         "ФЛЕМОКСИН СОЛЮТАБ 500МГ. №20 ТАБ.ДИСПЕРГ. /АСТЕЛЛАС/",
         "1.0",
         "320.08",
         "382.0",
         "0.0",
         "15",
         "44822",
         "Пульс",
         null,
         "nan",
         "205",
         "offline",
         "3.0"
        ],
        [
         "81",
         "11.08.2022",
         "15:24:20",
         "2207",
         "2004598",
         "2",
         "ЛИНЕКС ФОРТЕ №14 КАПС. /ЛЕК/",
         "1.0",
         "540.45",
         "741.0",
         "0.0",
         "15",
         "292821",
         "Пульс",
         null,
         "nan",
         "205",
         "offline",
         "2.0"
        ],
        [
         "82",
         "11.08.2022",
         "15:24:20",
         "2207",
         "2004598",
         "2",
         "КЛИНСА БИНТ ЭЛАСТ. КОМПРЕС. СР 8Х150СМ (ЗАСТЕЖКА)",
         "1.0",
         "107.59",
         "169.0",
         "0.0",
         "15",
         "325911",
         "Протек",
         null,
         "nan",
         "205",
         "offline",
         "1.0"
        ],
        [
         "87",
         "11.08.2022",
         "15:42:46",
         "2210",
         "2004598",
         "2",
         "ТОНЗИЛОТРЕН №60 ТАБ. Д/РАСС.",
         "1.0",
         "872.94",
         "1196.0",
         "0.0",
         "15",
         "35",
         "Здравсервис",
         null,
         "nan",
         "205",
         "offline",
         "1.0"
        ],
        [
         "89",
         "11.08.2022",
         "16:07:04",
         "2212",
         "2004598",
         "2",
         "КАРДИОМАГНИЛ 150МГ.+30,39МГ. №100 ТАБ.",
         "1.0",
         "392.31",
         "459.0",
         "0.0",
         "18",
         "67282",
         "Пульс",
         null,
         "nan",
         "205",
         "offline",
         "1.0"
        ],
        [
         "90",
         "11.08.2022",
         "16:15:12",
         "2213",
         "2004598",
         "2",
         "УНИПЛАСТ ЛЕЙКОПЛАСТ. БАКТЕР. ВЛАГОСТ. 1,9Х7,2СМ №20 VEROTEX",
         "1.0",
         "65.53",
         "105.0",
         "0.0",
         "18",
         "12069",
         "ООО \"Акцентмед\"",
         null,
         "nan",
         "205",
         "offline",
         "1.0"
        ],
        [
         "91",
         "11.08.2022",
         "16:34:31",
         "2214",
         "2004598",
         "2",
         "ВАЛЕРИАНЫ НАСТОЙКА 25МЛ. ФЛ. /ИВАНОВСКАЯ ФФ/",
         "1.0",
         "36.27",
         "46.0",
         "0.0",
         "18",
         "440424",
         "Катрен г.Химки",
         null,
         "nan",
         "205",
         "offline",
         "2.0"
        ],
        [
         "92",
         "11.08.2022",
         "16:34:31",
         "2214",
         "2004598",
         "2",
         "ВАЛЕРИАНЫ НАСТОЙКА 25МЛ. ФЛ. /ИВАНОВСКАЯ ФФ/",
         "1.0",
         "36.27",
         "46.0",
         "0.0",
         "18",
         "440424",
         "Катрен г.Химки",
         null,
         "nan",
         "205",
         "offline",
         "3.0"
        ],
        [
         "93",
         "11.08.2022",
         "16:34:31",
         "2214",
         "2004598",
         "2",
         "ЭЛИКВИС 2,5МГ. №60 ТАБ. П/П/О /ПФАЙЗЕР/БРИСТОЛ-МАЙЕРС/",
         "1.0",
         "2282.33",
         "2525.0",
         "0.0",
         "18",
         "192460",
         "Катрен г.Химки",
         null,
         "nan",
         "205",
         "offline",
         "7.0"
        ],
        [
         "94",
         "11.08.2022",
         "16:34:31",
         "2214",
         "2004598",
         "2",
         "КЛИНСА САЛФЕТКИ МЕД.СТЕР. 16Х14СМ. №10",
         "1.0",
         "33.03",
         "54.0",
         "0.0",
         "18",
         "296046",
         "Протек",
         null,
         "nan",
         "205",
         "offline",
         "6.0"
        ],
        [
         "95",
         "11.08.2022",
         "16:34:31",
         "2214",
         "2004598",
         "2",
         "БИНТЛИ-М БИНТ ЛИПКИЙ ПРОНИЦАЕМЫЙ 10СМХ2М.",
         "1.0",
         "57.31",
         "92.0",
         "0.0",
         "18",
         "31351",
         "Здравсервис",
         null,
         "nan",
         "205",
         "offline",
         "1.0"
        ],
        [
         "96",
         "11.08.2022",
         "16:39:47",
         "2215",
         "2004598",
         "2",
         "ЛЕВОМЕКОЛЬ 40МГ/Г.+7,5МГ/Г. 40Г. №1 МАЗЬ Д/НАРУЖ.ПРИМ. ТУБА /НИЖФАРМ/",
         "1.0",
         "151.18",
         "214.0",
         "0.0",
         "15",
         "39416",
         "Пульс",
         null,
         "nan",
         "205",
         "offline",
         "1.0"
        ],
        [
         "97",
         "11.08.2022",
         "16:39:47",
         "2215",
         "2004598",
         "2",
         "МЕТИЛУРАЦИЛ 500МГ. №10 СУПП. РЕКТ. /НИЖФАРМ/",
         "1.0",
         "114.23",
         "162.0",
         "0.0",
         "15",
         "3910",
         "Пульс",
         null,
         "nan",
         "205",
         "offline",
         "2.0"
        ],
        [
         "105",
         "11.08.2022",
         "16:49:04",
         "2218",
         "2004598",
         "2",
         "КЛИНСА КОНТЕЙНЕР Д/БИОМАТЕРИАЛОВ УНИВЕРС. 125МЛ.",
         "1.0",
         "20.76",
         "34.0",
         "0.0",
         "15",
         "341128",
         "Протек",
         null,
         "nan",
         "205",
         "offline",
         "1.0"
        ],
        [
         "108",
         "11.08.2022",
         "17:16:40",
         "2221",
         "2004598",
         "2",
         "ИБЕРОГАСТ 50МЛ. КАПЛИ Д/ПРИЕМА ВНУТРЬ ФЛ.",
         "1.0",
         "616.88",
         "646.0",
         "0.0",
         "18",
         "263609",
         "ЕАПТЕКА ООО",
         null,
         "nan",
         "205",
         "online",
         "2.0"
        ],
        [
         "109",
         "11.08.2022",
         "17:16:40",
         "2221",
         "2004598",
         "2",
         "МЕБЕВЕРИН-СЗ 135МГ. №50 ТАБ. П/П/О /СЕВЕРНАЯ ЗВЕЗДА/",
         "1.0",
         "349.47",
         "366.0",
         "0.0",
         "18",
         "501516",
         "ЕАПТЕКА ООО",
         null,
         "nan",
         "205",
         "online",
         "3.0"
        ],
        [
         "110",
         "11.08.2022",
         "17:16:40",
         "2221",
         "2004598",
         "2",
         "АКТОФЛОР-С 2МЛ. №30 Р-Р Д/ПРИЕМА ВНУТРЬ ТЮБ./КАП. /СОЛОФАРМ/",
         "1.0",
         "401.1",
         "420.0",
         "0.0",
         "18",
         "319246",
         "ЕАПТЕКА ООО",
         null,
         "nan",
         "205",
         "online",
         "1.0"
        ],
        [
         "111",
         "11.08.2022",
         "17:17:15",
         "2222",
         "2004598",
         "2",
         "ПАСТА САЛИЦИЛОВО-ЦИНКОВАЯ 25Г. БАНКА /ТУЛЬСКАЯ ФФ/",
         "1.0",
         "23.91",
         "37.0",
         "0.0",
         "18",
         "483452",
         "Здравсервис",
         null,
         "nan",
         "205",
         "offline",
         "1.0"
        ],
        [
         "113",
         "11.08.2022",
         "17:22:53",
         "2224",
         "2004598",
         "2",
         "ИБУКЛИН 400МГ.+325МГ. №10 ТАБ. П/П/О",
         "1.0",
         "133.47",
         "189.0",
         "0.0",
         "15",
         "475",
         "ГРАНД КАПИТАЛ СМОЛЕНСК ООО ФК",
         null,
         "nan",
         "205",
         "offline",
         "1.0"
        ],
        [
         "114",
         "11.08.2022",
         "17:41:59",
         "2225",
         "2004598",
         "2",
         "ЦЕФТРИАКСОН 1Г. №1 ПОР. Д/Р-РА Д/В/В,В/М ФЛ. /ЛЕККО/",
         "1.0",
         "31.02",
         "38.0",
         "0.0",
         "15",
         "345687",
         "ПрофитМед",
         null,
         "nan",
         "205",
         "offline",
         "7.0"
        ],
        [
         "115",
         "11.08.2022",
         "17:41:59",
         "2225",
         "2004598",
         "2",
         "ЦЕФТРИАКСОН 1Г. №1 ПОР. Д/Р-РА Д/В/В,В/М ФЛ. /ЛЕККО/",
         "1.0",
         "31.02",
         "38.0",
         "0.0",
         "15",
         "345687",
         "ПрофитМед",
         null,
         "nan",
         "205",
         "offline",
         "8.0"
        ],
        [
         "116",
         "11.08.2022",
         "17:41:59",
         "2225",
         "2004598",
         "2",
         "ЦЕФТРИАКСОН 1Г. №1 ПОР. Д/Р-РА Д/В/В,В/М ФЛ. /ЛЕККО/",
         "1.0",
         "31.02",
         "38.0",
         "0.0",
         "15",
         "345687",
         "ПрофитМед",
         null,
         "nan",
         "205",
         "offline",
         "9.0"
        ],
        [
         "117",
         "11.08.2022",
         "17:41:59",
         "2225",
         "2004598",
         "2",
         "ЦЕФТРИАКСОН 1Г. №1 ПОР. Д/Р-РА Д/В/В,В/М ФЛ. /ЛЕККО/",
         "1.0",
         "31.02",
         "38.0",
         "0.0",
         "15",
         "345687",
         "ПрофитМед",
         null,
         "nan",
         "205",
         "offline",
         "10.0"
        ],
        [
         "118",
         "11.08.2022",
         "17:41:59",
         "2225",
         "2004598",
         "2",
         "ЦЕФТРИАКСОН 1Г. №1 ПОР. Д/Р-РА Д/В/В,В/М ФЛ. /ЛЕККО/",
         "1.0",
         "31.02",
         "38.0",
         "0.0",
         "15",
         "345687",
         "ПрофитМед",
         null,
         "nan",
         "205",
         "offline",
         "11.0"
        ]
       ],
       "shape": {
        "columns": 18,
        "rows": 2697
       }
      },
      "text/html": [
       "<div>\n",
       "<style scoped>\n",
       "    .dataframe tbody tr th:only-of-type {\n",
       "        vertical-align: middle;\n",
       "    }\n",
       "\n",
       "    .dataframe tbody tr th {\n",
       "        vertical-align: top;\n",
       "    }\n",
       "\n",
       "    .dataframe thead th {\n",
       "        text-align: right;\n",
       "    }\n",
       "</style>\n",
       "<table border=\"1\" class=\"dataframe\">\n",
       "  <thead>\n",
       "    <tr style=\"text-align: right;\">\n",
       "      <th></th>\n",
       "      <th>date</th>\n",
       "      <th>time</th>\n",
       "      <th>...</th>\n",
       "      <th>vzak</th>\n",
       "      <th>pos</th>\n",
       "    </tr>\n",
       "  </thead>\n",
       "  <tbody>\n",
       "    <tr>\n",
       "      <th>15</th>\n",
       "      <td>11.08.2022</td>\n",
       "      <td>11:00:23</td>\n",
       "      <td>...</td>\n",
       "      <td>offline</td>\n",
       "      <td>1.00</td>\n",
       "    </tr>\n",
       "    <tr>\n",
       "      <th>16</th>\n",
       "      <td>11.08.2022</td>\n",
       "      <td>11:00:23</td>\n",
       "      <td>...</td>\n",
       "      <td>offline</td>\n",
       "      <td>2.00</td>\n",
       "    </tr>\n",
       "    <tr>\n",
       "      <th>20</th>\n",
       "      <td>11.08.2022</td>\n",
       "      <td>11:31:34</td>\n",
       "      <td>...</td>\n",
       "      <td>offline</td>\n",
       "      <td>1.00</td>\n",
       "    </tr>\n",
       "    <tr>\n",
       "      <th>21</th>\n",
       "      <td>11.08.2022</td>\n",
       "      <td>11:31:34</td>\n",
       "      <td>...</td>\n",
       "      <td>offline</td>\n",
       "      <td>2.00</td>\n",
       "    </tr>\n",
       "    <tr>\n",
       "      <th>22</th>\n",
       "      <td>11.08.2022</td>\n",
       "      <td>11:36:05</td>\n",
       "      <td>...</td>\n",
       "      <td>offline</td>\n",
       "      <td>1.00</td>\n",
       "    </tr>\n",
       "    <tr>\n",
       "      <th>...</th>\n",
       "      <td>...</td>\n",
       "      <td>...</td>\n",
       "      <td>...</td>\n",
       "      <td>...</td>\n",
       "      <td>...</td>\n",
       "    </tr>\n",
       "    <tr>\n",
       "      <th>4456</th>\n",
       "      <td>12.08.2022</td>\n",
       "      <td>21:39:23</td>\n",
       "      <td>...</td>\n",
       "      <td>offline</td>\n",
       "      <td>1.00</td>\n",
       "    </tr>\n",
       "    <tr>\n",
       "      <th>4457</th>\n",
       "      <td>12.08.2022</td>\n",
       "      <td>21:40:17</td>\n",
       "      <td>...</td>\n",
       "      <td>offline</td>\n",
       "      <td>1.00</td>\n",
       "    </tr>\n",
       "    <tr>\n",
       "      <th>4458</th>\n",
       "      <td>12.08.2022</td>\n",
       "      <td>21:40:59</td>\n",
       "      <td>...</td>\n",
       "      <td>offline</td>\n",
       "      <td>1.00</td>\n",
       "    </tr>\n",
       "    <tr>\n",
       "      <th>4459</th>\n",
       "      <td>12.08.2022</td>\n",
       "      <td>21:43:48</td>\n",
       "      <td>...</td>\n",
       "      <td>offline</td>\n",
       "      <td>1.00</td>\n",
       "    </tr>\n",
       "    <tr>\n",
       "      <th>4460</th>\n",
       "      <td>12.08.2022</td>\n",
       "      <td>21:44:46</td>\n",
       "      <td>...</td>\n",
       "      <td>offline</td>\n",
       "      <td>1.00</td>\n",
       "    </tr>\n",
       "  </tbody>\n",
       "</table>\n",
       "<p>2697 rows × 18 columns</p>\n",
       "</div>"
      ],
      "text/plain": [
       "            date      time  ...     vzak  pos\n",
       "15    11.08.2022  11:00:23  ...  offline 1.00\n",
       "16    11.08.2022  11:00:23  ...  offline 2.00\n",
       "20    11.08.2022  11:31:34  ...  offline 1.00\n",
       "21    11.08.2022  11:31:34  ...  offline 2.00\n",
       "22    11.08.2022  11:36:05  ...  offline 1.00\n",
       "...          ...       ...  ...      ...  ...\n",
       "4456  12.08.2022  21:39:23  ...  offline 1.00\n",
       "4457  12.08.2022  21:40:17  ...  offline 1.00\n",
       "4458  12.08.2022  21:40:59  ...  offline 1.00\n",
       "4459  12.08.2022  21:43:48  ...  offline 1.00\n",
       "4460  12.08.2022  21:44:46  ...  offline 1.00\n",
       "\n",
       "[2697 rows x 18 columns]"
      ]
     },
     "execution_count": 79,
     "metadata": {},
     "output_type": "execute_result"
    }
   ],
   "source": [
    "# if i want to see exactly where are NA elements i can write like this\n",
    "edited_df[edited_df.isna().values.any(axis = 1)] # this will check by row"
   ]
  },
  {
   "cell_type": "code",
   "execution_count": 80,
   "id": "ebcecf80",
   "metadata": {},
   "outputs": [],
   "source": [
    "# one way of dealing with NA is replacing it with something using function fillna()\n",
    "edited_df = edited_df.fillna(0)"
   ]
  },
  {
   "cell_type": "code",
   "execution_count": 81,
   "id": "b9f6e185",
   "metadata": {},
   "outputs": [
    {
     "data": {
      "application/vnd.microsoft.datawrangler.viewer.v0+json": {
       "columns": [
        {
         "name": "index",
         "rawType": "object",
         "type": "string"
        },
        {
         "name": "0",
         "rawType": "bool",
         "type": "boolean"
        }
       ],
       "ref": "d0d68463-ff34-426f-91b2-0f34bde6e0cf",
       "rows": [
        [
         "date",
         "False"
        ],
        [
         "time",
         "False"
        ],
        [
         "n_chk",
         "False"
        ],
        [
         "n_doc",
         "False"
        ],
        [
         "apt",
         "False"
        ],
        [
         "name_drugs",
         "False"
        ],
        [
         "amnt",
         "False"
        ],
        [
         "purch_price",
         "False"
        ],
        [
         "retail_price",
         "False"
        ],
        [
         "disc",
         "False"
        ],
        [
         "pay_type",
         "False"
        ],
        [
         "drug_id",
         "False"
        ],
        [
         "supplier",
         "False"
        ],
        [
         "disc_id",
         "False"
        ],
        [
         "disc_barcode",
         "False"
        ],
        [
         "employee",
         "False"
        ],
        [
         "vzak",
         "False"
        ],
        [
         "pos",
         "False"
        ]
       ],
       "shape": {
        "columns": 1,
        "rows": 18
       }
      },
      "text/plain": [
       "date            False\n",
       "time            False\n",
       "n_chk           False\n",
       "n_doc           False\n",
       "apt             False\n",
       "name_drugs      False\n",
       "amnt            False\n",
       "purch_price     False\n",
       "retail_price    False\n",
       "disc            False\n",
       "pay_type        False\n",
       "drug_id         False\n",
       "supplier        False\n",
       "disc_id         False\n",
       "disc_barcode    False\n",
       "employee        False\n",
       "vzak            False\n",
       "pos             False\n",
       "dtype: bool"
      ]
     },
     "execution_count": 81,
     "metadata": {},
     "output_type": "execute_result"
    }
   ],
   "source": [
    "edited_df.isna().any()"
   ]
  },
  {
   "cell_type": "code",
   "execution_count": null,
   "id": "e039e0a5",
   "metadata": {},
   "outputs": [],
   "source": [
    "# but if i have data which cant be replaced with 0 (speed, time etc. - if i replace it by zero it will affect calculations)\n",
    "# i can use interpolation\n",
    "edited_df.interpolate(method='cubic') # for each data should be used the most appropriate method"
   ]
  },
  {
   "cell_type": "code",
   "execution_count": 83,
   "id": "2982499f",
   "metadata": {},
   "outputs": [
    {
     "data": {
      "application/vnd.microsoft.datawrangler.viewer.v0+json": {
       "columns": [
        {
         "name": "index",
         "rawType": "int64",
         "type": "integer"
        },
        {
         "name": "date",
         "rawType": "object",
         "type": "string"
        },
        {
         "name": "time",
         "rawType": "object",
         "type": "string"
        },
        {
         "name": "n_chk",
         "rawType": "int64",
         "type": "integer"
        },
        {
         "name": "n_doc",
         "rawType": "int64",
         "type": "integer"
        },
        {
         "name": "apt",
         "rawType": "int64",
         "type": "integer"
        },
        {
         "name": "name_drugs",
         "rawType": "object",
         "type": "string"
        },
        {
         "name": "amnt",
         "rawType": "float64",
         "type": "float"
        },
        {
         "name": "purch_price",
         "rawType": "float64",
         "type": "float"
        },
        {
         "name": "retail_price",
         "rawType": "float64",
         "type": "float"
        },
        {
         "name": "disc",
         "rawType": "float64",
         "type": "float"
        },
        {
         "name": "pay_type",
         "rawType": "int64",
         "type": "integer"
        },
        {
         "name": "drug_id",
         "rawType": "int64",
         "type": "integer"
        },
        {
         "name": "supplier",
         "rawType": "object",
         "type": "string"
        },
        {
         "name": "disc_id",
         "rawType": "float64",
         "type": "float"
        },
        {
         "name": "disc_barcode",
         "rawType": "object",
         "type": "string"
        },
        {
         "name": "employee",
         "rawType": "int64",
         "type": "integer"
        },
        {
         "name": "vzak",
         "rawType": "object",
         "type": "string"
        },
        {
         "name": "pos",
         "rawType": "float64",
         "type": "float"
        }
       ],
       "ref": "a3870146-2898-41ba-a173-e6490b14dbcc",
       "rows": [
        [
         "0",
         "11.08.2022",
         "10:15:35",
         "2173",
         "2004598",
         "2",
         "ЦИПРОЛЕТ 3МГ/МЛ. 5МЛ. №1 ГЛ.КАПЛИ ФЛ./КАП. /Д-Р РЕДДИ/",
         "1.0",
         "41.08",
         "51.0",
         "12.0",
         "18",
         "45399",
         "Катрен г.Химки",
         "925.0",
         "200000000492",
         "205",
         "offline",
         "1.0"
        ],
        [
         "1",
         "11.08.2022",
         "10:27:46",
         "2174",
         "2004598",
         "2",
         "ПЕРЕКИСЬ ВОДОРОДА 3% 100МЛ. №40 Р-Р ФЛ.",
         "1.0",
         "18.61",
         "31.0",
         "3.0",
         "15",
         "261519",
         "Катрен г.Химки",
         "9.0",
         "200010010204",
         "205",
         "offline",
         "1.0"
        ],
        [
         "2",
         "11.08.2022",
         "10:27:46",
         "2174",
         "2004598",
         "2",
         "СОФЬЯ ГЕЛЬ Д/НОГ ВЕНОТОНИЗ. ТРОКСЕРУТИН ФОРТЕ 125МЛ.",
         "1.0",
         "132.69",
         "209.0",
         "20.0",
         "15",
         "460864",
         "Катрен г.Химки",
         "9.0",
         "200010010204",
         "205",
         "offline",
         "2.0"
        ],
        [
         "3",
         "11.08.2022",
         "10:27:46",
         "2174",
         "2004598",
         "2",
         "СОФЬЯ ГХК КРЕМ Д/ТЕЛА ХОНДРОИТИН+ГЛЮКОЗАМИН 125МЛ. ТУБА",
         "1.0",
         "133.65",
         "210.0",
         "21.0",
         "15",
         "172823",
         "Катрен г.Химки",
         "9.0",
         "200010010204",
         "205",
         "offline",
         "3.0"
        ],
        [
         "4",
         "11.08.2022",
         "10:33:56",
         "2175",
         "2004598",
         "2",
         "ГАЛВУС 50МГ. №28 ТАБ. /НОВАРТИС/",
         "1.0",
         "709.95",
         "787.0",
         "49.0",
         "18",
         "79056",
         "Катрен г.Химки",
         "925.0",
         "200000000492",
         "205",
         "offline",
         "1.0"
        ],
        [
         "5",
         "11.08.2022",
         "10:40:38",
         "2176",
         "2004598",
         "2",
         "БИСОПРОЛОЛ 5МГ. №60 ТАБ. П/П/О /ВЕРТЕКС/",
         "1.0",
         "152.9",
         "182.0",
         "9.0",
         "18",
         "187304",
         "Пульс",
         "9.0",
         "200010001947",
         "205",
         "offline",
         "1.0"
        ],
        [
         "6",
         "11.08.2022",
         "10:40:38",
         "2176",
         "2004598",
         "2",
         "ТРИХОПОЛ 250МГ. №20 ТАБ. /ПОЛЬФАРМА/",
         "1.0",
         "67.94",
         "85.0",
         "4.0",
         "18",
         "1261",
         "ГРАНД КАПИТАЛ СМОЛЕНСК ООО ФК",
         "9.0",
         "200010001947",
         "205",
         "offline",
         "2.0"
        ],
        [
         "7",
         "11.08.2022",
         "10:52:52",
         "2177",
         "2004598",
         "2",
         "НОРВАСК 5МГ. №30 ТАБ. /ПФАЙЗЕР/АПДЖОН/",
         "1.0",
         "157.76",
         "189.0",
         "9.0",
         "18",
         "2566",
         "Катрен г.Химки",
         "9.0",
         "200010013331",
         "205",
         "offline",
         "3.0"
        ],
        [
         "8",
         "11.08.2022",
         "10:52:52",
         "2177",
         "2004598",
         "2",
         "НОРВАСК 5МГ. №30 ТАБ. /ПФАЙЗЕР/АПДЖОН/",
         "1.0",
         "159.4",
         "191.0",
         "9.0",
         "18",
         "2566",
         "Катрен г.Химки",
         "9.0",
         "200010013331",
         "205",
         "offline",
         "4.0"
        ],
        [
         "9",
         "11.08.2022",
         "10:52:52",
         "2177",
         "2004598",
         "2",
         "СОТАГЕКСАЛ 80МГ. №20 ТАБ. /ГЕКСАЛ АГ/",
         "1.0",
         "71.97",
         "90.0",
         "4.0",
         "18",
         "5155",
         "Катрен г.Химки",
         "9.0",
         "200010013331",
         "205",
         "offline",
         "5.0"
        ],
        [
         "10",
         "11.08.2022",
         "10:52:52",
         "2177",
         "2004598",
         "2",
         "СОТАГЕКСАЛ 80МГ. №20 ТАБ. /ГЕКСАЛ АГ/",
         "1.0",
         "71.97",
         "90.0",
         "4.0",
         "18",
         "5155",
         "Катрен г.Химки",
         "9.0",
         "200010013331",
         "205",
         "offline",
         "6.0"
        ],
        [
         "11",
         "11.08.2022",
         "10:52:52",
         "2177",
         "2004598",
         "2",
         "СОТАГЕКСАЛ 80МГ. №20 ТАБ. /ГЕКСАЛ АГ/",
         "1.0",
         "71.97",
         "90.0",
         "4.0",
         "18",
         "5155",
         "Катрен г.Химки",
         "9.0",
         "200010013331",
         "205",
         "offline",
         "7.0"
        ],
        [
         "12",
         "11.08.2022",
         "10:52:52",
         "2177",
         "2004598",
         "2",
         "ЭДАРБИ КЛО 40МГ.+25МГ. №28 ТАБ. П/П/О",
         "1.0",
         "819.37",
         "1123.0",
         "78.0",
         "18",
         "303880",
         "Катрен г.Химки",
         "9.0",
         "200010013331",
         "205",
         "offline",
         "8.0"
        ],
        [
         "13",
         "11.08.2022",
         "10:52:52",
         "2177",
         "2004598",
         "2",
         "ДИКЛОФЕНАК 100МГ. №20 ТАБ.ПРОЛОНГ. П/О /НИЖФАРМ/ХЕМОФАРМ/",
         "1.0",
         "56.43",
         "71.0",
         "3.0",
         "18",
         "82079",
         "Катрен г.Химки",
         "9.0",
         "200010013331",
         "205",
         "offline",
         "1.0"
        ],
        [
         "14",
         "11.08.2022",
         "10:52:52",
         "2177",
         "2004598",
         "2",
         "КАПСИКАМ 50Г. МАЗЬ Д/НАРУЖ.ПРИМ. ТУБА /ГРИНДЕКС/ТАЛЛИНСКИЙ/",
         "1.0",
         "292.09",
         "409.0",
         "28.0",
         "18",
         "46",
         "Здравсервис",
         "9.0",
         "200010013331",
         "205",
         "offline",
         "2.0"
        ],
        [
         "15",
         "11.08.2022",
         "11:00:23",
         "2178",
         "2004598",
         "2",
         "НАФТИЗИН 0,1% 15МЛ. НАЗАЛ.КАПЛИ ФЛ./КАП. /ЛЕККО/",
         "1.0",
         "12.94",
         "18.0",
         "0.0",
         "18",
         "496504",
         "Катрен г.Химки",
         "0.0",
         "nan",
         "205",
         "offline",
         "1.0"
        ],
        [
         "16",
         "11.08.2022",
         "11:00:23",
         "2178",
         "2004598",
         "2",
         "НАФТИЗИН 0,1% 15МЛ. НАЗАЛ.КАПЛИ ФЛ./КАП. /ЛЕККО/",
         "1.0",
         "12.94",
         "18.0",
         "0.0",
         "18",
         "496504",
         "Катрен г.Химки",
         "0.0",
         "nan",
         "205",
         "offline",
         "2.0"
        ],
        [
         "17",
         "11.08.2022",
         "11:18:12",
         "2179",
         "2004598",
         "2",
         "ГУТТАЛАКС 7,5МГ/МЛ. 30МЛ. КАПЛИ Д/ПРИЕМА ВНУТРЬ ФЛ./КАП.",
         "1.0",
         "479.22",
         "657.0",
         "45.0",
         "18",
         "2432",
         "Катрен г.Химки",
         "9.0",
         "200010013331",
         "205",
         "offline",
         "1.0"
        ],
        [
         "18",
         "11.08.2022",
         "11:23:22",
         "2180",
         "2004598",
         "2",
         "ЦИТРАМОН П №20 ТАБ. /ФАРМСТАНДАРТ/",
         "1.0",
         "43.31",
         "66.0",
         "4.0",
         "15",
         "393314",
         "Катрен г.Химки",
         "9.0",
         "200010020147",
         "205",
         "offline",
         "1.0"
        ],
        [
         "19",
         "11.08.2022",
         "11:23:22",
         "2180",
         "2004598",
         "2",
         "ЦИТРАМОН П №20 ТАБ. /ФАРМСТАНДАРТ/",
         "1.0",
         "42.08",
         "64.0",
         "4.0",
         "15",
         "393314",
         "ООО \"Акцентмед\"",
         "9.0",
         "200010020147",
         "205",
         "offline",
         "2.0"
        ],
        [
         "20",
         "11.08.2022",
         "11:31:34",
         "2181",
         "2004598",
         "2",
         "ЛАКТОФИЛЬТРУМ 500МГ. №60 ТАБ.",
         "1.0",
         "408.63",
         "560.0",
         "0.0",
         "18",
         "14120",
         "Пульс",
         "0.0",
         "nan",
         "205",
         "offline",
         "1.0"
        ],
        [
         "21",
         "11.08.2022",
         "11:31:34",
         "2181",
         "2004598",
         "2",
         "ФЕСТАЛ №40 ДРАЖЕ",
         "1.0",
         "333.74",
         "458.0",
         "0.0",
         "18",
         "78641",
         "ВИТТА КОМПАНИ ООО",
         "0.0",
         "nan",
         "205",
         "offline",
         "2.0"
        ],
        [
         "22",
         "11.08.2022",
         "11:36:05",
         "2182",
         "2004598",
         "2",
         "ДОКТОР МОМ №20 ПАСТИЛКИ МАЛИНА",
         "1.0",
         "141.55",
         "200.0",
         "0.0",
         "15",
         "18849",
         "Пульс",
         "0.0",
         "nan",
         "205",
         "offline",
         "1.0"
        ],
        [
         "23",
         "11.08.2022",
         "11:37:27",
         "2183",
         "2004598",
         "2",
         "ИНГАВИРИН 90МГ. №10 КАПС. /ВАЛЕНТА/",
         "1.0",
         "685.41",
         "760.0",
         "38.0",
         "18",
         "468466",
         "Магнит Фарма ООО",
         "9.0",
         "200010024015",
         "205",
         "offline",
         "1.0"
        ],
        [
         "24",
         "11.08.2022",
         "17:15:15",
         "2220",
         "2004598",
         "2",
         "ИНГАВИРИН 90МГ. №10 КАПС. /ВАЛЕНТА/",
         "1.0",
         "685.41",
         "760.0",
         "0.0",
         "15",
         "468466",
         "Магнит Фарма ООО",
         "0.0",
         "nan",
         "205",
         "offline",
         "1.0"
        ],
        [
         "25",
         "11.08.2022",
         "11:50:16",
         "2184",
         "2004598",
         "2",
         "КАРДИОМАГНИЛ 75МГ.+15,2МГ. №100 ТАБ.",
         "1.0",
         "242.63",
         "284.0",
         "19.0",
         "15",
         "16911",
         "ООО \"Акцентмед\"",
         "9.0",
         "200010014079",
         "205",
         "offline",
         "4.0"
        ],
        [
         "26",
         "11.08.2022",
         "15:17:48",
         "2205",
         "2004598",
         "2",
         "КАРДИОМАГНИЛ 75МГ.+15,2МГ. №100 ТАБ.",
         "1.0",
         "242.63",
         "284.0",
         "19.0",
         "18",
         "16911",
         "ООО \"Акцентмед\"",
         "9.0",
         "200010012006",
         "205",
         "offline",
         "1.0"
        ],
        [
         "27",
         "11.08.2022",
         "11:50:16",
         "2184",
         "2004598",
         "2",
         "АКАТИНОЛ МЕМАНТИН 20МГ. №28 ТАБ. П/П/О /МЕРЦ ФАРМА/",
         "1.0",
         "2545.84",
         "2824.0",
         "141.0",
         "15",
         "153467",
         "ВИТТА КОМПАНИ ООО",
         "9.0",
         "200010014079",
         "205",
         "offline",
         "1.0"
        ],
        [
         "28",
         "11.08.2022",
         "11:50:16",
         "2184",
         "2004598",
         "2",
         "БЕТАЛОК ЗОК 50МГ. №30 ТАБ.ПРОЛОНГ. П/О /АСТРА ЗЕНЕКА/",
         "1.0",
         "248.66",
         "299.0",
         "14.0",
         "15",
         "20856",
         "ГРАНД КАПИТАЛ СМОЛЕНСК ООО ФК",
         "9.0",
         "200010014079",
         "205",
         "offline",
         "3.0"
        ],
        [
         "29",
         "11.08.2022",
         "11:50:16",
         "2184",
         "2004598",
         "2",
         "ПРАДАКСА 110МГ. №60 КАПС. /БЕРИНГЕР/",
         "1.0",
         "3076.03",
         "3432.0",
         "171.0",
         "15",
         "154600",
         "Протек",
         "9.0",
         "200010014079",
         "205",
         "offline",
         "5.0"
        ],
        [
         "30",
         "11.08.2022",
         "11:50:16",
         "2184",
         "2004598",
         "2",
         "АСЕПТИКА САЛФЕТКА СПИРТОВАЯ 60Х100 №30",
         "1.0",
         "43.28",
         "71.0",
         "7.0",
         "15",
         "387509",
         "Катрен г.Химки",
         "9.0",
         "200010014079",
         "205",
         "offline",
         "2.0"
        ],
        [
         "31",
         "11.08.2022",
         "12:40:25",
         "2190",
         "2004598",
         "2",
         "АСЕПТИКА САЛФЕТКА СПИРТОВАЯ 60Х100 №30",
         "1.0",
         "43.28",
         "71.0",
         "0.0",
         "18",
         "387509",
         "Катрен г.Химки",
         "0.0",
         "nan",
         "205",
         "offline",
         "1.0"
        ],
        [
         "32",
         "11.08.2022",
         "14:43:28",
         "2199",
         "2004598",
         "2",
         "АСЕПТИКА САЛФЕТКА СПИРТОВАЯ 60Х100 №30",
         "1.0",
         "43.28",
         "71.0",
         "7.0",
         "18",
         "387509",
         "Катрен г.Химки",
         "9.0",
         "200010016095",
         "205",
         "offline",
         "1.0"
        ],
        [
         "33",
         "11.08.2022",
         "17:41:59",
         "2225",
         "2004598",
         "2",
         "АСЕПТИКА САЛФЕТКА СПИРТОВАЯ 60Х100 №30",
         "1.0",
         "43.28",
         "71.0",
         "0.0",
         "15",
         "387509",
         "Катрен г.Химки",
         "0.0",
         "nan",
         "205",
         "offline",
         "2.0"
        ],
        [
         "34",
         "11.08.2022",
         "11:52:29",
         "2185",
         "2004598",
         "2",
         "АПРОВАСК 5МГ.+150МГ. №28 ТАБ. П/П/О",
         "1.0",
         "742.58",
         "1018.0",
         "71.0",
         "18",
         "294512",
         "Протек",
         "9.0",
         "200010016574",
         "205",
         "offline",
         "1.0"
        ],
        [
         "35",
         "11.08.2022",
         "12:06:41",
         "2186",
         "2004598",
         "2",
         "ТЕЛЗАП АМ 5МГ.+80МГ. №28 ТАБ.",
         "1.0",
         "494.79",
         "678.0",
         "0.0",
         "18",
         "491798",
         "ГРАНД КАПИТАЛ СМОЛЕНСК ООО ФК",
         "0.0",
         "nan",
         "205",
         "offline",
         "1.0"
        ],
        [
         "36",
         "11.08.2022",
         "12:16:40",
         "2187",
         "2004598",
         "2",
         "КЛОТРИМАЗОЛ-АКРИХИН 1% 20Г. МАЗЬ Д/НАРУЖ.ПРИМ. ТУБА",
         "1.0",
         "116.04",
         "164.0",
         "11.0",
         "18",
         "4799",
         "ГРАНД КАПИТАЛ СМОЛЕНСК ООО ФК",
         "9.0",
         "200010010055",
         "205",
         "offline",
         "1.0"
        ],
        [
         "37",
         "11.08.2022",
         "12:20:40",
         "2188",
         "2004598",
         "2",
         "АРЛЕВЕРТ 40МГ.+20МГ. №50 ТАБ.",
         "1.0",
         "1118.26",
         "1510.0",
         "105.0",
         "15",
         "601589",
         "Пульс",
         "9.0",
         "200010024514",
         "205",
         "offline",
         "1.0"
        ],
        [
         "38",
         "11.08.2022",
         "12:39:06",
         "2189",
         "2004598",
         "2",
         "ГЕПАРИН-АКРИХИН 1000МЕ/Г. 50Г. ГЕЛЬ Д/НАРУЖ.ПРИМ. ТУБА",
         "1.0",
         "517.17",
         "709.0",
         "49.0",
         "15",
         "335251",
         "Пульс",
         "9.0",
         "200010024695",
         "205",
         "offline",
         "1.0"
        ],
        [
         "39",
         "11.08.2022",
         "12:40:25",
         "2190",
         "2004598",
         "2",
         "ПАКЕТ",
         "1.0",
         "1.15",
         "2.0",
         "0.0",
         "18",
         "1504015",
         "Индивидуальный предприниматель Кочанов Андрей Миха",
         "0.0",
         "nan",
         "205",
         "offline",
         "3.0"
        ],
        [
         "40",
         "11.08.2022",
         "17:41:59",
         "2225",
         "2004598",
         "2",
         "ПАКЕТ",
         "1.0",
         "1.15",
         "2.0",
         "0.0",
         "15",
         "1504015",
         "Индивидуальный предприниматель Кочанов Андрей Миха",
         "0.0",
         "nan",
         "205",
         "offline",
         "5.0"
        ],
        [
         "41",
         "11.08.2022",
         "12:40:25",
         "2190",
         "2004598",
         "2",
         "СФМ ШПРИЦ 5МЛ. 3-Х КОМП. 0,7Х40ММ 22G №10 [SFM]",
         "1.0",
         "113.75",
         "179.0",
         "0.0",
         "18",
         "318348",
         "Пульс",
         "0.0",
         "nan",
         "205",
         "offline",
         "4.0"
        ],
        [
         "42",
         "11.08.2022",
         "17:41:59",
         "2225",
         "2004598",
         "2",
         "СФМ ШПРИЦ 5МЛ. 3-Х КОМП. 0,7Х40ММ 22G №10 [SFM]",
         "1.0",
         "113.75",
         "179.0",
         "0.0",
         "15",
         "318348",
         "Пульс",
         "0.0",
         "nan",
         "205",
         "offline",
         "6.0"
        ],
        [
         "43",
         "11.08.2022",
         "12:40:25",
         "2190",
         "2004598",
         "2",
         "ДИКЛОФЕНАК 25МГ/МЛ. 3МЛ. №5 Р-Р Д/В/М ВВЕД. АМП. /ХЕМОФАРМ/",
         "1.0",
         "40.76",
         "50.0",
         "0.0",
         "18",
         "431",
         "Катрен г.Химки",
         "0.0",
         "nan",
         "205",
         "offline",
         "2.0"
        ],
        [
         "44",
         "11.08.2022",
         "12:53:08",
         "2191",
         "2004598",
         "2",
         "НАЙЗ 100МГ. №20 ТАБ.",
         "1.0",
         "208.19",
         "240.0",
         "16.0",
         "15",
         "5093",
         "ГРАНД КАПИТАЛ СМОЛЕНСК ООО ФК",
         "9.0",
         "200010024495",
         "205",
         "offline",
         "1.0"
        ],
        [
         "45",
         "11.08.2022",
         "13:10:54",
         "2192",
         "2004598",
         "2",
         "ЦЕФАЛИ АППАРАТ Д/ТЕРАПИИ МИГРЕНИ С ПРИНАДЛ.",
         "1.0",
         "11851.13",
         "12345.0",
         "0.0",
         "18",
         "455413",
         "Протек",
         "0.0",
         "nan",
         "205",
         "online",
         "1.0"
        ],
        [
         "46",
         "11.08.2022",
         "13:11:57",
         "2193",
         "2004598",
         "2",
         "НОРМАКС 0,3% 5МЛ. №1 ГЛ./УШНЫЕ КАПЛИ ФЛ./КАП.",
         "1.0",
         "188.72",
         "267.0",
         "0.0",
         "18",
         "8400",
         "Пульс",
         "0.0",
         "nan",
         "205",
         "offline",
         "1.0"
        ],
        [
         "47",
         "11.08.2022",
         "13:25:44",
         "2194",
         "2004598",
         "2",
         "КУДЕСАН Q10 КАРДИО КАЛИЙ+МАГНИЙ №40 ТАБ.",
         "1.0",
         "391.74",
         "596.0",
         "0.0",
         "18",
         "149412",
         "ГРАНД КАПИТАЛ СМОЛЕНСК ООО ФК",
         "0.0",
         "nan",
         "205",
         "offline",
         "2.0"
        ],
        [
         "48",
         "11.08.2022",
         "13:25:44",
         "2194",
         "2004598",
         "2",
         "ГЛИЦИН ФОРТЕ 300/600МГ. №60 ТАБ. Д/РАСС. /ЭВАЛАР/",
         "1.0",
         "180.46",
         "239.0",
         "0.0",
         "18",
         "256548",
         "Пульс",
         "0.0",
         "nan",
         "205",
         "offline",
         "1.0"
        ],
        [
         "49",
         "11.08.2022",
         "13:34:11",
         "2195",
         "2004598",
         "2",
         "БРИЛЛИАНТОВЫЙ ЗЕЛЕН 1% 10МЛ. №1 СПИРТ. Р-Р Д/НАРУЖ.ПРИМ. С ЛОПАТКОЙ ФЛ. /RENEWAL/",
         "1.0",
         "70.93",
         "101.0",
         "7.0",
         "15",
         "120101",
         "Катрен г.Химки",
         "9.0",
         "200010011957",
         "205",
         "offline",
         "2.0"
        ]
       ],
       "shape": {
        "columns": 18,
        "rows": 4462
       }
      },
      "text/html": [
       "<div>\n",
       "<style scoped>\n",
       "    .dataframe tbody tr th:only-of-type {\n",
       "        vertical-align: middle;\n",
       "    }\n",
       "\n",
       "    .dataframe tbody tr th {\n",
       "        vertical-align: top;\n",
       "    }\n",
       "\n",
       "    .dataframe thead th {\n",
       "        text-align: right;\n",
       "    }\n",
       "</style>\n",
       "<table border=\"1\" class=\"dataframe\">\n",
       "  <thead>\n",
       "    <tr style=\"text-align: right;\">\n",
       "      <th></th>\n",
       "      <th>date</th>\n",
       "      <th>time</th>\n",
       "      <th>...</th>\n",
       "      <th>vzak</th>\n",
       "      <th>pos</th>\n",
       "    </tr>\n",
       "  </thead>\n",
       "  <tbody>\n",
       "    <tr>\n",
       "      <th>0</th>\n",
       "      <td>11.08.2022</td>\n",
       "      <td>10:15:35</td>\n",
       "      <td>...</td>\n",
       "      <td>offline</td>\n",
       "      <td>1.00</td>\n",
       "    </tr>\n",
       "    <tr>\n",
       "      <th>1</th>\n",
       "      <td>11.08.2022</td>\n",
       "      <td>10:27:46</td>\n",
       "      <td>...</td>\n",
       "      <td>offline</td>\n",
       "      <td>1.00</td>\n",
       "    </tr>\n",
       "    <tr>\n",
       "      <th>2</th>\n",
       "      <td>11.08.2022</td>\n",
       "      <td>10:27:46</td>\n",
       "      <td>...</td>\n",
       "      <td>offline</td>\n",
       "      <td>2.00</td>\n",
       "    </tr>\n",
       "    <tr>\n",
       "      <th>3</th>\n",
       "      <td>11.08.2022</td>\n",
       "      <td>10:27:46</td>\n",
       "      <td>...</td>\n",
       "      <td>offline</td>\n",
       "      <td>3.00</td>\n",
       "    </tr>\n",
       "    <tr>\n",
       "      <th>4</th>\n",
       "      <td>11.08.2022</td>\n",
       "      <td>10:33:56</td>\n",
       "      <td>...</td>\n",
       "      <td>offline</td>\n",
       "      <td>1.00</td>\n",
       "    </tr>\n",
       "    <tr>\n",
       "      <th>...</th>\n",
       "      <td>...</td>\n",
       "      <td>...</td>\n",
       "      <td>...</td>\n",
       "      <td>...</td>\n",
       "      <td>...</td>\n",
       "    </tr>\n",
       "    <tr>\n",
       "      <th>4457</th>\n",
       "      <td>12.08.2022</td>\n",
       "      <td>21:40:17</td>\n",
       "      <td>...</td>\n",
       "      <td>offline</td>\n",
       "      <td>1.00</td>\n",
       "    </tr>\n",
       "    <tr>\n",
       "      <th>4458</th>\n",
       "      <td>12.08.2022</td>\n",
       "      <td>21:40:59</td>\n",
       "      <td>...</td>\n",
       "      <td>offline</td>\n",
       "      <td>1.00</td>\n",
       "    </tr>\n",
       "    <tr>\n",
       "      <th>4459</th>\n",
       "      <td>12.08.2022</td>\n",
       "      <td>21:43:48</td>\n",
       "      <td>...</td>\n",
       "      <td>offline</td>\n",
       "      <td>1.00</td>\n",
       "    </tr>\n",
       "    <tr>\n",
       "      <th>4460</th>\n",
       "      <td>12.08.2022</td>\n",
       "      <td>21:44:46</td>\n",
       "      <td>...</td>\n",
       "      <td>offline</td>\n",
       "      <td>1.00</td>\n",
       "    </tr>\n",
       "    <tr>\n",
       "      <th>4461</th>\n",
       "      <td>12.08.2022</td>\n",
       "      <td>21:46:08</td>\n",
       "      <td>...</td>\n",
       "      <td>offline</td>\n",
       "      <td>1.00</td>\n",
       "    </tr>\n",
       "  </tbody>\n",
       "</table>\n",
       "<p>4462 rows × 18 columns</p>\n",
       "</div>"
      ],
      "text/plain": [
       "            date      time  ...     vzak  pos\n",
       "0     11.08.2022  10:15:35  ...  offline 1.00\n",
       "1     11.08.2022  10:27:46  ...  offline 1.00\n",
       "2     11.08.2022  10:27:46  ...  offline 2.00\n",
       "3     11.08.2022  10:27:46  ...  offline 3.00\n",
       "4     11.08.2022  10:33:56  ...  offline 1.00\n",
       "...          ...       ...  ...      ...  ...\n",
       "4457  12.08.2022  21:40:17  ...  offline 1.00\n",
       "4458  12.08.2022  21:40:59  ...  offline 1.00\n",
       "4459  12.08.2022  21:43:48  ...  offline 1.00\n",
       "4460  12.08.2022  21:44:46  ...  offline 1.00\n",
       "4461  12.08.2022  21:46:08  ...  offline 1.00\n",
       "\n",
       "[4462 rows x 18 columns]"
      ]
     },
     "execution_count": 83,
     "metadata": {},
     "output_type": "execute_result"
    }
   ],
   "source": [
    "# and also i can just delete all rows with NA\n",
    "edited_df.dropna()"
   ]
  }
 ],
 "metadata": {
  "kernelspec": {
   "display_name": "Python 3",
   "language": "python",
   "name": "python3"
  },
  "language_info": {
   "codemirror_mode": {
    "name": "ipython",
    "version": 3
   },
   "file_extension": ".py",
   "mimetype": "text/x-python",
   "name": "python",
   "nbconvert_exporter": "python",
   "pygments_lexer": "ipython3",
   "version": "3.12.1"
  }
 },
 "nbformat": 4,
 "nbformat_minor": 5
}
