{
 "cells": [
  {
   "cell_type": "code",
   "execution_count": 2,
   "id": "2a730f47",
   "metadata": {},
   "outputs": [],
   "source": [
    "import pandas as pd"
   ]
  },
  {
   "cell_type": "code",
   "execution_count": 4,
   "id": "e583e081",
   "metadata": {},
   "outputs": [],
   "source": [
    "# using encoding because file has cyrillic characters\n",
    "df = pd.read_csv('data.txt', encoding='windows-1251')"
   ]
  },
  {
   "cell_type": "code",
   "execution_count": 15,
   "id": "bf3a3591",
   "metadata": {},
   "outputs": [
    {
     "data": {
      "application/vnd.microsoft.datawrangler.viewer.v0+json": {
       "columns": [
        {
         "name": "index",
         "rawType": "int64",
         "type": "integer"
        },
        {
         "name": "DR_Dat",
         "rawType": "object",
         "type": "string"
        },
        {
         "name": "DR_Tim",
         "rawType": "object",
         "type": "string"
        },
        {
         "name": "DR_NChk",
         "rawType": "int64",
         "type": "integer"
        },
        {
         "name": "DR_NDoc",
         "rawType": "int64",
         "type": "integer"
        },
        {
         "name": "DR_Apt",
         "rawType": "int64",
         "type": "integer"
        },
        {
         "name": "DR_Kkm",
         "rawType": "int64",
         "type": "integer"
        },
        {
         "name": "DR_TDoc",
         "rawType": "object",
         "type": "string"
        },
        {
         "name": "DR_TPay",
         "rawType": "int64",
         "type": "integer"
        },
        {
         "name": "DR_CDrugs",
         "rawType": "int64",
         "type": "integer"
        },
        {
         "name": "DR_NDrugs",
         "rawType": "object",
         "type": "string"
        },
        {
         "name": "DR_Suppl",
         "rawType": "object",
         "type": "string"
        },
        {
         "name": "DR_Prod",
         "rawType": "object",
         "type": "string"
        },
        {
         "name": "DR_Kol",
         "rawType": "float64",
         "type": "float"
        },
        {
         "name": "DR_CZak",
         "rawType": "float64",
         "type": "float"
        },
        {
         "name": "DR_CRoz",
         "rawType": "float64",
         "type": "float"
        },
        {
         "name": "DR_SDisc",
         "rawType": "float64",
         "type": "float"
        },
        {
         "name": "DR_CDisc",
         "rawType": "float64",
         "type": "float"
        },
        {
         "name": "DR_BCDisc",
         "rawType": "float64",
         "type": "float"
        },
        {
         "name": "DR_TabEmpl",
         "rawType": "int64",
         "type": "integer"
        },
        {
         "name": "DR_VZak",
         "rawType": "int64",
         "type": "integer"
        },
        {
         "name": "DR_Pos",
         "rawType": "float64",
         "type": "float"
        }
       ],
       "ref": "27706ecd-cc45-46fb-b1b0-0f0844657b9d",
       "rows": [
        [
         "0",
         "2022-08-11",
         "10:15:35",
         "2173",
         "2004598",
         "2",
         "22577",
         "Розничная реализация",
         "18",
         "45399",
         "ЦИПРОЛЕТ 3МГ/МЛ. 5МЛ. №1 ГЛ.КАПЛИ ФЛ./КАП. /Д-Р РЕДДИ/",
         "Катрен г.Химки",
         "Д-р Редди с Лабораторис Лтд / Dr.REDDY's",
         "1.0",
         "41.08",
         "51.0",
         "12.0",
         "925.0",
         "200000000492.0",
         "205",
         "1",
         "1.0"
        ],
        [
         "1",
         "2022-08-11",
         "10:27:46",
         "2174",
         "2004598",
         "2",
         "22577",
         "Розничная реализация",
         "15",
         "261519",
         "ПЕРЕКИСЬ ВОДОРОДА 3% 100МЛ. №40 Р-Р ФЛ.",
         "Катрен г.Химки",
         "ФЛОРА КАВКАЗА ОАО",
         "1.0",
         "18.61",
         "31.0",
         "3.0",
         "9.0",
         "200010010204.0",
         "205",
         "1",
         "1.0"
        ],
        [
         "2",
         "2022-08-11",
         "10:27:46",
         "2174",
         "2004598",
         "2",
         "22577",
         "Розничная реализация",
         "15",
         "460864",
         "СОФЬЯ ГЕЛЬ Д/НОГ ВЕНОТОНИЗ. ТРОКСЕРУТИН ФОРТЕ 125МЛ.",
         "Катрен г.Химки",
         "КОРОЛЕВФАРМ ООО",
         "1.0",
         "132.69",
         "209.0",
         "20.0",
         "9.0",
         "200010010204.0",
         "205",
         "1",
         "2.0"
        ],
        [
         "3",
         "2022-08-11",
         "10:27:46",
         "2174",
         "2004598",
         "2",
         "22577",
         "Розничная реализация",
         "15",
         "172823",
         "СОФЬЯ ГХК КРЕМ Д/ТЕЛА ХОНДРОИТИН+ГЛЮКОЗАМИН 125МЛ. ТУБА",
         "Катрен г.Химки",
         "КОРОЛЕВФАРМ ООО",
         "1.0",
         "133.65",
         "210.0",
         "21.0",
         "9.0",
         "200010010204.0",
         "205",
         "1",
         "3.0"
        ],
        [
         "4",
         "2022-08-11",
         "10:33:56",
         "2175",
         "2004598",
         "2",
         "22577",
         "Розничная реализация",
         "18",
         "79056",
         "ГАЛВУС 50МГ. №28 ТАБ. /НОВАРТИС/",
         "Катрен г.Химки",
         "Новартис Фарма АГ",
         "1.0",
         "709.95",
         "787.0",
         "49.0",
         "925.0",
         "200000000492.0",
         "205",
         "1",
         "1.0"
        ],
        [
         "5",
         "2022-08-11",
         "10:40:38",
         "2176",
         "2004598",
         "2",
         "22577",
         "Розничная реализация",
         "18",
         "187304",
         "БИСОПРОЛОЛ 5МГ. №60 ТАБ. П/П/О /ВЕРТЕКС/",
         "Пульс",
         "ВЕРТЕКС",
         "1.0",
         "152.9",
         "182.0",
         "9.0",
         "9.0",
         "200010001947.0",
         "205",
         "1",
         "1.0"
        ],
        [
         "6",
         "2022-08-11",
         "10:40:38",
         "2176",
         "2004598",
         "2",
         "22577",
         "Розничная реализация",
         "18",
         "1261",
         "ТРИХОПОЛ 250МГ. №20 ТАБ. /ПОЛЬФАРМА/",
         "ГРАНД КАПИТАЛ СМОЛЕНСК ООО ФК",
         "Польфарма Фармацевтический завод С.А.",
         "1.0",
         "67.94",
         "85.0",
         "4.0",
         "9.0",
         "200010001947.0",
         "205",
         "1",
         "2.0"
        ],
        [
         "7",
         "2022-08-11",
         "10:52:52",
         "2177",
         "2004598",
         "2",
         "22577",
         "Розничная реализация",
         "18",
         "2566",
         "НОРВАСК 5МГ. №30 ТАБ. /ПФАЙЗЕР/АПДЖОН/",
         "Катрен г.Химки",
         "PFIZER",
         "1.0",
         "157.76",
         "189.0",
         "9.0",
         "9.0",
         "200010013331.0",
         "205",
         "1",
         "3.0"
        ],
        [
         "8",
         "2022-08-11",
         "10:52:52",
         "2177",
         "2004598",
         "2",
         "22577",
         "Розничная реализация",
         "18",
         "2566",
         "НОРВАСК 5МГ. №30 ТАБ. /ПФАЙЗЕР/АПДЖОН/",
         "Катрен г.Химки",
         "PFIZER",
         "1.0",
         "159.4",
         "191.0",
         "9.0",
         "9.0",
         "200010013331.0",
         "205",
         "1",
         "4.0"
        ],
        [
         "9",
         "2022-08-11",
         "10:52:52",
         "2177",
         "2004598",
         "2",
         "22577",
         "Розничная реализация",
         "18",
         "5155",
         "СОТАГЕКСАЛ 80МГ. №20 ТАБ. /ГЕКСАЛ АГ/",
         "Катрен г.Химки",
         "SALUTAS PHARMA GMBH FOR ESPARM ( САЛЮТАС )",
         "1.0",
         "71.97",
         "90.0",
         "4.0",
         "9.0",
         "200010013331.0",
         "205",
         "1",
         "5.0"
        ]
       ],
       "shape": {
        "columns": 21,
        "rows": 10
       }
      },
      "text/html": [
       "<div>\n",
       "<style scoped>\n",
       "    .dataframe tbody tr th:only-of-type {\n",
       "        vertical-align: middle;\n",
       "    }\n",
       "\n",
       "    .dataframe tbody tr th {\n",
       "        vertical-align: top;\n",
       "    }\n",
       "\n",
       "    .dataframe thead th {\n",
       "        text-align: right;\n",
       "    }\n",
       "</style>\n",
       "<table border=\"1\" class=\"dataframe\">\n",
       "  <thead>\n",
       "    <tr style=\"text-align: right;\">\n",
       "      <th></th>\n",
       "      <th>DR_Dat</th>\n",
       "      <th>DR_Tim</th>\n",
       "      <th>...</th>\n",
       "      <th>DR_VZak</th>\n",
       "      <th>DR_Pos</th>\n",
       "    </tr>\n",
       "  </thead>\n",
       "  <tbody>\n",
       "    <tr>\n",
       "      <th>0</th>\n",
       "      <td>2022-08-11</td>\n",
       "      <td>10:15:35</td>\n",
       "      <td>...</td>\n",
       "      <td>1</td>\n",
       "      <td>1.0</td>\n",
       "    </tr>\n",
       "    <tr>\n",
       "      <th>1</th>\n",
       "      <td>2022-08-11</td>\n",
       "      <td>10:27:46</td>\n",
       "      <td>...</td>\n",
       "      <td>1</td>\n",
       "      <td>1.0</td>\n",
       "    </tr>\n",
       "    <tr>\n",
       "      <th>2</th>\n",
       "      <td>2022-08-11</td>\n",
       "      <td>10:27:46</td>\n",
       "      <td>...</td>\n",
       "      <td>1</td>\n",
       "      <td>2.0</td>\n",
       "    </tr>\n",
       "    <tr>\n",
       "      <th>3</th>\n",
       "      <td>2022-08-11</td>\n",
       "      <td>10:27:46</td>\n",
       "      <td>...</td>\n",
       "      <td>1</td>\n",
       "      <td>3.0</td>\n",
       "    </tr>\n",
       "    <tr>\n",
       "      <th>4</th>\n",
       "      <td>2022-08-11</td>\n",
       "      <td>10:33:56</td>\n",
       "      <td>...</td>\n",
       "      <td>1</td>\n",
       "      <td>1.0</td>\n",
       "    </tr>\n",
       "    <tr>\n",
       "      <th>5</th>\n",
       "      <td>2022-08-11</td>\n",
       "      <td>10:40:38</td>\n",
       "      <td>...</td>\n",
       "      <td>1</td>\n",
       "      <td>1.0</td>\n",
       "    </tr>\n",
       "    <tr>\n",
       "      <th>6</th>\n",
       "      <td>2022-08-11</td>\n",
       "      <td>10:40:38</td>\n",
       "      <td>...</td>\n",
       "      <td>1</td>\n",
       "      <td>2.0</td>\n",
       "    </tr>\n",
       "    <tr>\n",
       "      <th>7</th>\n",
       "      <td>2022-08-11</td>\n",
       "      <td>10:52:52</td>\n",
       "      <td>...</td>\n",
       "      <td>1</td>\n",
       "      <td>3.0</td>\n",
       "    </tr>\n",
       "    <tr>\n",
       "      <th>8</th>\n",
       "      <td>2022-08-11</td>\n",
       "      <td>10:52:52</td>\n",
       "      <td>...</td>\n",
       "      <td>1</td>\n",
       "      <td>4.0</td>\n",
       "    </tr>\n",
       "    <tr>\n",
       "      <th>9</th>\n",
       "      <td>2022-08-11</td>\n",
       "      <td>10:52:52</td>\n",
       "      <td>...</td>\n",
       "      <td>1</td>\n",
       "      <td>5.0</td>\n",
       "    </tr>\n",
       "  </tbody>\n",
       "</table>\n",
       "<p>10 rows × 21 columns</p>\n",
       "</div>"
      ],
      "text/plain": [
       "       DR_Dat    DR_Tim  ...  DR_VZak  DR_Pos\n",
       "0  2022-08-11  10:15:35  ...        1     1.0\n",
       "1  2022-08-11  10:27:46  ...        1     1.0\n",
       "2  2022-08-11  10:27:46  ...        1     2.0\n",
       "3  2022-08-11  10:27:46  ...        1     3.0\n",
       "4  2022-08-11  10:33:56  ...        1     1.0\n",
       "5  2022-08-11  10:40:38  ...        1     1.0\n",
       "6  2022-08-11  10:40:38  ...        1     2.0\n",
       "7  2022-08-11  10:52:52  ...        1     3.0\n",
       "8  2022-08-11  10:52:52  ...        1     4.0\n",
       "9  2022-08-11  10:52:52  ...        1     5.0\n",
       "\n",
       "[10 rows x 21 columns]"
      ]
     },
     "execution_count": 15,
     "metadata": {},
     "output_type": "execute_result"
    }
   ],
   "source": [
    "# display n-amount of first rows of dataframe (default 5)\n",
    "df.head(10)"
   ]
  },
  {
   "cell_type": "code",
   "execution_count": 21,
   "id": "639caa97",
   "metadata": {},
   "outputs": [
    {
     "data": {
      "application/vnd.microsoft.datawrangler.viewer.v0+json": {
       "columns": [
        {
         "name": "index",
         "rawType": "int64",
         "type": "integer"
        },
        {
         "name": "DR_Dat",
         "rawType": "object",
         "type": "string"
        },
        {
         "name": "DR_Tim",
         "rawType": "object",
         "type": "string"
        },
        {
         "name": "DR_NChk",
         "rawType": "int64",
         "type": "integer"
        },
        {
         "name": "DR_NDoc",
         "rawType": "int64",
         "type": "integer"
        },
        {
         "name": "DR_Apt",
         "rawType": "int64",
         "type": "integer"
        },
        {
         "name": "DR_Kkm",
         "rawType": "int64",
         "type": "integer"
        },
        {
         "name": "DR_TDoc",
         "rawType": "object",
         "type": "string"
        },
        {
         "name": "DR_TPay",
         "rawType": "int64",
         "type": "integer"
        },
        {
         "name": "DR_CDrugs",
         "rawType": "int64",
         "type": "integer"
        },
        {
         "name": "DR_NDrugs",
         "rawType": "object",
         "type": "string"
        },
        {
         "name": "DR_Suppl",
         "rawType": "object",
         "type": "string"
        },
        {
         "name": "DR_Prod",
         "rawType": "object",
         "type": "string"
        },
        {
         "name": "DR_Kol",
         "rawType": "float64",
         "type": "float"
        },
        {
         "name": "DR_CZak",
         "rawType": "float64",
         "type": "float"
        },
        {
         "name": "DR_CRoz",
         "rawType": "float64",
         "type": "float"
        },
        {
         "name": "DR_SDisc",
         "rawType": "float64",
         "type": "float"
        },
        {
         "name": "DR_CDisc",
         "rawType": "float64",
         "type": "float"
        },
        {
         "name": "DR_BCDisc",
         "rawType": "float64",
         "type": "float"
        },
        {
         "name": "DR_TabEmpl",
         "rawType": "int64",
         "type": "integer"
        },
        {
         "name": "DR_VZak",
         "rawType": "int64",
         "type": "integer"
        },
        {
         "name": "DR_Pos",
         "rawType": "float64",
         "type": "float"
        }
       ],
       "ref": "a75d02d9-677d-4bbe-88ef-d0cb2975d381",
       "rows": [
        [
         "4457",
         "2022-08-12",
         "21:40:17",
         "5690",
         "18002542",
         "18",
         "9907",
         "Розничная реализация",
         "18",
         "463100",
         "КЕТОРОЛ ЭКСПРЕСС 10МГ. №20 ТАБ. ДИСПЕРГ. /Д-Р РЕДДИС/",
         "ГРАНД КАПИТАЛ СМОЛЕНСК ООО ФК",
         "Д-р Редди с Лабораторис Лтд / Dr.REDDY's",
         "1.0",
         "47.88",
         "75.0",
         "0.0",
         null,
         null,
         "48",
         "1",
         "1.0"
        ],
        [
         "4458",
         "2022-08-12",
         "21:40:59",
         "5691",
         "18002542",
         "18",
         "9907",
         "Розничная реализация",
         "18",
         "112158",
         "АНТИПОЛИЦАЙ ВАЙТ №6 ТАБ.",
         "Протек",
         "ИНАТ-ФАРМА",
         "1.0",
         "59.51",
         "93.0",
         "0.0",
         null,
         null,
         "48",
         "1",
         "1.0"
        ],
        [
         "4459",
         "2022-08-12",
         "21:43:48",
         "5692",
         "18002542",
         "18",
         "9907",
         "Розничная реализация",
         "18",
         "260990",
         "СИЛДЕНАФИЛ-СЗ 50МГ. №10 ТАБ. П/П/О /СЕВЕРНАЯ ЗВЕЗДА/",
         "Авеста",
         "Северная Звезда",
         "1.0",
         "297.74",
         "396.0",
         "0.0",
         null,
         null,
         "48",
         "1",
         "1.0"
        ],
        [
         "4460",
         "2022-08-12",
         "21:44:46",
         "5693",
         "18002542",
         "18",
         "9907",
         "Розничная реализация",
         "18",
         "41512",
         "ТОБРАЗОН 5МЛ. ГЛ.КАПЛИ ФЛ.",
         "Катрен г.Химки",
         "Кадила Фармасьютикалз Лтд  ( CADILA )",
         "1.0",
         "322.06",
         "419.0",
         "0.0",
         null,
         null,
         "48",
         "1",
         "1.0"
        ],
        [
         "4461",
         "2022-08-12",
         "21:46:08",
         "5694",
         "18002542",
         "18",
         "9907",
         "Розничная реализация",
         "15",
         "25673",
         "БЕЛЬВЕДЕР ЛАК П/ОБГРЫЗАНИЯ НОГТЕЙ 8МЛ. [BELWEDER]",
         "Катрен г.Химки",
         "BELWEDER NORD SIA",
         "1.0",
         "238.62",
         "346.0",
         "34.0",
         "9.0",
         "200010027618.0",
         "48",
         "1",
         "1.0"
        ]
       ],
       "shape": {
        "columns": 21,
        "rows": 5
       }
      },
      "text/html": [
       "<div>\n",
       "<style scoped>\n",
       "    .dataframe tbody tr th:only-of-type {\n",
       "        vertical-align: middle;\n",
       "    }\n",
       "\n",
       "    .dataframe tbody tr th {\n",
       "        vertical-align: top;\n",
       "    }\n",
       "\n",
       "    .dataframe thead th {\n",
       "        text-align: right;\n",
       "    }\n",
       "</style>\n",
       "<table border=\"1\" class=\"dataframe\">\n",
       "  <thead>\n",
       "    <tr style=\"text-align: right;\">\n",
       "      <th></th>\n",
       "      <th>DR_Dat</th>\n",
       "      <th>DR_Tim</th>\n",
       "      <th>...</th>\n",
       "      <th>DR_VZak</th>\n",
       "      <th>DR_Pos</th>\n",
       "    </tr>\n",
       "  </thead>\n",
       "  <tbody>\n",
       "    <tr>\n",
       "      <th>4457</th>\n",
       "      <td>2022-08-12</td>\n",
       "      <td>21:40:17</td>\n",
       "      <td>...</td>\n",
       "      <td>1</td>\n",
       "      <td>1.00</td>\n",
       "    </tr>\n",
       "    <tr>\n",
       "      <th>4458</th>\n",
       "      <td>2022-08-12</td>\n",
       "      <td>21:40:59</td>\n",
       "      <td>...</td>\n",
       "      <td>1</td>\n",
       "      <td>1.00</td>\n",
       "    </tr>\n",
       "    <tr>\n",
       "      <th>4459</th>\n",
       "      <td>2022-08-12</td>\n",
       "      <td>21:43:48</td>\n",
       "      <td>...</td>\n",
       "      <td>1</td>\n",
       "      <td>1.00</td>\n",
       "    </tr>\n",
       "    <tr>\n",
       "      <th>4460</th>\n",
       "      <td>2022-08-12</td>\n",
       "      <td>21:44:46</td>\n",
       "      <td>...</td>\n",
       "      <td>1</td>\n",
       "      <td>1.00</td>\n",
       "    </tr>\n",
       "    <tr>\n",
       "      <th>4461</th>\n",
       "      <td>2022-08-12</td>\n",
       "      <td>21:46:08</td>\n",
       "      <td>...</td>\n",
       "      <td>1</td>\n",
       "      <td>1.00</td>\n",
       "    </tr>\n",
       "  </tbody>\n",
       "</table>\n",
       "<p>5 rows × 21 columns</p>\n",
       "</div>"
      ],
      "text/plain": [
       "          DR_Dat    DR_Tim  ...  DR_VZak  DR_Pos\n",
       "4457  2022-08-12  21:40:17  ...        1    1.00\n",
       "4458  2022-08-12  21:40:59  ...        1    1.00\n",
       "4459  2022-08-12  21:43:48  ...        1    1.00\n",
       "4460  2022-08-12  21:44:46  ...        1    1.00\n",
       "4461  2022-08-12  21:46:08  ...        1    1.00\n",
       "\n",
       "[5 rows x 21 columns]"
      ]
     },
     "execution_count": 21,
     "metadata": {},
     "output_type": "execute_result"
    }
   ],
   "source": [
    "# display n-amount of last rows (default 5)\n",
    "df.tail()"
   ]
  },
  {
   "cell_type": "code",
   "execution_count": null,
   "id": "22196a8a",
   "metadata": {},
   "outputs": [],
   "source": [
    "pd.set_option('display.max_columns', 5)\n",
    "pd.describe_option() # describes all available options\n",
    "pd.set_option('display.float_format', '{:.2f}'.format) # i can change format of the data"
   ]
  },
  {
   "cell_type": "code",
   "execution_count": null,
   "id": "5ca027a8",
   "metadata": {},
   "outputs": [
    {
     "data": {
      "application/vnd.microsoft.datawrangler.viewer.v0+json": {
       "columns": [
        {
         "name": "index",
         "rawType": "object",
         "type": "string"
        },
        {
         "name": "0",
         "rawType": "object",
         "type": "unknown"
        }
       ],
       "ref": "874bd137-8446-4f86-b933-8811f3a12f85",
       "rows": [
        [
         "DR_Dat",
         "object"
        ],
        [
         "DR_Tim",
         "object"
        ],
        [
         "DR_NChk",
         "int64"
        ],
        [
         "DR_NDoc",
         "int64"
        ],
        [
         "DR_Apt",
         "int64"
        ],
        [
         "DR_Kkm",
         "int64"
        ],
        [
         "DR_TDoc",
         "object"
        ],
        [
         "DR_TPay",
         "int64"
        ],
        [
         "DR_CDrugs",
         "int64"
        ],
        [
         "DR_NDrugs",
         "object"
        ],
        [
         "DR_Suppl",
         "object"
        ],
        [
         "DR_Prod",
         "object"
        ],
        [
         "DR_Kol",
         "float64"
        ],
        [
         "DR_CZak",
         "float64"
        ],
        [
         "DR_CRoz",
         "float64"
        ],
        [
         "DR_SDisc",
         "float64"
        ],
        [
         "DR_CDisc",
         "float64"
        ],
        [
         "DR_BCDisc",
         "float64"
        ],
        [
         "DR_TabEmpl",
         "int64"
        ],
        [
         "DR_VZak",
         "int64"
        ],
        [
         "DR_Pos",
         "float64"
        ]
       ],
       "shape": {
        "columns": 1,
        "rows": 21
       }
      },
      "text/plain": [
       "DR_Dat         object\n",
       "DR_Tim         object\n",
       "DR_NChk         int64\n",
       "DR_NDoc         int64\n",
       "DR_Apt          int64\n",
       "DR_Kkm          int64\n",
       "DR_TDoc        object\n",
       "DR_TPay         int64\n",
       "DR_CDrugs       int64\n",
       "DR_NDrugs      object\n",
       "DR_Suppl       object\n",
       "DR_Prod        object\n",
       "DR_Kol        float64\n",
       "DR_CZak       float64\n",
       "DR_CRoz       float64\n",
       "DR_SDisc      float64\n",
       "DR_CDisc      float64\n",
       "DR_BCDisc     float64\n",
       "DR_TabEmpl      int64\n",
       "DR_VZak         int64\n",
       "DR_Pos        float64\n",
       "dtype: object"
      ]
     },
     "execution_count": 19,
     "metadata": {},
     "output_type": "execute_result"
    }
   ],
   "source": [
    "df.dtypes # shows type of data in columns"
   ]
  },
  {
   "cell_type": "code",
   "execution_count": 24,
   "id": "a41199eb",
   "metadata": {},
   "outputs": [
    {
     "data": {
      "text/plain": [
       "(4462, 21)"
      ]
     },
     "execution_count": 24,
     "metadata": {},
     "output_type": "execute_result"
    }
   ],
   "source": [
    "# shows amount of columns and rows\n",
    "df.shape"
   ]
  },
  {
   "cell_type": "code",
   "execution_count": null,
   "id": "71cbb4ad",
   "metadata": {},
   "outputs": [
    {
     "data": {
      "text/plain": [
       "93702"
      ]
     },
     "execution_count": 25,
     "metadata": {},
     "output_type": "execute_result"
    }
   ],
   "source": [
    "# shows amount of elements\n",
    "df.size"
   ]
  },
  {
   "cell_type": "code",
   "execution_count": 26,
   "id": "fc130685",
   "metadata": {},
   "outputs": [
    {
     "data": {
      "text/plain": [
       "Index(['DR_Dat', 'DR_Tim', 'DR_NChk', 'DR_NDoc', 'DR_Apt', 'DR_Kkm', 'DR_TDoc',\n",
       "       'DR_TPay', 'DR_CDrugs', 'DR_NDrugs', 'DR_Suppl', 'DR_Prod', 'DR_Kol',\n",
       "       'DR_CZak', 'DR_CRoz', 'DR_SDisc', 'DR_CDisc', 'DR_BCDisc', 'DR_TabEmpl',\n",
       "       'DR_VZak', 'DR_Pos'],\n",
       "      dtype='object')"
      ]
     },
     "execution_count": 26,
     "metadata": {},
     "output_type": "execute_result"
    }
   ],
   "source": [
    "df.columns"
   ]
  },
  {
   "cell_type": "code",
   "execution_count": 30,
   "id": "6fd8d0dd",
   "metadata": {},
   "outputs": [],
   "source": [
    "# here is a list with columns that ill need, i also changed their order\n",
    "user_columns = ['DR_Dat', 'DR_Tim', 'DR_NChk', 'DR_NDoc', \n",
    "                'DR_Apt', 'DR_NDrugs', 'DR_Kol', 'DR_CZak', 'DR_CRoz', \n",
    "                'DR_SDisc', 'DR_TPay', 'DR_CDrugs',  \n",
    "                'DR_Suppl','DR_CDisc', 'DR_BCDisc', 'DR_TabEmpl',\n",
    "                'DR_VZak', 'DR_Pos']"
   ]
  },
  {
   "cell_type": "code",
   "execution_count": 33,
   "id": "e7bff745",
   "metadata": {},
   "outputs": [
    {
     "data": {
      "application/vnd.microsoft.datawrangler.viewer.v0+json": {
       "columns": [
        {
         "name": "index",
         "rawType": "int64",
         "type": "integer"
        },
        {
         "name": "DR_Dat",
         "rawType": "object",
         "type": "string"
        },
        {
         "name": "DR_Tim",
         "rawType": "object",
         "type": "string"
        },
        {
         "name": "DR_NChk",
         "rawType": "int64",
         "type": "integer"
        },
        {
         "name": "DR_NDoc",
         "rawType": "int64",
         "type": "integer"
        },
        {
         "name": "DR_Apt",
         "rawType": "int64",
         "type": "integer"
        },
        {
         "name": "DR_NDrugs",
         "rawType": "object",
         "type": "string"
        },
        {
         "name": "DR_Kol",
         "rawType": "float64",
         "type": "float"
        },
        {
         "name": "DR_CZak",
         "rawType": "float64",
         "type": "float"
        },
        {
         "name": "DR_CRoz",
         "rawType": "float64",
         "type": "float"
        },
        {
         "name": "DR_SDisc",
         "rawType": "float64",
         "type": "float"
        },
        {
         "name": "DR_TPay",
         "rawType": "int64",
         "type": "integer"
        },
        {
         "name": "DR_CDrugs",
         "rawType": "int64",
         "type": "integer"
        },
        {
         "name": "DR_Suppl",
         "rawType": "object",
         "type": "string"
        },
        {
         "name": "DR_CDisc",
         "rawType": "float64",
         "type": "float"
        },
        {
         "name": "DR_BCDisc",
         "rawType": "float64",
         "type": "float"
        },
        {
         "name": "DR_TabEmpl",
         "rawType": "int64",
         "type": "integer"
        },
        {
         "name": "DR_VZak",
         "rawType": "int64",
         "type": "integer"
        },
        {
         "name": "DR_Pos",
         "rawType": "float64",
         "type": "float"
        }
       ],
       "ref": "14d0c776-f360-4335-8d76-73eabe78b7cc",
       "rows": [
        [
         "0",
         "2022-08-11",
         "10:15:35",
         "2173",
         "2004598",
         "2",
         "ЦИПРОЛЕТ 3МГ/МЛ. 5МЛ. №1 ГЛ.КАПЛИ ФЛ./КАП. /Д-Р РЕДДИ/",
         "1.0",
         "41.08",
         "51.0",
         "12.0",
         "18",
         "45399",
         "Катрен г.Химки",
         "925.0",
         "200000000492.0",
         "205",
         "1",
         "1.0"
        ],
        [
         "1",
         "2022-08-11",
         "10:27:46",
         "2174",
         "2004598",
         "2",
         "ПЕРЕКИСЬ ВОДОРОДА 3% 100МЛ. №40 Р-Р ФЛ.",
         "1.0",
         "18.61",
         "31.0",
         "3.0",
         "15",
         "261519",
         "Катрен г.Химки",
         "9.0",
         "200010010204.0",
         "205",
         "1",
         "1.0"
        ],
        [
         "2",
         "2022-08-11",
         "10:27:46",
         "2174",
         "2004598",
         "2",
         "СОФЬЯ ГЕЛЬ Д/НОГ ВЕНОТОНИЗ. ТРОКСЕРУТИН ФОРТЕ 125МЛ.",
         "1.0",
         "132.69",
         "209.0",
         "20.0",
         "15",
         "460864",
         "Катрен г.Химки",
         "9.0",
         "200010010204.0",
         "205",
         "1",
         "2.0"
        ],
        [
         "3",
         "2022-08-11",
         "10:27:46",
         "2174",
         "2004598",
         "2",
         "СОФЬЯ ГХК КРЕМ Д/ТЕЛА ХОНДРОИТИН+ГЛЮКОЗАМИН 125МЛ. ТУБА",
         "1.0",
         "133.65",
         "210.0",
         "21.0",
         "15",
         "172823",
         "Катрен г.Химки",
         "9.0",
         "200010010204.0",
         "205",
         "1",
         "3.0"
        ],
        [
         "4",
         "2022-08-11",
         "10:33:56",
         "2175",
         "2004598",
         "2",
         "ГАЛВУС 50МГ. №28 ТАБ. /НОВАРТИС/",
         "1.0",
         "709.95",
         "787.0",
         "49.0",
         "18",
         "79056",
         "Катрен г.Химки",
         "925.0",
         "200000000492.0",
         "205",
         "1",
         "1.0"
        ]
       ],
       "shape": {
        "columns": 18,
        "rows": 5
       }
      },
      "text/html": [
       "<div>\n",
       "<style scoped>\n",
       "    .dataframe tbody tr th:only-of-type {\n",
       "        vertical-align: middle;\n",
       "    }\n",
       "\n",
       "    .dataframe tbody tr th {\n",
       "        vertical-align: top;\n",
       "    }\n",
       "\n",
       "    .dataframe thead th {\n",
       "        text-align: right;\n",
       "    }\n",
       "</style>\n",
       "<table border=\"1\" class=\"dataframe\">\n",
       "  <thead>\n",
       "    <tr style=\"text-align: right;\">\n",
       "      <th></th>\n",
       "      <th>DR_Dat</th>\n",
       "      <th>DR_Tim</th>\n",
       "      <th>...</th>\n",
       "      <th>DR_VZak</th>\n",
       "      <th>DR_Pos</th>\n",
       "    </tr>\n",
       "  </thead>\n",
       "  <tbody>\n",
       "    <tr>\n",
       "      <th>0</th>\n",
       "      <td>2022-08-11</td>\n",
       "      <td>10:15:35</td>\n",
       "      <td>...</td>\n",
       "      <td>1</td>\n",
       "      <td>1.00</td>\n",
       "    </tr>\n",
       "    <tr>\n",
       "      <th>1</th>\n",
       "      <td>2022-08-11</td>\n",
       "      <td>10:27:46</td>\n",
       "      <td>...</td>\n",
       "      <td>1</td>\n",
       "      <td>1.00</td>\n",
       "    </tr>\n",
       "    <tr>\n",
       "      <th>2</th>\n",
       "      <td>2022-08-11</td>\n",
       "      <td>10:27:46</td>\n",
       "      <td>...</td>\n",
       "      <td>1</td>\n",
       "      <td>2.00</td>\n",
       "    </tr>\n",
       "    <tr>\n",
       "      <th>3</th>\n",
       "      <td>2022-08-11</td>\n",
       "      <td>10:27:46</td>\n",
       "      <td>...</td>\n",
       "      <td>1</td>\n",
       "      <td>3.00</td>\n",
       "    </tr>\n",
       "    <tr>\n",
       "      <th>4</th>\n",
       "      <td>2022-08-11</td>\n",
       "      <td>10:33:56</td>\n",
       "      <td>...</td>\n",
       "      <td>1</td>\n",
       "      <td>1.00</td>\n",
       "    </tr>\n",
       "  </tbody>\n",
       "</table>\n",
       "<p>5 rows × 18 columns</p>\n",
       "</div>"
      ],
      "text/plain": [
       "       DR_Dat    DR_Tim  ...  DR_VZak  DR_Pos\n",
       "0  2022-08-11  10:15:35  ...        1    1.00\n",
       "1  2022-08-11  10:27:46  ...        1    1.00\n",
       "2  2022-08-11  10:27:46  ...        1    2.00\n",
       "3  2022-08-11  10:27:46  ...        1    3.00\n",
       "4  2022-08-11  10:33:56  ...        1    1.00\n",
       "\n",
       "[5 rows x 18 columns]"
      ]
     },
     "execution_count": 33,
     "metadata": {},
     "output_type": "execute_result"
    }
   ],
   "source": [
    "# than i can just add here this list\n",
    "df[['DR_Dat', 'DR_Tim']] # i can also write them individualy like this\n",
    "edited_df = df[user_columns]\n",
    "edited_df.head()"
   ]
  },
  {
   "cell_type": "code",
   "execution_count": 36,
   "id": "5eaba815",
   "metadata": {},
   "outputs": [],
   "source": [
    "# to change names of the columns i need to rename them with method columns\n",
    "edited_df.columns = ['date', 'time', 'n_chk', 'n_doc', 'apt', 'name_drugs',\n",
    "       'amnt', 'purch_price', 'retail_price', 'disc', 'pay_type', 'drug_id',\n",
    "       'supplier', 'disc_id', 'disc_barcode', 'employee', 'vzak', 'pos']"
   ]
  },
  {
   "cell_type": "code",
   "execution_count": 37,
   "id": "bd9bae27",
   "metadata": {},
   "outputs": [
    {
     "data": {
      "application/vnd.microsoft.datawrangler.viewer.v0+json": {
       "columns": [
        {
         "name": "index",
         "rawType": "int64",
         "type": "integer"
        },
        {
         "name": "date",
         "rawType": "object",
         "type": "string"
        },
        {
         "name": "time",
         "rawType": "object",
         "type": "string"
        },
        {
         "name": "n_chk",
         "rawType": "int64",
         "type": "integer"
        },
        {
         "name": "n_doc",
         "rawType": "int64",
         "type": "integer"
        },
        {
         "name": "apt",
         "rawType": "int64",
         "type": "integer"
        },
        {
         "name": "name_drugs",
         "rawType": "object",
         "type": "string"
        },
        {
         "name": "amnt",
         "rawType": "float64",
         "type": "float"
        },
        {
         "name": "purch_price",
         "rawType": "float64",
         "type": "float"
        },
        {
         "name": "retail_price",
         "rawType": "float64",
         "type": "float"
        },
        {
         "name": "disc",
         "rawType": "float64",
         "type": "float"
        },
        {
         "name": "pay_type",
         "rawType": "int64",
         "type": "integer"
        },
        {
         "name": "drug_id",
         "rawType": "int64",
         "type": "integer"
        },
        {
         "name": "supplier",
         "rawType": "object",
         "type": "string"
        },
        {
         "name": "disc_id",
         "rawType": "float64",
         "type": "float"
        },
        {
         "name": "disc_barcode",
         "rawType": "float64",
         "type": "float"
        },
        {
         "name": "employee",
         "rawType": "int64",
         "type": "integer"
        },
        {
         "name": "vzak",
         "rawType": "int64",
         "type": "integer"
        },
        {
         "name": "pos",
         "rawType": "float64",
         "type": "float"
        }
       ],
       "ref": "2bb9bb40-256c-4c51-b542-b68f1b1775ed",
       "rows": [
        [
         "0",
         "2022-08-11",
         "10:15:35",
         "2173",
         "2004598",
         "2",
         "ЦИПРОЛЕТ 3МГ/МЛ. 5МЛ. №1 ГЛ.КАПЛИ ФЛ./КАП. /Д-Р РЕДДИ/",
         "1.0",
         "41.08",
         "51.0",
         "12.0",
         "18",
         "45399",
         "Катрен г.Химки",
         "925.0",
         "200000000492.0",
         "205",
         "1",
         "1.0"
        ],
        [
         "1",
         "2022-08-11",
         "10:27:46",
         "2174",
         "2004598",
         "2",
         "ПЕРЕКИСЬ ВОДОРОДА 3% 100МЛ. №40 Р-Р ФЛ.",
         "1.0",
         "18.61",
         "31.0",
         "3.0",
         "15",
         "261519",
         "Катрен г.Химки",
         "9.0",
         "200010010204.0",
         "205",
         "1",
         "1.0"
        ],
        [
         "2",
         "2022-08-11",
         "10:27:46",
         "2174",
         "2004598",
         "2",
         "СОФЬЯ ГЕЛЬ Д/НОГ ВЕНОТОНИЗ. ТРОКСЕРУТИН ФОРТЕ 125МЛ.",
         "1.0",
         "132.69",
         "209.0",
         "20.0",
         "15",
         "460864",
         "Катрен г.Химки",
         "9.0",
         "200010010204.0",
         "205",
         "1",
         "2.0"
        ],
        [
         "3",
         "2022-08-11",
         "10:27:46",
         "2174",
         "2004598",
         "2",
         "СОФЬЯ ГХК КРЕМ Д/ТЕЛА ХОНДРОИТИН+ГЛЮКОЗАМИН 125МЛ. ТУБА",
         "1.0",
         "133.65",
         "210.0",
         "21.0",
         "15",
         "172823",
         "Катрен г.Химки",
         "9.0",
         "200010010204.0",
         "205",
         "1",
         "3.0"
        ],
        [
         "4",
         "2022-08-11",
         "10:33:56",
         "2175",
         "2004598",
         "2",
         "ГАЛВУС 50МГ. №28 ТАБ. /НОВАРТИС/",
         "1.0",
         "709.95",
         "787.0",
         "49.0",
         "18",
         "79056",
         "Катрен г.Химки",
         "925.0",
         "200000000492.0",
         "205",
         "1",
         "1.0"
        ]
       ],
       "shape": {
        "columns": 18,
        "rows": 5
       }
      },
      "text/html": [
       "<div>\n",
       "<style scoped>\n",
       "    .dataframe tbody tr th:only-of-type {\n",
       "        vertical-align: middle;\n",
       "    }\n",
       "\n",
       "    .dataframe tbody tr th {\n",
       "        vertical-align: top;\n",
       "    }\n",
       "\n",
       "    .dataframe thead th {\n",
       "        text-align: right;\n",
       "    }\n",
       "</style>\n",
       "<table border=\"1\" class=\"dataframe\">\n",
       "  <thead>\n",
       "    <tr style=\"text-align: right;\">\n",
       "      <th></th>\n",
       "      <th>date</th>\n",
       "      <th>time</th>\n",
       "      <th>...</th>\n",
       "      <th>vzak</th>\n",
       "      <th>pos</th>\n",
       "    </tr>\n",
       "  </thead>\n",
       "  <tbody>\n",
       "    <tr>\n",
       "      <th>0</th>\n",
       "      <td>2022-08-11</td>\n",
       "      <td>10:15:35</td>\n",
       "      <td>...</td>\n",
       "      <td>1</td>\n",
       "      <td>1.00</td>\n",
       "    </tr>\n",
       "    <tr>\n",
       "      <th>1</th>\n",
       "      <td>2022-08-11</td>\n",
       "      <td>10:27:46</td>\n",
       "      <td>...</td>\n",
       "      <td>1</td>\n",
       "      <td>1.00</td>\n",
       "    </tr>\n",
       "    <tr>\n",
       "      <th>2</th>\n",
       "      <td>2022-08-11</td>\n",
       "      <td>10:27:46</td>\n",
       "      <td>...</td>\n",
       "      <td>1</td>\n",
       "      <td>2.00</td>\n",
       "    </tr>\n",
       "    <tr>\n",
       "      <th>3</th>\n",
       "      <td>2022-08-11</td>\n",
       "      <td>10:27:46</td>\n",
       "      <td>...</td>\n",
       "      <td>1</td>\n",
       "      <td>3.00</td>\n",
       "    </tr>\n",
       "    <tr>\n",
       "      <th>4</th>\n",
       "      <td>2022-08-11</td>\n",
       "      <td>10:33:56</td>\n",
       "      <td>...</td>\n",
       "      <td>1</td>\n",
       "      <td>1.00</td>\n",
       "    </tr>\n",
       "  </tbody>\n",
       "</table>\n",
       "<p>5 rows × 18 columns</p>\n",
       "</div>"
      ],
      "text/plain": [
       "         date      time  ...  vzak  pos\n",
       "0  2022-08-11  10:15:35  ...     1 1.00\n",
       "1  2022-08-11  10:27:46  ...     1 1.00\n",
       "2  2022-08-11  10:27:46  ...     1 2.00\n",
       "3  2022-08-11  10:27:46  ...     1 3.00\n",
       "4  2022-08-11  10:33:56  ...     1 1.00\n",
       "\n",
       "[5 rows x 18 columns]"
      ]
     },
     "execution_count": 37,
     "metadata": {},
     "output_type": "execute_result"
    }
   ],
   "source": [
    "edited_df.head()"
   ]
  },
  {
   "cell_type": "code",
   "execution_count": 40,
   "id": "2c011d92",
   "metadata": {},
   "outputs": [
    {
     "data": {
      "application/vnd.microsoft.datawrangler.viewer.v0+json": {
       "columns": [
        {
         "name": "index",
         "rawType": "object",
         "type": "string"
        },
        {
         "name": "0",
         "rawType": "object",
         "type": "unknown"
        }
       ],
       "ref": "7a7be8a0-bd7f-446b-91a1-509c8dbe45e9",
       "rows": [
        [
         "date",
         "object"
        ],
        [
         "time",
         "object"
        ],
        [
         "n_chk",
         "int64"
        ],
        [
         "n_doc",
         "int64"
        ],
        [
         "apt",
         "int64"
        ],
        [
         "name_drugs",
         "object"
        ],
        [
         "amnt",
         "float64"
        ],
        [
         "purch_price",
         "float64"
        ],
        [
         "retail_price",
         "float64"
        ],
        [
         "disc",
         "float64"
        ],
        [
         "pay_type",
         "int64"
        ],
        [
         "drug_id",
         "int64"
        ],
        [
         "supplier",
         "object"
        ],
        [
         "disc_id",
         "float64"
        ],
        [
         "disc_barcode",
         "float64"
        ],
        [
         "employee",
         "int64"
        ],
        [
         "vzak",
         "int64"
        ],
        [
         "pos",
         "float64"
        ]
       ],
       "shape": {
        "columns": 1,
        "rows": 18
       }
      },
      "text/plain": [
       "date             object\n",
       "time             object\n",
       "n_chk             int64\n",
       "n_doc             int64\n",
       "apt               int64\n",
       "name_drugs       object\n",
       "amnt            float64\n",
       "purch_price     float64\n",
       "retail_price    float64\n",
       "disc            float64\n",
       "pay_type          int64\n",
       "drug_id           int64\n",
       "supplier         object\n",
       "disc_id         float64\n",
       "disc_barcode    float64\n",
       "employee          int64\n",
       "vzak              int64\n",
       "pos             float64\n",
       "dtype: object"
      ]
     },
     "execution_count": 40,
     "metadata": {},
     "output_type": "execute_result"
    }
   ],
   "source": [
    "edited_df.dtypes"
   ]
  },
  {
   "cell_type": "code",
   "execution_count": 50,
   "id": "325113be",
   "metadata": {},
   "outputs": [
    {
     "data": {
      "application/vnd.microsoft.datawrangler.viewer.v0+json": {
       "columns": [
        {
         "name": "index",
         "rawType": "int64",
         "type": "integer"
        },
        {
         "name": "disc_barcode",
         "rawType": "object",
         "type": "string"
        }
       ],
       "ref": "19584688-e48b-496f-a259-69818df3a53b",
       "rows": [
        [
         "0",
         "200000000492"
        ],
        [
         "1",
         "200010010204"
        ],
        [
         "2",
         "200010010204"
        ],
        [
         "3",
         "200010010204"
        ],
        [
         "4",
         "200000000492"
        ],
        [
         "5",
         "200010001947"
        ],
        [
         "6",
         "200010001947"
        ],
        [
         "7",
         "200010013331"
        ],
        [
         "8",
         "200010013331"
        ],
        [
         "9",
         "200010013331"
        ],
        [
         "10",
         "200010013331"
        ],
        [
         "11",
         "200010013331"
        ],
        [
         "12",
         "200010013331"
        ],
        [
         "13",
         "200010013331"
        ],
        [
         "14",
         "200010013331"
        ],
        [
         "15",
         "nan"
        ],
        [
         "16",
         "nan"
        ],
        [
         "17",
         "200010013331"
        ],
        [
         "18",
         "200010020147"
        ],
        [
         "19",
         "200010020147"
        ],
        [
         "20",
         "nan"
        ],
        [
         "21",
         "nan"
        ],
        [
         "22",
         "nan"
        ],
        [
         "23",
         "200010024015"
        ],
        [
         "24",
         "nan"
        ],
        [
         "25",
         "200010014079"
        ],
        [
         "26",
         "200010012006"
        ],
        [
         "27",
         "200010014079"
        ],
        [
         "28",
         "200010014079"
        ],
        [
         "29",
         "200010014079"
        ],
        [
         "30",
         "200010014079"
        ],
        [
         "31",
         "nan"
        ],
        [
         "32",
         "200010016095"
        ],
        [
         "33",
         "nan"
        ],
        [
         "34",
         "200010016574"
        ],
        [
         "35",
         "nan"
        ],
        [
         "36",
         "200010010055"
        ],
        [
         "37",
         "200010024514"
        ],
        [
         "38",
         "200010024695"
        ],
        [
         "39",
         "nan"
        ],
        [
         "40",
         "nan"
        ],
        [
         "41",
         "nan"
        ],
        [
         "42",
         "nan"
        ],
        [
         "43",
         "nan"
        ],
        [
         "44",
         "200010024495"
        ],
        [
         "45",
         "nan"
        ],
        [
         "46",
         "nan"
        ],
        [
         "47",
         "nan"
        ],
        [
         "48",
         "nan"
        ],
        [
         "49",
         "200010011957"
        ]
       ],
       "shape": {
        "columns": 1,
        "rows": 4462
       }
      },
      "text/plain": [
       "0       200000000492\n",
       "1       200010010204\n",
       "2       200010010204\n",
       "3       200010010204\n",
       "4       200000000492\n",
       "            ...     \n",
       "4457             nan\n",
       "4458             nan\n",
       "4459             nan\n",
       "4460             nan\n",
       "4461    200010027618\n",
       "Name: disc_barcode, Length: 4462, dtype: object"
      ]
     },
     "execution_count": 50,
     "metadata": {},
     "output_type": "execute_result"
    }
   ],
   "source": [
    "# if i need to change type of the column i car write like this\n",
    "edited_df['disc_barcode'].astype('str').replace(r'\\.0', '', regex = True) # last part with replace is example of using regex without re"
   ]
  },
  {
   "cell_type": "code",
   "execution_count": null,
   "id": "9b53d281",
   "metadata": {},
   "outputs": [],
   "source": [
    "# after changing type i need to rewrite initial dataframe \n",
    "edited_df['disc_barcode'] = edited_df['disc_barcode'].astype('str').replace(r'\\.0', '', regex = True)"
   ]
  },
  {
   "cell_type": "code",
   "execution_count": null,
   "id": "f64974c5",
   "metadata": {},
   "outputs": [],
   "source": [
    "# if i want to change format of the date in date column i can use this\n",
    "pd.to_datetime(edited_df['date']).dt\n",
    "# by using dt i get access to many methods and functions similar to datetime library, one of them is strftime()\n",
    "pd.to_datetime(edited_df['date']).dt.strftime('%d.%m.%Y')\n",
    "# to change it in initial dataframe i need to rewrite it\n",
    "edited_df['date']= pd.to_datetime(edited_df['date']).dt.strftime('%d.%m.%Y')"
   ]
  },
  {
   "cell_type": "code",
   "execution_count": 57,
   "id": "406c16f8",
   "metadata": {},
   "outputs": [
    {
     "data": {
      "application/vnd.microsoft.datawrangler.viewer.v0+json": {
       "columns": [
        {
         "name": "index",
         "rawType": "int64",
         "type": "integer"
        },
        {
         "name": "date",
         "rawType": "object",
         "type": "string"
        },
        {
         "name": "time",
         "rawType": "object",
         "type": "string"
        },
        {
         "name": "n_chk",
         "rawType": "int64",
         "type": "integer"
        },
        {
         "name": "n_doc",
         "rawType": "int64",
         "type": "integer"
        },
        {
         "name": "apt",
         "rawType": "int64",
         "type": "integer"
        },
        {
         "name": "name_drugs",
         "rawType": "object",
         "type": "string"
        },
        {
         "name": "amnt",
         "rawType": "float64",
         "type": "float"
        },
        {
         "name": "purch_price",
         "rawType": "float64",
         "type": "float"
        },
        {
         "name": "retail_price",
         "rawType": "float64",
         "type": "float"
        },
        {
         "name": "disc",
         "rawType": "float64",
         "type": "float"
        },
        {
         "name": "pay_type",
         "rawType": "int64",
         "type": "integer"
        },
        {
         "name": "drug_id",
         "rawType": "int64",
         "type": "integer"
        },
        {
         "name": "supplier",
         "rawType": "object",
         "type": "string"
        },
        {
         "name": "disc_id",
         "rawType": "float64",
         "type": "float"
        },
        {
         "name": "disc_barcode",
         "rawType": "object",
         "type": "string"
        },
        {
         "name": "employee",
         "rawType": "int64",
         "type": "integer"
        },
        {
         "name": "vzak",
         "rawType": "int64",
         "type": "integer"
        },
        {
         "name": "pos",
         "rawType": "float64",
         "type": "float"
        }
       ],
       "ref": "196154f3-23b2-45a6-8dcb-84d132dcd135",
       "rows": [
        [
         "0",
         "11.08.2022",
         "10:15:35",
         "2173",
         "2004598",
         "2",
         "ЦИПРОЛЕТ 3МГ/МЛ. 5МЛ. №1 ГЛ.КАПЛИ ФЛ./КАП. /Д-Р РЕДДИ/",
         "1.0",
         "41.08",
         "51.0",
         "12.0",
         "18",
         "45399",
         "Катрен г.Химки",
         "925.0",
         "200000000492",
         "205",
         "1",
         "1.0"
        ],
        [
         "1",
         "11.08.2022",
         "10:27:46",
         "2174",
         "2004598",
         "2",
         "ПЕРЕКИСЬ ВОДОРОДА 3% 100МЛ. №40 Р-Р ФЛ.",
         "1.0",
         "18.61",
         "31.0",
         "3.0",
         "15",
         "261519",
         "Катрен г.Химки",
         "9.0",
         "200010010204",
         "205",
         "1",
         "1.0"
        ],
        [
         "2",
         "11.08.2022",
         "10:27:46",
         "2174",
         "2004598",
         "2",
         "СОФЬЯ ГЕЛЬ Д/НОГ ВЕНОТОНИЗ. ТРОКСЕРУТИН ФОРТЕ 125МЛ.",
         "1.0",
         "132.69",
         "209.0",
         "20.0",
         "15",
         "460864",
         "Катрен г.Химки",
         "9.0",
         "200010010204",
         "205",
         "1",
         "2.0"
        ],
        [
         "3",
         "11.08.2022",
         "10:27:46",
         "2174",
         "2004598",
         "2",
         "СОФЬЯ ГХК КРЕМ Д/ТЕЛА ХОНДРОИТИН+ГЛЮКОЗАМИН 125МЛ. ТУБА",
         "1.0",
         "133.65",
         "210.0",
         "21.0",
         "15",
         "172823",
         "Катрен г.Химки",
         "9.0",
         "200010010204",
         "205",
         "1",
         "3.0"
        ],
        [
         "4",
         "11.08.2022",
         "10:33:56",
         "2175",
         "2004598",
         "2",
         "ГАЛВУС 50МГ. №28 ТАБ. /НОВАРТИС/",
         "1.0",
         "709.95",
         "787.0",
         "49.0",
         "18",
         "79056",
         "Катрен г.Химки",
         "925.0",
         "200000000492",
         "205",
         "1",
         "1.0"
        ]
       ],
       "shape": {
        "columns": 18,
        "rows": 5
       }
      },
      "text/html": [
       "<div>\n",
       "<style scoped>\n",
       "    .dataframe tbody tr th:only-of-type {\n",
       "        vertical-align: middle;\n",
       "    }\n",
       "\n",
       "    .dataframe tbody tr th {\n",
       "        vertical-align: top;\n",
       "    }\n",
       "\n",
       "    .dataframe thead th {\n",
       "        text-align: right;\n",
       "    }\n",
       "</style>\n",
       "<table border=\"1\" class=\"dataframe\">\n",
       "  <thead>\n",
       "    <tr style=\"text-align: right;\">\n",
       "      <th></th>\n",
       "      <th>date</th>\n",
       "      <th>time</th>\n",
       "      <th>...</th>\n",
       "      <th>vzak</th>\n",
       "      <th>pos</th>\n",
       "    </tr>\n",
       "  </thead>\n",
       "  <tbody>\n",
       "    <tr>\n",
       "      <th>0</th>\n",
       "      <td>11.08.2022</td>\n",
       "      <td>10:15:35</td>\n",
       "      <td>...</td>\n",
       "      <td>1</td>\n",
       "      <td>1.00</td>\n",
       "    </tr>\n",
       "    <tr>\n",
       "      <th>1</th>\n",
       "      <td>11.08.2022</td>\n",
       "      <td>10:27:46</td>\n",
       "      <td>...</td>\n",
       "      <td>1</td>\n",
       "      <td>1.00</td>\n",
       "    </tr>\n",
       "    <tr>\n",
       "      <th>2</th>\n",
       "      <td>11.08.2022</td>\n",
       "      <td>10:27:46</td>\n",
       "      <td>...</td>\n",
       "      <td>1</td>\n",
       "      <td>2.00</td>\n",
       "    </tr>\n",
       "    <tr>\n",
       "      <th>3</th>\n",
       "      <td>11.08.2022</td>\n",
       "      <td>10:27:46</td>\n",
       "      <td>...</td>\n",
       "      <td>1</td>\n",
       "      <td>3.00</td>\n",
       "    </tr>\n",
       "    <tr>\n",
       "      <th>4</th>\n",
       "      <td>11.08.2022</td>\n",
       "      <td>10:33:56</td>\n",
       "      <td>...</td>\n",
       "      <td>1</td>\n",
       "      <td>1.00</td>\n",
       "    </tr>\n",
       "  </tbody>\n",
       "</table>\n",
       "<p>5 rows × 18 columns</p>\n",
       "</div>"
      ],
      "text/plain": [
       "         date      time  ...  vzak  pos\n",
       "0  11.08.2022  10:15:35  ...     1 1.00\n",
       "1  11.08.2022  10:27:46  ...     1 1.00\n",
       "2  11.08.2022  10:27:46  ...     1 2.00\n",
       "3  11.08.2022  10:27:46  ...     1 3.00\n",
       "4  11.08.2022  10:33:56  ...     1 1.00\n",
       "\n",
       "[5 rows x 18 columns]"
      ]
     },
     "execution_count": 57,
     "metadata": {},
     "output_type": "execute_result"
    }
   ],
   "source": [
    "edited_df.head()"
   ]
  },
  {
   "cell_type": "code",
   "execution_count": 58,
   "id": "84935a8c",
   "metadata": {},
   "outputs": [
    {
     "data": {
      "text/plain": [
       "array([1, 2])"
      ]
     },
     "execution_count": 58,
     "metadata": {},
     "output_type": "execute_result"
    }
   ],
   "source": [
    "# this way i can get unique values from column\n",
    "edited_df['vzak'].unique()"
   ]
  },
  {
   "cell_type": "code",
   "execution_count": null,
   "id": "24369915",
   "metadata": {},
   "outputs": [],
   "source": [
    "# if i want to replace values in column i need to do this\n",
    "edited_df['vzak'] = edited_df['vzak'].astype('str').replace('1', 'offline').replace('2', 'online')\n",
    "# firstly i changed type to str, then replaced values with regular replace function"
   ]
  },
  {
   "cell_type": "code",
   "execution_count": 63,
   "id": "51f35d8a",
   "metadata": {},
   "outputs": [
    {
     "data": {
      "application/vnd.microsoft.datawrangler.viewer.v0+json": {
       "columns": [
        {
         "name": "index",
         "rawType": "int64",
         "type": "integer"
        },
        {
         "name": "date",
         "rawType": "object",
         "type": "string"
        },
        {
         "name": "time",
         "rawType": "object",
         "type": "string"
        },
        {
         "name": "n_chk",
         "rawType": "int64",
         "type": "integer"
        },
        {
         "name": "n_doc",
         "rawType": "int64",
         "type": "integer"
        },
        {
         "name": "apt",
         "rawType": "int64",
         "type": "integer"
        },
        {
         "name": "name_drugs",
         "rawType": "object",
         "type": "string"
        },
        {
         "name": "amnt",
         "rawType": "float64",
         "type": "float"
        },
        {
         "name": "purch_price",
         "rawType": "float64",
         "type": "float"
        },
        {
         "name": "retail_price",
         "rawType": "float64",
         "type": "float"
        },
        {
         "name": "disc",
         "rawType": "float64",
         "type": "float"
        },
        {
         "name": "pay_type",
         "rawType": "int64",
         "type": "integer"
        },
        {
         "name": "drug_id",
         "rawType": "int64",
         "type": "integer"
        },
        {
         "name": "supplier",
         "rawType": "object",
         "type": "string"
        },
        {
         "name": "disc_id",
         "rawType": "float64",
         "type": "float"
        },
        {
         "name": "disc_barcode",
         "rawType": "object",
         "type": "string"
        },
        {
         "name": "employee",
         "rawType": "int64",
         "type": "integer"
        },
        {
         "name": "vzak",
         "rawType": "object",
         "type": "string"
        },
        {
         "name": "pos",
         "rawType": "float64",
         "type": "float"
        }
       ],
       "ref": "9dbcae7a-c49c-4f84-b264-396fb8ff5fe9",
       "rows": [
        [
         "0",
         "11.08.2022",
         "10:15:35",
         "2173",
         "2004598",
         "2",
         "ЦИПРОЛЕТ 3МГ/МЛ. 5МЛ. №1 ГЛ.КАПЛИ ФЛ./КАП. /Д-Р РЕДДИ/",
         "1.0",
         "41.08",
         "51.0",
         "12.0",
         "18",
         "45399",
         "Катрен г.Химки",
         "925.0",
         "200000000492",
         "205",
         "offline",
         "1.0"
        ],
        [
         "1",
         "11.08.2022",
         "10:27:46",
         "2174",
         "2004598",
         "2",
         "ПЕРЕКИСЬ ВОДОРОДА 3% 100МЛ. №40 Р-Р ФЛ.",
         "1.0",
         "18.61",
         "31.0",
         "3.0",
         "15",
         "261519",
         "Катрен г.Химки",
         "9.0",
         "200010010204",
         "205",
         "offline",
         "1.0"
        ],
        [
         "2",
         "11.08.2022",
         "10:27:46",
         "2174",
         "2004598",
         "2",
         "СОФЬЯ ГЕЛЬ Д/НОГ ВЕНОТОНИЗ. ТРОКСЕРУТИН ФОРТЕ 125МЛ.",
         "1.0",
         "132.69",
         "209.0",
         "20.0",
         "15",
         "460864",
         "Катрен г.Химки",
         "9.0",
         "200010010204",
         "205",
         "offline",
         "2.0"
        ],
        [
         "3",
         "11.08.2022",
         "10:27:46",
         "2174",
         "2004598",
         "2",
         "СОФЬЯ ГХК КРЕМ Д/ТЕЛА ХОНДРОИТИН+ГЛЮКОЗАМИН 125МЛ. ТУБА",
         "1.0",
         "133.65",
         "210.0",
         "21.0",
         "15",
         "172823",
         "Катрен г.Химки",
         "9.0",
         "200010010204",
         "205",
         "offline",
         "3.0"
        ],
        [
         "4",
         "11.08.2022",
         "10:33:56",
         "2175",
         "2004598",
         "2",
         "ГАЛВУС 50МГ. №28 ТАБ. /НОВАРТИС/",
         "1.0",
         "709.95",
         "787.0",
         "49.0",
         "18",
         "79056",
         "Катрен г.Химки",
         "925.0",
         "200000000492",
         "205",
         "offline",
         "1.0"
        ]
       ],
       "shape": {
        "columns": 18,
        "rows": 5
       }
      },
      "text/html": [
       "<div>\n",
       "<style scoped>\n",
       "    .dataframe tbody tr th:only-of-type {\n",
       "        vertical-align: middle;\n",
       "    }\n",
       "\n",
       "    .dataframe tbody tr th {\n",
       "        vertical-align: top;\n",
       "    }\n",
       "\n",
       "    .dataframe thead th {\n",
       "        text-align: right;\n",
       "    }\n",
       "</style>\n",
       "<table border=\"1\" class=\"dataframe\">\n",
       "  <thead>\n",
       "    <tr style=\"text-align: right;\">\n",
       "      <th></th>\n",
       "      <th>date</th>\n",
       "      <th>time</th>\n",
       "      <th>...</th>\n",
       "      <th>vzak</th>\n",
       "      <th>pos</th>\n",
       "    </tr>\n",
       "  </thead>\n",
       "  <tbody>\n",
       "    <tr>\n",
       "      <th>0</th>\n",
       "      <td>11.08.2022</td>\n",
       "      <td>10:15:35</td>\n",
       "      <td>...</td>\n",
       "      <td>offline</td>\n",
       "      <td>1.00</td>\n",
       "    </tr>\n",
       "    <tr>\n",
       "      <th>1</th>\n",
       "      <td>11.08.2022</td>\n",
       "      <td>10:27:46</td>\n",
       "      <td>...</td>\n",
       "      <td>offline</td>\n",
       "      <td>1.00</td>\n",
       "    </tr>\n",
       "    <tr>\n",
       "      <th>2</th>\n",
       "      <td>11.08.2022</td>\n",
       "      <td>10:27:46</td>\n",
       "      <td>...</td>\n",
       "      <td>offline</td>\n",
       "      <td>2.00</td>\n",
       "    </tr>\n",
       "    <tr>\n",
       "      <th>3</th>\n",
       "      <td>11.08.2022</td>\n",
       "      <td>10:27:46</td>\n",
       "      <td>...</td>\n",
       "      <td>offline</td>\n",
       "      <td>3.00</td>\n",
       "    </tr>\n",
       "    <tr>\n",
       "      <th>4</th>\n",
       "      <td>11.08.2022</td>\n",
       "      <td>10:33:56</td>\n",
       "      <td>...</td>\n",
       "      <td>offline</td>\n",
       "      <td>1.00</td>\n",
       "    </tr>\n",
       "  </tbody>\n",
       "</table>\n",
       "<p>5 rows × 18 columns</p>\n",
       "</div>"
      ],
      "text/plain": [
       "         date      time  ...     vzak  pos\n",
       "0  11.08.2022  10:15:35  ...  offline 1.00\n",
       "1  11.08.2022  10:27:46  ...  offline 1.00\n",
       "2  11.08.2022  10:27:46  ...  offline 2.00\n",
       "3  11.08.2022  10:27:46  ...  offline 3.00\n",
       "4  11.08.2022  10:33:56  ...  offline 1.00\n",
       "\n",
       "[5 rows x 18 columns]"
      ]
     },
     "execution_count": 63,
     "metadata": {},
     "output_type": "execute_result"
    }
   ],
   "source": [
    "edited_df.head()"
   ]
  },
  {
   "cell_type": "code",
   "execution_count": null,
   "id": "2f294cfb",
   "metadata": {},
   "outputs": [],
   "source": []
  }
 ],
 "metadata": {
  "kernelspec": {
   "display_name": "Python 3",
   "language": "python",
   "name": "python3"
  },
  "language_info": {
   "codemirror_mode": {
    "name": "ipython",
    "version": 3
   },
   "file_extension": ".py",
   "mimetype": "text/x-python",
   "name": "python",
   "nbconvert_exporter": "python",
   "pygments_lexer": "ipython3",
   "version": "3.12.1"
  }
 },
 "nbformat": 4,
 "nbformat_minor": 5
}
