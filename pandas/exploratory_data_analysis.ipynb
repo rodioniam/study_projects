{
 "cells": [
  {
   "cell_type": "code",
   "execution_count": 19,
   "id": "1674da02",
   "metadata": {},
   "outputs": [],
   "source": [
    "import pandas as pd\n",
    "df = pd.read_csv('data.txt', encoding='windows-1251')"
   ]
  },
  {
   "cell_type": "code",
   "execution_count": 20,
   "id": "8ae99806",
   "metadata": {},
   "outputs": [],
   "source": [
    "user_columns = ['DR_Dat', 'DR_Tim', 'DR_NChk', 'DR_NDoc', \n",
    "                'DR_Apt', 'DR_NDrugs', 'DR_Kol', 'DR_CZak', 'DR_CRoz', \n",
    "                'DR_SDisc', 'DR_TPay', 'DR_CDrugs',  \n",
    "                'DR_Suppl','DR_CDisc', 'DR_BCDisc', 'DR_TabEmpl',\n",
    "                'DR_VZak', 'DR_Pos']\n",
    "\n",
    "df = df[user_columns]"
   ]
  },
  {
   "cell_type": "code",
   "execution_count": 21,
   "id": "1ed11856",
   "metadata": {},
   "outputs": [],
   "source": [
    "df.columns = ['date', 'time', 'n_chk', 'n_doc', 'apt', 'name_drugs',\n",
    "       'amnt', 'purch_price', 'retail_price', 'disc', 'pay_type', 'drug_id',\n",
    "       'supplier', 'disc_id', 'disc_barcode', 'employee', 'vzak', 'pos']"
   ]
  },
  {
   "cell_type": "code",
   "execution_count": 22,
   "id": "72843a9a",
   "metadata": {},
   "outputs": [],
   "source": [
    "df['disc_barcode'] = df['disc_barcode'].astype('str').replace(r'\\.0', '', regex=True)\n",
    "df['date']= pd.to_datetime(df['date']).dt.strftime('%d.%m.%Y')\n",
    "df['vzak'] = df['vzak'].astype('str').replace('1', 'offline').replace('2', 'online')\n",
    "df = df.fillna(0)"
   ]
  }
 ],
 "metadata": {
  "kernelspec": {
   "display_name": "Python 3",
   "language": "python",
   "name": "python3"
  },
  "language_info": {
   "codemirror_mode": {
    "name": "ipython",
    "version": 3
   },
   "file_extension": ".py",
   "mimetype": "text/x-python",
   "name": "python",
   "nbconvert_exporter": "python",
   "pygments_lexer": "ipython3",
   "version": "3.12.1"
  }
 },
 "nbformat": 4,
 "nbformat_minor": 5
}
