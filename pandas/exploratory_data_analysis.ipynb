{
 "cells": [
  {
   "cell_type": "code",
   "execution_count": 27,
   "id": "1674da02",
   "metadata": {},
   "outputs": [],
   "source": [
    "import pandas as pd\n",
    "df = pd.read_csv('data.txt', encoding='windows-1251')"
   ]
  },
  {
   "cell_type": "code",
   "execution_count": 28,
   "id": "8ae99806",
   "metadata": {},
   "outputs": [],
   "source": [
    "user_columns = ['DR_Dat', 'DR_Tim', 'DR_NChk', 'DR_NDoc', \n",
    "                'DR_Apt', 'DR_NDrugs', 'DR_Kol', 'DR_CZak', 'DR_CRoz', \n",
    "                'DR_SDisc', 'DR_TPay', 'DR_CDrugs',  \n",
    "                'DR_Suppl','DR_CDisc', 'DR_BCDisc', 'DR_TabEmpl',\n",
    "                'DR_VZak', 'DR_Pos']\n",
    "\n",
    "df = df[user_columns]"
   ]
  },
  {
   "cell_type": "code",
   "execution_count": 29,
   "id": "1ed11856",
   "metadata": {},
   "outputs": [],
   "source": [
    "df.columns = ['date', 'time', 'n_chk', 'n_doc', 'apt', 'name_drugs',\n",
    "       'amnt', 'purch_price', 'retail_price', 'disc', 'pay_type', 'drug_id',\n",
    "       'supplier', 'disc_id', 'disc_barcode', 'employee', 'vzak', 'pos']"
   ]
  },
  {
   "cell_type": "code",
   "execution_count": 30,
   "id": "72843a9a",
   "metadata": {},
   "outputs": [],
   "source": [
    "df['disc_barcode'] = df['disc_barcode'].astype('str').replace(r'\\.0', '', regex=True)\n",
    "df['date']= pd.to_datetime(df['date']).dt.strftime('%d.%m.%Y')\n",
    "df['vzak'] = df['vzak'].astype('str').replace('1', 'offline').replace('2', 'online')\n",
    "df = df.fillna(0)"
   ]
  },
  {
   "cell_type": "code",
   "execution_count": 32,
   "id": "70bab372",
   "metadata": {},
   "outputs": [
    {
     "data": {
      "application/vnd.microsoft.datawrangler.viewer.v0+json": {
       "columns": [
        {
         "name": "index",
         "rawType": "int64",
         "type": "integer"
        },
        {
         "name": "date",
         "rawType": "object",
         "type": "string"
        },
        {
         "name": "time",
         "rawType": "object",
         "type": "string"
        },
        {
         "name": "n_chk",
         "rawType": "int64",
         "type": "integer"
        },
        {
         "name": "n_doc",
         "rawType": "int64",
         "type": "integer"
        },
        {
         "name": "apt",
         "rawType": "int64",
         "type": "integer"
        },
        {
         "name": "name_drugs",
         "rawType": "object",
         "type": "string"
        },
        {
         "name": "amnt",
         "rawType": "float64",
         "type": "float"
        },
        {
         "name": "purch_price",
         "rawType": "float64",
         "type": "float"
        },
        {
         "name": "retail_price",
         "rawType": "float64",
         "type": "float"
        },
        {
         "name": "disc",
         "rawType": "float64",
         "type": "float"
        },
        {
         "name": "pay_type",
         "rawType": "int64",
         "type": "integer"
        },
        {
         "name": "drug_id",
         "rawType": "int64",
         "type": "integer"
        },
        {
         "name": "supplier",
         "rawType": "object",
         "type": "string"
        },
        {
         "name": "disc_id",
         "rawType": "float64",
         "type": "float"
        },
        {
         "name": "disc_barcode",
         "rawType": "object",
         "type": "string"
        },
        {
         "name": "employee",
         "rawType": "int64",
         "type": "integer"
        },
        {
         "name": "vzak",
         "rawType": "object",
         "type": "string"
        },
        {
         "name": "pos",
         "rawType": "float64",
         "type": "float"
        }
       ],
       "ref": "a5f34b03-2a60-4b57-b041-cfd15156bb2c",
       "rows": [
        [
         "0",
         "11.08.2022",
         "10:15:35",
         "2173",
         "2004598",
         "2",
         "ЦИПРОЛЕТ 3МГ/МЛ. 5МЛ. №1 ГЛ.КАПЛИ ФЛ./КАП. /Д-Р РЕДДИ/",
         "1.0",
         "41.08",
         "51.0",
         "12.0",
         "18",
         "45399",
         "Катрен г.Химки",
         "925.0",
         "200000000492",
         "205",
         "offline",
         "1.0"
        ],
        [
         "1",
         "11.08.2022",
         "10:27:46",
         "2174",
         "2004598",
         "2",
         "ПЕРЕКИСЬ ВОДОРОДА 3% 100МЛ. №40 Р-Р ФЛ.",
         "1.0",
         "18.61",
         "31.0",
         "3.0",
         "15",
         "261519",
         "Катрен г.Химки",
         "9.0",
         "200010010204",
         "205",
         "offline",
         "1.0"
        ],
        [
         "2",
         "11.08.2022",
         "10:27:46",
         "2174",
         "2004598",
         "2",
         "СОФЬЯ ГЕЛЬ Д/НОГ ВЕНОТОНИЗ. ТРОКСЕРУТИН ФОРТЕ 125МЛ.",
         "1.0",
         "132.69",
         "209.0",
         "20.0",
         "15",
         "460864",
         "Катрен г.Химки",
         "9.0",
         "200010010204",
         "205",
         "offline",
         "2.0"
        ],
        [
         "3",
         "11.08.2022",
         "10:27:46",
         "2174",
         "2004598",
         "2",
         "СОФЬЯ ГХК КРЕМ Д/ТЕЛА ХОНДРОИТИН+ГЛЮКОЗАМИН 125МЛ. ТУБА",
         "1.0",
         "133.65",
         "210.0",
         "21.0",
         "15",
         "172823",
         "Катрен г.Химки",
         "9.0",
         "200010010204",
         "205",
         "offline",
         "3.0"
        ],
        [
         "4",
         "11.08.2022",
         "10:33:56",
         "2175",
         "2004598",
         "2",
         "ГАЛВУС 50МГ. №28 ТАБ. /НОВАРТИС/",
         "1.0",
         "709.95",
         "787.0",
         "49.0",
         "18",
         "79056",
         "Катрен г.Химки",
         "925.0",
         "200000000492",
         "205",
         "offline",
         "1.0"
        ],
        [
         "5",
         "11.08.2022",
         "10:40:38",
         "2176",
         "2004598",
         "2",
         "БИСОПРОЛОЛ 5МГ. №60 ТАБ. П/П/О /ВЕРТЕКС/",
         "1.0",
         "152.9",
         "182.0",
         "9.0",
         "18",
         "187304",
         "Пульс",
         "9.0",
         "200010001947",
         "205",
         "offline",
         "1.0"
        ],
        [
         "6",
         "11.08.2022",
         "10:40:38",
         "2176",
         "2004598",
         "2",
         "ТРИХОПОЛ 250МГ. №20 ТАБ. /ПОЛЬФАРМА/",
         "1.0",
         "67.94",
         "85.0",
         "4.0",
         "18",
         "1261",
         "ГРАНД КАПИТАЛ СМОЛЕНСК ООО ФК",
         "9.0",
         "200010001947",
         "205",
         "offline",
         "2.0"
        ],
        [
         "7",
         "11.08.2022",
         "10:52:52",
         "2177",
         "2004598",
         "2",
         "НОРВАСК 5МГ. №30 ТАБ. /ПФАЙЗЕР/АПДЖОН/",
         "1.0",
         "157.76",
         "189.0",
         "9.0",
         "18",
         "2566",
         "Катрен г.Химки",
         "9.0",
         "200010013331",
         "205",
         "offline",
         "3.0"
        ],
        [
         "8",
         "11.08.2022",
         "10:52:52",
         "2177",
         "2004598",
         "2",
         "НОРВАСК 5МГ. №30 ТАБ. /ПФАЙЗЕР/АПДЖОН/",
         "1.0",
         "159.4",
         "191.0",
         "9.0",
         "18",
         "2566",
         "Катрен г.Химки",
         "9.0",
         "200010013331",
         "205",
         "offline",
         "4.0"
        ],
        [
         "9",
         "11.08.2022",
         "10:52:52",
         "2177",
         "2004598",
         "2",
         "СОТАГЕКСАЛ 80МГ. №20 ТАБ. /ГЕКСАЛ АГ/",
         "1.0",
         "71.97",
         "90.0",
         "4.0",
         "18",
         "5155",
         "Катрен г.Химки",
         "9.0",
         "200010013331",
         "205",
         "offline",
         "5.0"
        ]
       ],
       "shape": {
        "columns": 18,
        "rows": 10
       }
      },
      "text/html": [
       "<div>\n",
       "<style scoped>\n",
       "    .dataframe tbody tr th:only-of-type {\n",
       "        vertical-align: middle;\n",
       "    }\n",
       "\n",
       "    .dataframe tbody tr th {\n",
       "        vertical-align: top;\n",
       "    }\n",
       "\n",
       "    .dataframe thead th {\n",
       "        text-align: right;\n",
       "    }\n",
       "</style>\n",
       "<table border=\"1\" class=\"dataframe\">\n",
       "  <thead>\n",
       "    <tr style=\"text-align: right;\">\n",
       "      <th></th>\n",
       "      <th>date</th>\n",
       "      <th>time</th>\n",
       "      <th>n_chk</th>\n",
       "      <th>n_doc</th>\n",
       "      <th>apt</th>\n",
       "      <th>name_drugs</th>\n",
       "      <th>amnt</th>\n",
       "      <th>purch_price</th>\n",
       "      <th>retail_price</th>\n",
       "      <th>disc</th>\n",
       "      <th>pay_type</th>\n",
       "      <th>drug_id</th>\n",
       "      <th>supplier</th>\n",
       "      <th>disc_id</th>\n",
       "      <th>disc_barcode</th>\n",
       "      <th>employee</th>\n",
       "      <th>vzak</th>\n",
       "      <th>pos</th>\n",
       "    </tr>\n",
       "  </thead>\n",
       "  <tbody>\n",
       "    <tr>\n",
       "      <th>0</th>\n",
       "      <td>11.08.2022</td>\n",
       "      <td>10:15:35</td>\n",
       "      <td>2173</td>\n",
       "      <td>2004598</td>\n",
       "      <td>2</td>\n",
       "      <td>ЦИПРОЛЕТ 3МГ/МЛ. 5МЛ. №1 ГЛ.КАПЛИ ФЛ./КАП. /Д-...</td>\n",
       "      <td>1.0</td>\n",
       "      <td>41.08</td>\n",
       "      <td>51.0</td>\n",
       "      <td>12.0</td>\n",
       "      <td>18</td>\n",
       "      <td>45399</td>\n",
       "      <td>Катрен г.Химки</td>\n",
       "      <td>925.0</td>\n",
       "      <td>200000000492</td>\n",
       "      <td>205</td>\n",
       "      <td>offline</td>\n",
       "      <td>1.0</td>\n",
       "    </tr>\n",
       "    <tr>\n",
       "      <th>1</th>\n",
       "      <td>11.08.2022</td>\n",
       "      <td>10:27:46</td>\n",
       "      <td>2174</td>\n",
       "      <td>2004598</td>\n",
       "      <td>2</td>\n",
       "      <td>ПЕРЕКИСЬ ВОДОРОДА 3% 100МЛ. №40 Р-Р ФЛ.</td>\n",
       "      <td>1.0</td>\n",
       "      <td>18.61</td>\n",
       "      <td>31.0</td>\n",
       "      <td>3.0</td>\n",
       "      <td>15</td>\n",
       "      <td>261519</td>\n",
       "      <td>Катрен г.Химки</td>\n",
       "      <td>9.0</td>\n",
       "      <td>200010010204</td>\n",
       "      <td>205</td>\n",
       "      <td>offline</td>\n",
       "      <td>1.0</td>\n",
       "    </tr>\n",
       "    <tr>\n",
       "      <th>2</th>\n",
       "      <td>11.08.2022</td>\n",
       "      <td>10:27:46</td>\n",
       "      <td>2174</td>\n",
       "      <td>2004598</td>\n",
       "      <td>2</td>\n",
       "      <td>СОФЬЯ ГЕЛЬ Д/НОГ ВЕНОТОНИЗ. ТРОКСЕРУТИН ФОРТЕ ...</td>\n",
       "      <td>1.0</td>\n",
       "      <td>132.69</td>\n",
       "      <td>209.0</td>\n",
       "      <td>20.0</td>\n",
       "      <td>15</td>\n",
       "      <td>460864</td>\n",
       "      <td>Катрен г.Химки</td>\n",
       "      <td>9.0</td>\n",
       "      <td>200010010204</td>\n",
       "      <td>205</td>\n",
       "      <td>offline</td>\n",
       "      <td>2.0</td>\n",
       "    </tr>\n",
       "    <tr>\n",
       "      <th>3</th>\n",
       "      <td>11.08.2022</td>\n",
       "      <td>10:27:46</td>\n",
       "      <td>2174</td>\n",
       "      <td>2004598</td>\n",
       "      <td>2</td>\n",
       "      <td>СОФЬЯ ГХК КРЕМ Д/ТЕЛА ХОНДРОИТИН+ГЛЮКОЗАМИН 12...</td>\n",
       "      <td>1.0</td>\n",
       "      <td>133.65</td>\n",
       "      <td>210.0</td>\n",
       "      <td>21.0</td>\n",
       "      <td>15</td>\n",
       "      <td>172823</td>\n",
       "      <td>Катрен г.Химки</td>\n",
       "      <td>9.0</td>\n",
       "      <td>200010010204</td>\n",
       "      <td>205</td>\n",
       "      <td>offline</td>\n",
       "      <td>3.0</td>\n",
       "    </tr>\n",
       "    <tr>\n",
       "      <th>4</th>\n",
       "      <td>11.08.2022</td>\n",
       "      <td>10:33:56</td>\n",
       "      <td>2175</td>\n",
       "      <td>2004598</td>\n",
       "      <td>2</td>\n",
       "      <td>ГАЛВУС 50МГ. №28 ТАБ. /НОВАРТИС/</td>\n",
       "      <td>1.0</td>\n",
       "      <td>709.95</td>\n",
       "      <td>787.0</td>\n",
       "      <td>49.0</td>\n",
       "      <td>18</td>\n",
       "      <td>79056</td>\n",
       "      <td>Катрен г.Химки</td>\n",
       "      <td>925.0</td>\n",
       "      <td>200000000492</td>\n",
       "      <td>205</td>\n",
       "      <td>offline</td>\n",
       "      <td>1.0</td>\n",
       "    </tr>\n",
       "    <tr>\n",
       "      <th>5</th>\n",
       "      <td>11.08.2022</td>\n",
       "      <td>10:40:38</td>\n",
       "      <td>2176</td>\n",
       "      <td>2004598</td>\n",
       "      <td>2</td>\n",
       "      <td>БИСОПРОЛОЛ 5МГ. №60 ТАБ. П/П/О /ВЕРТЕКС/</td>\n",
       "      <td>1.0</td>\n",
       "      <td>152.90</td>\n",
       "      <td>182.0</td>\n",
       "      <td>9.0</td>\n",
       "      <td>18</td>\n",
       "      <td>187304</td>\n",
       "      <td>Пульс</td>\n",
       "      <td>9.0</td>\n",
       "      <td>200010001947</td>\n",
       "      <td>205</td>\n",
       "      <td>offline</td>\n",
       "      <td>1.0</td>\n",
       "    </tr>\n",
       "    <tr>\n",
       "      <th>6</th>\n",
       "      <td>11.08.2022</td>\n",
       "      <td>10:40:38</td>\n",
       "      <td>2176</td>\n",
       "      <td>2004598</td>\n",
       "      <td>2</td>\n",
       "      <td>ТРИХОПОЛ 250МГ. №20 ТАБ. /ПОЛЬФАРМА/</td>\n",
       "      <td>1.0</td>\n",
       "      <td>67.94</td>\n",
       "      <td>85.0</td>\n",
       "      <td>4.0</td>\n",
       "      <td>18</td>\n",
       "      <td>1261</td>\n",
       "      <td>ГРАНД КАПИТАЛ СМОЛЕНСК ООО ФК</td>\n",
       "      <td>9.0</td>\n",
       "      <td>200010001947</td>\n",
       "      <td>205</td>\n",
       "      <td>offline</td>\n",
       "      <td>2.0</td>\n",
       "    </tr>\n",
       "    <tr>\n",
       "      <th>7</th>\n",
       "      <td>11.08.2022</td>\n",
       "      <td>10:52:52</td>\n",
       "      <td>2177</td>\n",
       "      <td>2004598</td>\n",
       "      <td>2</td>\n",
       "      <td>НОРВАСК 5МГ. №30 ТАБ. /ПФАЙЗЕР/АПДЖОН/</td>\n",
       "      <td>1.0</td>\n",
       "      <td>157.76</td>\n",
       "      <td>189.0</td>\n",
       "      <td>9.0</td>\n",
       "      <td>18</td>\n",
       "      <td>2566</td>\n",
       "      <td>Катрен г.Химки</td>\n",
       "      <td>9.0</td>\n",
       "      <td>200010013331</td>\n",
       "      <td>205</td>\n",
       "      <td>offline</td>\n",
       "      <td>3.0</td>\n",
       "    </tr>\n",
       "    <tr>\n",
       "      <th>8</th>\n",
       "      <td>11.08.2022</td>\n",
       "      <td>10:52:52</td>\n",
       "      <td>2177</td>\n",
       "      <td>2004598</td>\n",
       "      <td>2</td>\n",
       "      <td>НОРВАСК 5МГ. №30 ТАБ. /ПФАЙЗЕР/АПДЖОН/</td>\n",
       "      <td>1.0</td>\n",
       "      <td>159.40</td>\n",
       "      <td>191.0</td>\n",
       "      <td>9.0</td>\n",
       "      <td>18</td>\n",
       "      <td>2566</td>\n",
       "      <td>Катрен г.Химки</td>\n",
       "      <td>9.0</td>\n",
       "      <td>200010013331</td>\n",
       "      <td>205</td>\n",
       "      <td>offline</td>\n",
       "      <td>4.0</td>\n",
       "    </tr>\n",
       "    <tr>\n",
       "      <th>9</th>\n",
       "      <td>11.08.2022</td>\n",
       "      <td>10:52:52</td>\n",
       "      <td>2177</td>\n",
       "      <td>2004598</td>\n",
       "      <td>2</td>\n",
       "      <td>СОТАГЕКСАЛ 80МГ. №20 ТАБ. /ГЕКСАЛ АГ/</td>\n",
       "      <td>1.0</td>\n",
       "      <td>71.97</td>\n",
       "      <td>90.0</td>\n",
       "      <td>4.0</td>\n",
       "      <td>18</td>\n",
       "      <td>5155</td>\n",
       "      <td>Катрен г.Химки</td>\n",
       "      <td>9.0</td>\n",
       "      <td>200010013331</td>\n",
       "      <td>205</td>\n",
       "      <td>offline</td>\n",
       "      <td>5.0</td>\n",
       "    </tr>\n",
       "  </tbody>\n",
       "</table>\n",
       "</div>"
      ],
      "text/plain": [
       "         date      time  n_chk    n_doc  apt  \\\n",
       "0  11.08.2022  10:15:35   2173  2004598    2   \n",
       "1  11.08.2022  10:27:46   2174  2004598    2   \n",
       "2  11.08.2022  10:27:46   2174  2004598    2   \n",
       "3  11.08.2022  10:27:46   2174  2004598    2   \n",
       "4  11.08.2022  10:33:56   2175  2004598    2   \n",
       "5  11.08.2022  10:40:38   2176  2004598    2   \n",
       "6  11.08.2022  10:40:38   2176  2004598    2   \n",
       "7  11.08.2022  10:52:52   2177  2004598    2   \n",
       "8  11.08.2022  10:52:52   2177  2004598    2   \n",
       "9  11.08.2022  10:52:52   2177  2004598    2   \n",
       "\n",
       "                                          name_drugs  amnt  purch_price  \\\n",
       "0  ЦИПРОЛЕТ 3МГ/МЛ. 5МЛ. №1 ГЛ.КАПЛИ ФЛ./КАП. /Д-...   1.0        41.08   \n",
       "1            ПЕРЕКИСЬ ВОДОРОДА 3% 100МЛ. №40 Р-Р ФЛ.   1.0        18.61   \n",
       "2  СОФЬЯ ГЕЛЬ Д/НОГ ВЕНОТОНИЗ. ТРОКСЕРУТИН ФОРТЕ ...   1.0       132.69   \n",
       "3  СОФЬЯ ГХК КРЕМ Д/ТЕЛА ХОНДРОИТИН+ГЛЮКОЗАМИН 12...   1.0       133.65   \n",
       "4                   ГАЛВУС 50МГ. №28 ТАБ. /НОВАРТИС/   1.0       709.95   \n",
       "5           БИСОПРОЛОЛ 5МГ. №60 ТАБ. П/П/О /ВЕРТЕКС/   1.0       152.90   \n",
       "6               ТРИХОПОЛ 250МГ. №20 ТАБ. /ПОЛЬФАРМА/   1.0        67.94   \n",
       "7             НОРВАСК 5МГ. №30 ТАБ. /ПФАЙЗЕР/АПДЖОН/   1.0       157.76   \n",
       "8             НОРВАСК 5МГ. №30 ТАБ. /ПФАЙЗЕР/АПДЖОН/   1.0       159.40   \n",
       "9              СОТАГЕКСАЛ 80МГ. №20 ТАБ. /ГЕКСАЛ АГ/   1.0        71.97   \n",
       "\n",
       "   retail_price  disc  pay_type  drug_id                       supplier  \\\n",
       "0          51.0  12.0        18    45399                 Катрен г.Химки   \n",
       "1          31.0   3.0        15   261519                 Катрен г.Химки   \n",
       "2         209.0  20.0        15   460864                 Катрен г.Химки   \n",
       "3         210.0  21.0        15   172823                 Катрен г.Химки   \n",
       "4         787.0  49.0        18    79056                 Катрен г.Химки   \n",
       "5         182.0   9.0        18   187304                          Пульс   \n",
       "6          85.0   4.0        18     1261  ГРАНД КАПИТАЛ СМОЛЕНСК ООО ФК   \n",
       "7         189.0   9.0        18     2566                 Катрен г.Химки   \n",
       "8         191.0   9.0        18     2566                 Катрен г.Химки   \n",
       "9          90.0   4.0        18     5155                 Катрен г.Химки   \n",
       "\n",
       "   disc_id  disc_barcode  employee     vzak  pos  \n",
       "0    925.0  200000000492       205  offline  1.0  \n",
       "1      9.0  200010010204       205  offline  1.0  \n",
       "2      9.0  200010010204       205  offline  2.0  \n",
       "3      9.0  200010010204       205  offline  3.0  \n",
       "4    925.0  200000000492       205  offline  1.0  \n",
       "5      9.0  200010001947       205  offline  1.0  \n",
       "6      9.0  200010001947       205  offline  2.0  \n",
       "7      9.0  200010013331       205  offline  3.0  \n",
       "8      9.0  200010013331       205  offline  4.0  \n",
       "9      9.0  200010013331       205  offline  5.0  "
      ]
     },
     "execution_count": 32,
     "metadata": {},
     "output_type": "execute_result"
    }
   ],
   "source": [
    "df.head(10)"
   ]
  },
  {
   "cell_type": "code",
   "execution_count": null,
   "id": "0271ffee",
   "metadata": {},
   "outputs": [
    {
     "name": "stdout",
     "output_type": "stream",
     "text": [
      "<class 'pandas.core.frame.DataFrame'>\n",
      "RangeIndex: 4462 entries, 0 to 4461\n",
      "Data columns (total 18 columns):\n",
      " #   Column        Non-Null Count  Dtype  \n",
      "---  ------        --------------  -----  \n",
      " 0   date          4462 non-null   object \n",
      " 1   time          4462 non-null   object \n",
      " 2   n_chk         4462 non-null   int64  \n",
      " 3   n_doc         4462 non-null   int64  \n",
      " 4   apt           4462 non-null   int64  \n",
      " 5   name_drugs    4462 non-null   object \n",
      " 6   amnt          4462 non-null   float64\n",
      " 7   purch_price   4462 non-null   float64\n",
      " 8   retail_price  4462 non-null   float64\n",
      " 9   disc          4462 non-null   float64\n",
      " 10  pay_type      4462 non-null   int64  \n",
      " 11  drug_id       4462 non-null   int64  \n",
      " 12  supplier      4462 non-null   object \n",
      " 13  disc_id       4462 non-null   float64\n",
      " 14  disc_barcode  4462 non-null   object \n",
      " 15  employee      4462 non-null   int64  \n",
      " 16  vzak          4462 non-null   object \n",
      " 17  pos           4462 non-null   float64\n",
      "dtypes: float64(6), int64(6), object(6)\n",
      "memory usage: 627.6+ KB\n"
     ]
    }
   ],
   "source": [
    "# this function shows structure of the dataframe\n",
    "df.info()"
   ]
  },
  {
   "cell_type": "code",
   "execution_count": null,
   "id": "51ded9d5",
   "metadata": {},
   "outputs": [
    {
     "data": {
      "application/vnd.microsoft.datawrangler.viewer.v0+json": {
       "columns": [
        {
         "name": "index",
         "rawType": "object",
         "type": "string"
        },
        {
         "name": "n_chk",
         "rawType": "float64",
         "type": "float"
        },
        {
         "name": "n_doc",
         "rawType": "float64",
         "type": "float"
        },
        {
         "name": "apt",
         "rawType": "float64",
         "type": "float"
        },
        {
         "name": "amnt",
         "rawType": "float64",
         "type": "float"
        },
        {
         "name": "purch_price",
         "rawType": "float64",
         "type": "float"
        },
        {
         "name": "retail_price",
         "rawType": "float64",
         "type": "float"
        },
        {
         "name": "disc",
         "rawType": "float64",
         "type": "float"
        },
        {
         "name": "pay_type",
         "rawType": "float64",
         "type": "float"
        },
        {
         "name": "drug_id",
         "rawType": "float64",
         "type": "float"
        },
        {
         "name": "disc_id",
         "rawType": "float64",
         "type": "float"
        },
        {
         "name": "employee",
         "rawType": "float64",
         "type": "float"
        },
        {
         "name": "pos",
         "rawType": "float64",
         "type": "float"
        }
       ],
       "ref": "25a01baf-d17a-4809-a280-276caba9c2d1",
       "rows": [
        [
         "count",
         "4462.0",
         "4462.0",
         "4462.0",
         "4462.0",
         "4462.0",
         "4462.0",
         "4462.0",
         "4462.0",
         "4462.0",
         "4462.0",
         "4462.0",
         "4462.0"
        ],
        [
         "mean",
         "4903.135365307037",
         "10842995.328552218",
         "10.838861497086508",
         "1.0277549305266698",
         "241.63903406544154",
         "306.04914836396233",
         "10.561093679964142",
         "16.896010757507845",
         "259227.09211116092",
         "61.9305244285074",
         "91.73778574630211",
         "2.6810847153742716"
        ],
        [
         "std",
         "1839.7000820498022",
         "6107181.404545385",
         "6.1077734143294995",
         "0.5384853885720752",
         "454.557985430132",
         "532.173394137885",
         "31.368046961124485",
         "1.4469432250745102",
         "299073.89626063744",
         "219.63106379448098",
         "108.08169717251143",
         "2.748812527136519"
        ],
        [
         "min",
         "1698.0",
         "2004595.0",
         "2.0",
         "0.00722022",
         "0.01",
         "0.01",
         "0.0",
         "15.0",
         "3.0",
         "0.0",
         "25.0",
         "1.0"
        ],
        [
         "25%",
         "4187.0",
         "6003620.0",
         "6.0",
         "1.0",
         "36.644999999999996",
         "52.0",
         "0.0",
         "15.0",
         "29060.0",
         "0.0",
         "37.0",
         "1.0"
        ],
        [
         "50%",
         "4877.5",
         "11007039.0",
         "11.0",
         "1.0",
         "103.785",
         "137.0",
         "0.0",
         "18.0",
         "187304.0",
         "0.0",
         "53.0",
         "2.0"
        ],
        [
         "75%",
         "5472.75",
         "18002536.0",
         "18.0",
         "1.0",
         "299.06",
         "391.75",
         "7.0",
         "18.0",
         "377589.0",
         "9.0",
         "123.0",
         "3.0"
        ],
        [
         "max",
         "8490.0",
         "18002543.0",
         "18.0",
         "20.0",
         "11851.13",
         "12345.0",
         "650.0",
         "18.0",
         "1504498.0",
         "941.0",
         "605.0",
         "24.0"
        ]
       ],
       "shape": {
        "columns": 12,
        "rows": 8
       }
      },
      "text/html": [
       "<div>\n",
       "<style scoped>\n",
       "    .dataframe tbody tr th:only-of-type {\n",
       "        vertical-align: middle;\n",
       "    }\n",
       "\n",
       "    .dataframe tbody tr th {\n",
       "        vertical-align: top;\n",
       "    }\n",
       "\n",
       "    .dataframe thead th {\n",
       "        text-align: right;\n",
       "    }\n",
       "</style>\n",
       "<table border=\"1\" class=\"dataframe\">\n",
       "  <thead>\n",
       "    <tr style=\"text-align: right;\">\n",
       "      <th></th>\n",
       "      <th>n_chk</th>\n",
       "      <th>n_doc</th>\n",
       "      <th>apt</th>\n",
       "      <th>amnt</th>\n",
       "      <th>purch_price</th>\n",
       "      <th>retail_price</th>\n",
       "      <th>disc</th>\n",
       "      <th>pay_type</th>\n",
       "      <th>drug_id</th>\n",
       "      <th>disc_id</th>\n",
       "      <th>employee</th>\n",
       "      <th>pos</th>\n",
       "    </tr>\n",
       "  </thead>\n",
       "  <tbody>\n",
       "    <tr>\n",
       "      <th>count</th>\n",
       "      <td>4462.000000</td>\n",
       "      <td>4.462000e+03</td>\n",
       "      <td>4462.000000</td>\n",
       "      <td>4462.000000</td>\n",
       "      <td>4462.000000</td>\n",
       "      <td>4462.000000</td>\n",
       "      <td>4462.000000</td>\n",
       "      <td>4462.000000</td>\n",
       "      <td>4.462000e+03</td>\n",
       "      <td>4462.000000</td>\n",
       "      <td>4462.000000</td>\n",
       "      <td>4462.000000</td>\n",
       "    </tr>\n",
       "    <tr>\n",
       "      <th>mean</th>\n",
       "      <td>4903.135365</td>\n",
       "      <td>1.084300e+07</td>\n",
       "      <td>10.838861</td>\n",
       "      <td>1.027755</td>\n",
       "      <td>241.639034</td>\n",
       "      <td>306.049148</td>\n",
       "      <td>10.561094</td>\n",
       "      <td>16.896011</td>\n",
       "      <td>2.592271e+05</td>\n",
       "      <td>61.930524</td>\n",
       "      <td>91.737786</td>\n",
       "      <td>2.681085</td>\n",
       "    </tr>\n",
       "    <tr>\n",
       "      <th>std</th>\n",
       "      <td>1839.700082</td>\n",
       "      <td>6.107181e+06</td>\n",
       "      <td>6.107773</td>\n",
       "      <td>0.538485</td>\n",
       "      <td>454.557985</td>\n",
       "      <td>532.173394</td>\n",
       "      <td>31.368047</td>\n",
       "      <td>1.446943</td>\n",
       "      <td>2.990739e+05</td>\n",
       "      <td>219.631064</td>\n",
       "      <td>108.081697</td>\n",
       "      <td>2.748813</td>\n",
       "    </tr>\n",
       "    <tr>\n",
       "      <th>min</th>\n",
       "      <td>1698.000000</td>\n",
       "      <td>2.004595e+06</td>\n",
       "      <td>2.000000</td>\n",
       "      <td>0.007220</td>\n",
       "      <td>0.010000</td>\n",
       "      <td>0.010000</td>\n",
       "      <td>0.000000</td>\n",
       "      <td>15.000000</td>\n",
       "      <td>3.000000e+00</td>\n",
       "      <td>0.000000</td>\n",
       "      <td>25.000000</td>\n",
       "      <td>1.000000</td>\n",
       "    </tr>\n",
       "    <tr>\n",
       "      <th>25%</th>\n",
       "      <td>4187.000000</td>\n",
       "      <td>6.003620e+06</td>\n",
       "      <td>6.000000</td>\n",
       "      <td>1.000000</td>\n",
       "      <td>36.645000</td>\n",
       "      <td>52.000000</td>\n",
       "      <td>0.000000</td>\n",
       "      <td>15.000000</td>\n",
       "      <td>2.906000e+04</td>\n",
       "      <td>0.000000</td>\n",
       "      <td>37.000000</td>\n",
       "      <td>1.000000</td>\n",
       "    </tr>\n",
       "    <tr>\n",
       "      <th>50%</th>\n",
       "      <td>4877.500000</td>\n",
       "      <td>1.100704e+07</td>\n",
       "      <td>11.000000</td>\n",
       "      <td>1.000000</td>\n",
       "      <td>103.785000</td>\n",
       "      <td>137.000000</td>\n",
       "      <td>0.000000</td>\n",
       "      <td>18.000000</td>\n",
       "      <td>1.873040e+05</td>\n",
       "      <td>0.000000</td>\n",
       "      <td>53.000000</td>\n",
       "      <td>2.000000</td>\n",
       "    </tr>\n",
       "    <tr>\n",
       "      <th>75%</th>\n",
       "      <td>5472.750000</td>\n",
       "      <td>1.800254e+07</td>\n",
       "      <td>18.000000</td>\n",
       "      <td>1.000000</td>\n",
       "      <td>299.060000</td>\n",
       "      <td>391.750000</td>\n",
       "      <td>7.000000</td>\n",
       "      <td>18.000000</td>\n",
       "      <td>3.775890e+05</td>\n",
       "      <td>9.000000</td>\n",
       "      <td>123.000000</td>\n",
       "      <td>3.000000</td>\n",
       "    </tr>\n",
       "    <tr>\n",
       "      <th>max</th>\n",
       "      <td>8490.000000</td>\n",
       "      <td>1.800254e+07</td>\n",
       "      <td>18.000000</td>\n",
       "      <td>20.000000</td>\n",
       "      <td>11851.130000</td>\n",
       "      <td>12345.000000</td>\n",
       "      <td>650.000000</td>\n",
       "      <td>18.000000</td>\n",
       "      <td>1.504498e+06</td>\n",
       "      <td>941.000000</td>\n",
       "      <td>605.000000</td>\n",
       "      <td>24.000000</td>\n",
       "    </tr>\n",
       "  </tbody>\n",
       "</table>\n",
       "</div>"
      ],
      "text/plain": [
       "             n_chk         n_doc          apt         amnt   purch_price  \\\n",
       "count  4462.000000  4.462000e+03  4462.000000  4462.000000   4462.000000   \n",
       "mean   4903.135365  1.084300e+07    10.838861     1.027755    241.639034   \n",
       "std    1839.700082  6.107181e+06     6.107773     0.538485    454.557985   \n",
       "min    1698.000000  2.004595e+06     2.000000     0.007220      0.010000   \n",
       "25%    4187.000000  6.003620e+06     6.000000     1.000000     36.645000   \n",
       "50%    4877.500000  1.100704e+07    11.000000     1.000000    103.785000   \n",
       "75%    5472.750000  1.800254e+07    18.000000     1.000000    299.060000   \n",
       "max    8490.000000  1.800254e+07    18.000000    20.000000  11851.130000   \n",
       "\n",
       "       retail_price         disc     pay_type       drug_id      disc_id  \\\n",
       "count   4462.000000  4462.000000  4462.000000  4.462000e+03  4462.000000   \n",
       "mean     306.049148    10.561094    16.896011  2.592271e+05    61.930524   \n",
       "std      532.173394    31.368047     1.446943  2.990739e+05   219.631064   \n",
       "min        0.010000     0.000000    15.000000  3.000000e+00     0.000000   \n",
       "25%       52.000000     0.000000    15.000000  2.906000e+04     0.000000   \n",
       "50%      137.000000     0.000000    18.000000  1.873040e+05     0.000000   \n",
       "75%      391.750000     7.000000    18.000000  3.775890e+05     9.000000   \n",
       "max    12345.000000   650.000000    18.000000  1.504498e+06   941.000000   \n",
       "\n",
       "          employee          pos  \n",
       "count  4462.000000  4462.000000  \n",
       "mean     91.737786     2.681085  \n",
       "std     108.081697     2.748813  \n",
       "min      25.000000     1.000000  \n",
       "25%      37.000000     1.000000  \n",
       "50%      53.000000     2.000000  \n",
       "75%     123.000000     3.000000  \n",
       "max     605.000000    24.000000  "
      ]
     },
     "execution_count": 34,
     "metadata": {},
     "output_type": "execute_result"
    }
   ],
   "source": [
    "# i can use describe method to get most of the descriptive parameters of the dataframe\n",
    "df.describe()\n",
    "# this method only shows non-objective type columns - only int and float type columns will be shown"
   ]
  },
  {
   "cell_type": "code",
   "execution_count": 35,
   "id": "64c6b0ac",
   "metadata": {},
   "outputs": [
    {
     "data": {
      "application/vnd.microsoft.datawrangler.viewer.v0+json": {
       "columns": [
        {
         "name": "pay_type",
         "rawType": "int64",
         "type": "integer"
        },
        {
         "name": "count",
         "rawType": "int64",
         "type": "integer"
        }
       ],
       "ref": "2070536f-6440-42f4-bf15-8d5209c3eaf9",
       "rows": [
        [
         "18",
         "2820"
        ],
        [
         "15",
         "1642"
        ]
       ],
       "shape": {
        "columns": 1,
        "rows": 2
       }
      },
      "text/plain": [
       "pay_type\n",
       "18    2820\n",
       "15    1642\n",
       "Name: count, dtype: int64"
      ]
     },
     "execution_count": 35,
     "metadata": {},
     "output_type": "execute_result"
    }
   ],
   "source": [
    "# to work with categorical data i need to use construction like this\n",
    "df['pay_type'].value_counts()"
   ]
  },
  {
   "cell_type": "code",
   "execution_count": 37,
   "id": "91ac22c4",
   "metadata": {},
   "outputs": [
    {
     "data": {
      "application/vnd.microsoft.datawrangler.viewer.v0+json": {
       "columns": [
        {
         "name": "pay_type",
         "rawType": "int64",
         "type": "integer"
        },
        {
         "name": "count",
         "rawType": "int64",
         "type": "integer"
        }
       ],
       "ref": "2255b527-f650-4f23-a810-046ddd10195b",
       "rows": [
        [
         "18",
         "2820"
        ],
        [
         "15",
         "1642"
        ]
       ],
       "shape": {
        "columns": 1,
        "rows": 2
       }
      },
      "text/plain": [
       "pay_type\n",
       "18    2820\n",
       "15    1642\n",
       "Name: count, dtype: int64"
      ]
     },
     "execution_count": 37,
     "metadata": {},
     "output_type": "execute_result"
    }
   ],
   "source": [
    "# i also can call column by .\n",
    "df.pay_type.value_counts()"
   ]
  },
  {
   "cell_type": "code",
   "execution_count": 44,
   "id": "8f9334a6",
   "metadata": {},
   "outputs": [
    {
     "data": {
      "application/vnd.microsoft.datawrangler.viewer.v0+json": {
       "columns": [
        {
         "name": "apt",
         "rawType": "int64",
         "type": "integer"
        },
        {
         "name": "count",
         "rawType": "int64",
         "type": "integer"
        }
       ],
       "ref": "fe83917c-21b0-422c-aaea-cf7a1705392b",
       "rows": [
        [
         "7",
         "153"
        ],
        [
         "15",
         "177"
        ],
        [
         "17",
         "243"
        ],
        [
         "13",
         "322"
        ],
        [
         "6",
         "511"
        ],
        [
         "11",
         "870"
        ],
        [
         "2",
         "979"
        ],
        [
         "18",
         "1207"
        ]
       ],
       "shape": {
        "columns": 1,
        "rows": 8
       }
      },
      "text/plain": [
       "apt\n",
       "7      153\n",
       "15     177\n",
       "17     243\n",
       "13     322\n",
       "6      511\n",
       "11     870\n",
       "2      979\n",
       "18    1207\n",
       "Name: count, dtype: int64"
      ]
     },
     "execution_count": 44,
     "metadata": {},
     "output_type": "execute_result"
    }
   ],
   "source": [
    "df.apt.value_counts().sort_values()"
   ]
  },
  {
   "cell_type": "code",
   "execution_count": null,
   "id": "ca3010f8",
   "metadata": {},
   "outputs": [
    {
     "data": {
      "application/vnd.microsoft.datawrangler.viewer.v0+json": {
       "columns": [
        {
         "name": "apt",
         "rawType": "int64",
         "type": "integer"
        },
        {
         "name": "proportion",
         "rawType": "float64",
         "type": "float"
        }
       ],
       "ref": "c3b1455a-808f-4b92-b35e-c2470d9bfe77",
       "rows": [
        [
         "18",
         "0.27050649932765575"
        ],
        [
         "2",
         "0.21940833706857912"
        ],
        [
         "11",
         "0.19497982967279248"
        ],
        [
         "6",
         "0.11452263558942179"
        ],
        [
         "13",
         "0.07216494845360824"
        ],
        [
         "17",
         "0.05445988346033169"
        ],
        [
         "15",
         "0.039668310174809505"
        ],
        [
         "7",
         "0.03428955625280143"
        ]
       ],
       "shape": {
        "columns": 1,
        "rows": 8
       }
      },
      "text/plain": [
       "apt\n",
       "18    0.270506\n",
       "2     0.219408\n",
       "11    0.194980\n",
       "6     0.114523\n",
       "13    0.072165\n",
       "17    0.054460\n",
       "15    0.039668\n",
       "7     0.034290\n",
       "Name: proportion, dtype: float64"
      ]
     },
     "execution_count": 45,
     "metadata": {},
     "output_type": "execute_result"
    }
   ],
   "source": [
    "# % from all\n",
    "df.apt.value_counts(normalize=True)"
   ]
  },
  {
   "cell_type": "code",
   "execution_count": null,
   "id": "287b2282",
   "metadata": {},
   "outputs": [],
   "source": []
  }
 ],
 "metadata": {
  "kernelspec": {
   "display_name": "Python 3",
   "language": "python",
   "name": "python3"
  },
  "language_info": {
   "codemirror_mode": {
    "name": "ipython",
    "version": 3
   },
   "file_extension": ".py",
   "mimetype": "text/x-python",
   "name": "python",
   "nbconvert_exporter": "python",
   "pygments_lexer": "ipython3",
   "version": "3.12.1"
  }
 },
 "nbformat": 4,
 "nbformat_minor": 5
}
